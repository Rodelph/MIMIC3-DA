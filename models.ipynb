{
  "cells": [
    {
      "cell_type": "code",
      "execution_count": 1,
      "metadata": {
        "id": "jHsz4PORgxEO"
      },
      "outputs": [],
      "source": [
        "from sklearn.model_selection import train_test_split\n",
        "from sklearn.pipeline import Pipeline\n",
        "from sklearn.preprocessing import StandardScaler\n",
        "from sklearn.metrics import confusion_matrix\n",
        "from sklearn.metrics import balanced_accuracy_score\n",
        "from sklearn.metrics import roc_auc_score\n",
        "from sklearn import metrics\n",
        "from sklearn.metrics import confusion_matrix, ConfusionMatrixDisplay, classification_report\n",
        "from matplotlib import pyplot as plt\n",
        "from sklearn.model_selection import cross_validate\n",
        "from sklearn.model_selection import KFold\n",
        "from sklearn.linear_model import LogisticRegression\n",
        "from sklearn.ensemble import BaggingClassifier\n",
        "from sklearn import svm\n",
        "from sklearn.ensemble import AdaBoostClassifier\n",
        "from sklearn.naive_bayes import GaussianNB\n",
        "from sklearn.neighbors import KNeighborsClassifier\n",
        "from sklearn.ensemble import RandomForestClassifier\n",
        "from sklearn.metrics import log_loss\n",
        "from sklearn.model_selection import train_test_split\n",
        "import pandas as pd\n",
        "import numpy as np\n",
        "from sklearn.feature_selection import SelectKBest, f_classif"
      ]
    },
    {
      "cell_type": "code",
      "execution_count": 3,
      "metadata": {
        "id": "61uB5zrCaECb"
      },
      "outputs": [],
      "source": [
        "bigdata = pd.read_csv('BigData Filled.csv', sep=',', header = 0, index_col = 0)\n",
        "smalldata = pd.read_csv('SmallData Filled.csv', sep=',', header = 0, index_col = 0)"
      ]
    },
    {
      "cell_type": "code",
      "execution_count": 4,
      "metadata": {
        "colab": {
          "base_uri": "https://localhost:8080/",
          "height": 553
        },
        "id": "ez7kCqqndw1H",
        "outputId": "80d61639-969f-44ef-b3ee-7d03c9a4978d"
      },
      "outputs": [
        {
          "data": {
            "text/html": [
              "<div>\n",
              "<style scoped>\n",
              "    .dataframe tbody tr th:only-of-type {\n",
              "        vertical-align: middle;\n",
              "    }\n",
              "\n",
              "    .dataframe tbody tr th {\n",
              "        vertical-align: top;\n",
              "    }\n",
              "\n",
              "    .dataframe thead th {\n",
              "        text-align: right;\n",
              "    }\n",
              "</style>\n",
              "<table border=\"1\" class=\"dataframe\">\n",
              "  <thead>\n",
              "    <tr style=\"text-align: right;\">\n",
              "      <th></th>\n",
              "      <th>Chronic KD</th>\n",
              "      <th>ProBNP (mean)</th>\n",
              "      <th>SD (ProBNP)</th>\n",
              "      <th>Potassium (mean)</th>\n",
              "      <th>SD (Potassium)</th>\n",
              "      <th>Diastolic BP (mean)</th>\n",
              "      <th>SD (DBP)</th>\n",
              "      <th>Respiratory Rate (mean)</th>\n",
              "      <th>SD (RR)</th>\n",
              "      <th>Platelet Count (mean)</th>\n",
              "      <th>...</th>\n",
              "      <th>SD (AG)</th>\n",
              "      <th>Calcium (mean)</th>\n",
              "      <th>SD (Calcium)</th>\n",
              "      <th>Lactate (mean)</th>\n",
              "      <th>SD (Lactate)</th>\n",
              "      <th>Lymphocytes (mean)</th>\n",
              "      <th>SD (Lymph)</th>\n",
              "      <th>Heart Rate (mean)</th>\n",
              "      <th>SD (HR)</th>\n",
              "      <th>In-hospital mortality</th>\n",
              "    </tr>\n",
              "    <tr>\n",
              "      <th>SUBJECT_ID</th>\n",
              "      <th></th>\n",
              "      <th></th>\n",
              "      <th></th>\n",
              "      <th></th>\n",
              "      <th></th>\n",
              "      <th></th>\n",
              "      <th></th>\n",
              "      <th></th>\n",
              "      <th></th>\n",
              "      <th></th>\n",
              "      <th></th>\n",
              "      <th></th>\n",
              "      <th></th>\n",
              "      <th></th>\n",
              "      <th></th>\n",
              "      <th></th>\n",
              "      <th></th>\n",
              "      <th></th>\n",
              "      <th></th>\n",
              "      <th></th>\n",
              "      <th></th>\n",
              "    </tr>\n",
              "  </thead>\n",
              "  <tbody>\n",
              "    <tr>\n",
              "      <th>107</th>\n",
              "      <td>0</td>\n",
              "      <td>3931.5</td>\n",
              "      <td>171.500000</td>\n",
              "      <td>4.541284</td>\n",
              "      <td>0.904952</td>\n",
              "      <td>50.697368</td>\n",
              "      <td>21.412625</td>\n",
              "      <td>16.929293</td>\n",
              "      <td>4.314066</td>\n",
              "      <td>139.642105</td>\n",
              "      <td>...</td>\n",
              "      <td>5.207128</td>\n",
              "      <td>8.637500</td>\n",
              "      <td>0.744319</td>\n",
              "      <td>1.875000</td>\n",
              "      <td>0.489260</td>\n",
              "      <td>17.183333</td>\n",
              "      <td>6.503952</td>\n",
              "      <td>61.112500</td>\n",
              "      <td>20.596866</td>\n",
              "      <td>0</td>\n",
              "    </tr>\n",
              "    <tr>\n",
              "      <th>165</th>\n",
              "      <td>1</td>\n",
              "      <td>833.5</td>\n",
              "      <td>441.500000</td>\n",
              "      <td>3.956338</td>\n",
              "      <td>0.456790</td>\n",
              "      <td>80.565217</td>\n",
              "      <td>10.499797</td>\n",
              "      <td>17.478261</td>\n",
              "      <td>2.356666</td>\n",
              "      <td>154.654545</td>\n",
              "      <td>...</td>\n",
              "      <td>2.581989</td>\n",
              "      <td>8.900000</td>\n",
              "      <td>0.547723</td>\n",
              "      <td>2.350000</td>\n",
              "      <td>0.250000</td>\n",
              "      <td>16.268750</td>\n",
              "      <td>5.464284</td>\n",
              "      <td>69.214286</td>\n",
              "      <td>15.487854</td>\n",
              "      <td>0</td>\n",
              "    </tr>\n",
              "    <tr>\n",
              "      <th>199</th>\n",
              "      <td>0</td>\n",
              "      <td>1812.0</td>\n",
              "      <td>271.000000</td>\n",
              "      <td>4.182353</td>\n",
              "      <td>0.452100</td>\n",
              "      <td>60.129630</td>\n",
              "      <td>9.351925</td>\n",
              "      <td>18.485876</td>\n",
              "      <td>3.581351</td>\n",
              "      <td>267.869565</td>\n",
              "      <td>...</td>\n",
              "      <td>2.766644</td>\n",
              "      <td>8.380000</td>\n",
              "      <td>0.231517</td>\n",
              "      <td>1.433333</td>\n",
              "      <td>0.324893</td>\n",
              "      <td>25.866667</td>\n",
              "      <td>7.923523</td>\n",
              "      <td>67.397436</td>\n",
              "      <td>30.084423</td>\n",
              "      <td>0</td>\n",
              "    </tr>\n",
              "    <tr>\n",
              "      <th>209</th>\n",
              "      <td>0</td>\n",
              "      <td>7850.0</td>\n",
              "      <td>0.000000</td>\n",
              "      <td>4.365625</td>\n",
              "      <td>0.426914</td>\n",
              "      <td>57.202247</td>\n",
              "      <td>11.011924</td>\n",
              "      <td>17.846154</td>\n",
              "      <td>5.738955</td>\n",
              "      <td>154.806452</td>\n",
              "      <td>...</td>\n",
              "      <td>3.162278</td>\n",
              "      <td>8.306667</td>\n",
              "      <td>0.765477</td>\n",
              "      <td>0.900000</td>\n",
              "      <td>0.000000</td>\n",
              "      <td>16.000000</td>\n",
              "      <td>1.042433</td>\n",
              "      <td>66.976562</td>\n",
              "      <td>23.866815</td>\n",
              "      <td>0</td>\n",
              "    </tr>\n",
              "    <tr>\n",
              "      <th>236</th>\n",
              "      <td>0</td>\n",
              "      <td>12036.0</td>\n",
              "      <td>1858.246665</td>\n",
              "      <td>4.298276</td>\n",
              "      <td>0.488485</td>\n",
              "      <td>57.386364</td>\n",
              "      <td>7.986397</td>\n",
              "      <td>16.515924</td>\n",
              "      <td>4.419997</td>\n",
              "      <td>68.776923</td>\n",
              "      <td>...</td>\n",
              "      <td>4.262237</td>\n",
              "      <td>8.036364</td>\n",
              "      <td>0.702298</td>\n",
              "      <td>1.860000</td>\n",
              "      <td>0.605310</td>\n",
              "      <td>12.368182</td>\n",
              "      <td>5.650775</td>\n",
              "      <td>74.376437</td>\n",
              "      <td>23.605616</td>\n",
              "      <td>0</td>\n",
              "    </tr>\n",
              "    <tr>\n",
              "      <th>...</th>\n",
              "      <td>...</td>\n",
              "      <td>...</td>\n",
              "      <td>...</td>\n",
              "      <td>...</td>\n",
              "      <td>...</td>\n",
              "      <td>...</td>\n",
              "      <td>...</td>\n",
              "      <td>...</td>\n",
              "      <td>...</td>\n",
              "      <td>...</td>\n",
              "      <td>...</td>\n",
              "      <td>...</td>\n",
              "      <td>...</td>\n",
              "      <td>...</td>\n",
              "      <td>...</td>\n",
              "      <td>...</td>\n",
              "      <td>...</td>\n",
              "      <td>...</td>\n",
              "      <td>...</td>\n",
              "      <td>...</td>\n",
              "      <td>...</td>\n",
              "    </tr>\n",
              "    <tr>\n",
              "      <th>99747</th>\n",
              "      <td>1</td>\n",
              "      <td>9124.0</td>\n",
              "      <td>0.000000</td>\n",
              "      <td>3.913333</td>\n",
              "      <td>0.513636</td>\n",
              "      <td>49.851064</td>\n",
              "      <td>7.855013</td>\n",
              "      <td>18.525253</td>\n",
              "      <td>5.236514</td>\n",
              "      <td>196.750000</td>\n",
              "      <td>...</td>\n",
              "      <td>2.770103</td>\n",
              "      <td>8.628571</td>\n",
              "      <td>0.406076</td>\n",
              "      <td>2.018248</td>\n",
              "      <td>0.764176</td>\n",
              "      <td>5.200000</td>\n",
              "      <td>0.000000</td>\n",
              "      <td>78.909091</td>\n",
              "      <td>13.161665</td>\n",
              "      <td>0</td>\n",
              "    </tr>\n",
              "    <tr>\n",
              "      <th>99814</th>\n",
              "      <td>0</td>\n",
              "      <td>1734.0</td>\n",
              "      <td>0.000000</td>\n",
              "      <td>3.988889</td>\n",
              "      <td>0.321263</td>\n",
              "      <td>37.480000</td>\n",
              "      <td>9.712343</td>\n",
              "      <td>18.400000</td>\n",
              "      <td>3.382307</td>\n",
              "      <td>330.444444</td>\n",
              "      <td>...</td>\n",
              "      <td>2.160247</td>\n",
              "      <td>8.442857</td>\n",
              "      <td>0.388613</td>\n",
              "      <td>0.900000</td>\n",
              "      <td>0.100000</td>\n",
              "      <td>15.633333</td>\n",
              "      <td>2.939766</td>\n",
              "      <td>65.000000</td>\n",
              "      <td>13.546217</td>\n",
              "      <td>0</td>\n",
              "    </tr>\n",
              "    <tr>\n",
              "      <th>99847</th>\n",
              "      <td>1</td>\n",
              "      <td>33779.0</td>\n",
              "      <td>0.000000</td>\n",
              "      <td>3.878261</td>\n",
              "      <td>0.288861</td>\n",
              "      <td>73.872340</td>\n",
              "      <td>13.739394</td>\n",
              "      <td>21.458333</td>\n",
              "      <td>3.834918</td>\n",
              "      <td>44.320000</td>\n",
              "      <td>...</td>\n",
              "      <td>2.231500</td>\n",
              "      <td>8.100000</td>\n",
              "      <td>0.374166</td>\n",
              "      <td>1.500000</td>\n",
              "      <td>0.000000</td>\n",
              "      <td>4.622222</td>\n",
              "      <td>2.187732</td>\n",
              "      <td>104.833333</td>\n",
              "      <td>14.758049</td>\n",
              "      <td>0</td>\n",
              "    </tr>\n",
              "    <tr>\n",
              "      <th>99893</th>\n",
              "      <td>1</td>\n",
              "      <td>5630.0</td>\n",
              "      <td>0.000000</td>\n",
              "      <td>4.111111</td>\n",
              "      <td>0.477131</td>\n",
              "      <td>51.480769</td>\n",
              "      <td>9.392080</td>\n",
              "      <td>18.428571</td>\n",
              "      <td>4.531072</td>\n",
              "      <td>227.833333</td>\n",
              "      <td>...</td>\n",
              "      <td>2.217356</td>\n",
              "      <td>9.180000</td>\n",
              "      <td>0.360000</td>\n",
              "      <td>1.700000</td>\n",
              "      <td>0.000000</td>\n",
              "      <td>14.886391</td>\n",
              "      <td>4.908924</td>\n",
              "      <td>80.884615</td>\n",
              "      <td>13.185832</td>\n",
              "      <td>0</td>\n",
              "    </tr>\n",
              "    <tr>\n",
              "      <th>99901</th>\n",
              "      <td>1</td>\n",
              "      <td>9792.0</td>\n",
              "      <td>0.000000</td>\n",
              "      <td>3.550000</td>\n",
              "      <td>0.372363</td>\n",
              "      <td>51.301587</td>\n",
              "      <td>8.266657</td>\n",
              "      <td>17.078014</td>\n",
              "      <td>3.222419</td>\n",
              "      <td>149.062500</td>\n",
              "      <td>...</td>\n",
              "      <td>2.872281</td>\n",
              "      <td>9.022222</td>\n",
              "      <td>0.297313</td>\n",
              "      <td>1.300000</td>\n",
              "      <td>0.000000</td>\n",
              "      <td>8.600000</td>\n",
              "      <td>2.200000</td>\n",
              "      <td>86.454545</td>\n",
              "      <td>13.397680</td>\n",
              "      <td>0</td>\n",
              "    </tr>\n",
              "  </tbody>\n",
              "</table>\n",
              "<p>1779 rows × 36 columns</p>\n",
              "</div>"
            ],
            "text/plain": [
              "            Chronic KD  ProBNP (mean)  SD (ProBNP)  Potassium (mean)  \\\n",
              "SUBJECT_ID                                                             \n",
              "107                  0         3931.5   171.500000          4.541284   \n",
              "165                  1          833.5   441.500000          3.956338   \n",
              "199                  0         1812.0   271.000000          4.182353   \n",
              "209                  0         7850.0     0.000000          4.365625   \n",
              "236                  0        12036.0  1858.246665          4.298276   \n",
              "...                ...            ...          ...               ...   \n",
              "99747                1         9124.0     0.000000          3.913333   \n",
              "99814                0         1734.0     0.000000          3.988889   \n",
              "99847                1        33779.0     0.000000          3.878261   \n",
              "99893                1         5630.0     0.000000          4.111111   \n",
              "99901                1         9792.0     0.000000          3.550000   \n",
              "\n",
              "            SD (Potassium)  Diastolic BP (mean)   SD (DBP)  \\\n",
              "SUBJECT_ID                                                   \n",
              "107               0.904952            50.697368  21.412625   \n",
              "165               0.456790            80.565217  10.499797   \n",
              "199               0.452100            60.129630   9.351925   \n",
              "209               0.426914            57.202247  11.011924   \n",
              "236               0.488485            57.386364   7.986397   \n",
              "...                    ...                  ...        ...   \n",
              "99747             0.513636            49.851064   7.855013   \n",
              "99814             0.321263            37.480000   9.712343   \n",
              "99847             0.288861            73.872340  13.739394   \n",
              "99893             0.477131            51.480769   9.392080   \n",
              "99901             0.372363            51.301587   8.266657   \n",
              "\n",
              "            Respiratory Rate (mean)   SD (RR)  Platelet Count (mean)  ...  \\\n",
              "SUBJECT_ID                                                            ...   \n",
              "107                       16.929293  4.314066             139.642105  ...   \n",
              "165                       17.478261  2.356666             154.654545  ...   \n",
              "199                       18.485876  3.581351             267.869565  ...   \n",
              "209                       17.846154  5.738955             154.806452  ...   \n",
              "236                       16.515924  4.419997              68.776923  ...   \n",
              "...                             ...       ...                    ...  ...   \n",
              "99747                     18.525253  5.236514             196.750000  ...   \n",
              "99814                     18.400000  3.382307             330.444444  ...   \n",
              "99847                     21.458333  3.834918              44.320000  ...   \n",
              "99893                     18.428571  4.531072             227.833333  ...   \n",
              "99901                     17.078014  3.222419             149.062500  ...   \n",
              "\n",
              "             SD (AG)  Calcium (mean)  SD (Calcium)  Lactate (mean)  \\\n",
              "SUBJECT_ID                                                           \n",
              "107         5.207128        8.637500      0.744319        1.875000   \n",
              "165         2.581989        8.900000      0.547723        2.350000   \n",
              "199         2.766644        8.380000      0.231517        1.433333   \n",
              "209         3.162278        8.306667      0.765477        0.900000   \n",
              "236         4.262237        8.036364      0.702298        1.860000   \n",
              "...              ...             ...           ...             ...   \n",
              "99747       2.770103        8.628571      0.406076        2.018248   \n",
              "99814       2.160247        8.442857      0.388613        0.900000   \n",
              "99847       2.231500        8.100000      0.374166        1.500000   \n",
              "99893       2.217356        9.180000      0.360000        1.700000   \n",
              "99901       2.872281        9.022222      0.297313        1.300000   \n",
              "\n",
              "            SD (Lactate)  Lymphocytes (mean)  SD (Lymph)  Heart Rate (mean)  \\\n",
              "SUBJECT_ID                                                                    \n",
              "107             0.489260           17.183333    6.503952          61.112500   \n",
              "165             0.250000           16.268750    5.464284          69.214286   \n",
              "199             0.324893           25.866667    7.923523          67.397436   \n",
              "209             0.000000           16.000000    1.042433          66.976562   \n",
              "236             0.605310           12.368182    5.650775          74.376437   \n",
              "...                  ...                 ...         ...                ...   \n",
              "99747           0.764176            5.200000    0.000000          78.909091   \n",
              "99814           0.100000           15.633333    2.939766          65.000000   \n",
              "99847           0.000000            4.622222    2.187732         104.833333   \n",
              "99893           0.000000           14.886391    4.908924          80.884615   \n",
              "99901           0.000000            8.600000    2.200000          86.454545   \n",
              "\n",
              "              SD (HR)  In-hospital mortality  \n",
              "SUBJECT_ID                                    \n",
              "107         20.596866                      0  \n",
              "165         15.487854                      0  \n",
              "199         30.084423                      0  \n",
              "209         23.866815                      0  \n",
              "236         23.605616                      0  \n",
              "...               ...                    ...  \n",
              "99747       13.161665                      0  \n",
              "99814       13.546217                      0  \n",
              "99847       14.758049                      0  \n",
              "99893       13.185832                      0  \n",
              "99901       13.397680                      0  \n",
              "\n",
              "[1779 rows x 36 columns]"
            ]
          },
          "execution_count": 4,
          "metadata": {},
          "output_type": "execute_result"
        }
      ],
      "source": [
        "bigdata"
      ]
    },
    {
      "cell_type": "code",
      "execution_count": 5,
      "metadata": {
        "colab": {
          "base_uri": "https://localhost:8080/",
          "height": 553
        },
        "id": "zTvyfy1KaIt9",
        "outputId": "7f8cabb5-0bbb-4446-b978-dd714b37c148"
      },
      "outputs": [
        {
          "data": {
            "text/html": [
              "<div>\n",
              "<style scoped>\n",
              "    .dataframe tbody tr th:only-of-type {\n",
              "        vertical-align: middle;\n",
              "    }\n",
              "\n",
              "    .dataframe tbody tr th {\n",
              "        vertical-align: top;\n",
              "    }\n",
              "\n",
              "    .dataframe thead th {\n",
              "        text-align: right;\n",
              "    }\n",
              "</style>\n",
              "<table border=\"1\" class=\"dataframe\">\n",
              "  <thead>\n",
              "    <tr style=\"text-align: right;\">\n",
              "      <th></th>\n",
              "      <th>Chronic KD</th>\n",
              "      <th>ProBNP (mean)</th>\n",
              "      <th>SD (ProBNP)</th>\n",
              "      <th>Potassium (mean)</th>\n",
              "      <th>SD (Potassium)</th>\n",
              "      <th>Diastolic BP (mean)</th>\n",
              "      <th>SD (DBP)</th>\n",
              "      <th>Respiratory Rate (mean)</th>\n",
              "      <th>SD (RR)</th>\n",
              "      <th>Platelet Count (mean)</th>\n",
              "      <th>...</th>\n",
              "      <th>SD (AG)</th>\n",
              "      <th>Calcium (mean)</th>\n",
              "      <th>SD (Calcium)</th>\n",
              "      <th>Lactate (mean)</th>\n",
              "      <th>SD (Lactate)</th>\n",
              "      <th>Lymphocytes (mean)</th>\n",
              "      <th>SD (Lymph)</th>\n",
              "      <th>Heart Rate (mean)</th>\n",
              "      <th>SD (HR)</th>\n",
              "      <th>In-hospital mortality</th>\n",
              "    </tr>\n",
              "    <tr>\n",
              "      <th>SUBJECT_ID</th>\n",
              "      <th></th>\n",
              "      <th></th>\n",
              "      <th></th>\n",
              "      <th></th>\n",
              "      <th></th>\n",
              "      <th></th>\n",
              "      <th></th>\n",
              "      <th></th>\n",
              "      <th></th>\n",
              "      <th></th>\n",
              "      <th></th>\n",
              "      <th></th>\n",
              "      <th></th>\n",
              "      <th></th>\n",
              "      <th></th>\n",
              "      <th></th>\n",
              "      <th></th>\n",
              "      <th></th>\n",
              "      <th></th>\n",
              "      <th></th>\n",
              "      <th></th>\n",
              "    </tr>\n",
              "  </thead>\n",
              "  <tbody>\n",
              "    <tr>\n",
              "      <th>107</th>\n",
              "      <td>0</td>\n",
              "      <td>3931.5</td>\n",
              "      <td>171.500000</td>\n",
              "      <td>4.541284</td>\n",
              "      <td>0.904952</td>\n",
              "      <td>50.697368</td>\n",
              "      <td>21.412625</td>\n",
              "      <td>16.929293</td>\n",
              "      <td>4.314066</td>\n",
              "      <td>139.642105</td>\n",
              "      <td>...</td>\n",
              "      <td>5.207128</td>\n",
              "      <td>8.637500</td>\n",
              "      <td>0.744319</td>\n",
              "      <td>1.875000</td>\n",
              "      <td>0.489260</td>\n",
              "      <td>17.183333</td>\n",
              "      <td>6.503952</td>\n",
              "      <td>61.112500</td>\n",
              "      <td>20.596866</td>\n",
              "      <td>0</td>\n",
              "    </tr>\n",
              "    <tr>\n",
              "      <th>165</th>\n",
              "      <td>1</td>\n",
              "      <td>833.5</td>\n",
              "      <td>441.500000</td>\n",
              "      <td>3.956338</td>\n",
              "      <td>0.456790</td>\n",
              "      <td>80.565217</td>\n",
              "      <td>10.499797</td>\n",
              "      <td>17.478261</td>\n",
              "      <td>2.356666</td>\n",
              "      <td>154.654545</td>\n",
              "      <td>...</td>\n",
              "      <td>2.581989</td>\n",
              "      <td>8.900000</td>\n",
              "      <td>0.547723</td>\n",
              "      <td>2.350000</td>\n",
              "      <td>0.250000</td>\n",
              "      <td>16.268750</td>\n",
              "      <td>5.464284</td>\n",
              "      <td>69.214286</td>\n",
              "      <td>15.487854</td>\n",
              "      <td>0</td>\n",
              "    </tr>\n",
              "    <tr>\n",
              "      <th>199</th>\n",
              "      <td>0</td>\n",
              "      <td>1812.0</td>\n",
              "      <td>271.000000</td>\n",
              "      <td>4.182353</td>\n",
              "      <td>0.452100</td>\n",
              "      <td>60.129630</td>\n",
              "      <td>9.351925</td>\n",
              "      <td>18.485876</td>\n",
              "      <td>3.581351</td>\n",
              "      <td>267.869565</td>\n",
              "      <td>...</td>\n",
              "      <td>2.766644</td>\n",
              "      <td>8.380000</td>\n",
              "      <td>0.231517</td>\n",
              "      <td>1.433333</td>\n",
              "      <td>0.324893</td>\n",
              "      <td>25.866667</td>\n",
              "      <td>7.923523</td>\n",
              "      <td>67.397436</td>\n",
              "      <td>30.084423</td>\n",
              "      <td>0</td>\n",
              "    </tr>\n",
              "    <tr>\n",
              "      <th>209</th>\n",
              "      <td>0</td>\n",
              "      <td>7850.0</td>\n",
              "      <td>0.000000</td>\n",
              "      <td>4.365625</td>\n",
              "      <td>0.426914</td>\n",
              "      <td>57.202247</td>\n",
              "      <td>11.011924</td>\n",
              "      <td>17.846154</td>\n",
              "      <td>5.738955</td>\n",
              "      <td>154.806452</td>\n",
              "      <td>...</td>\n",
              "      <td>3.162278</td>\n",
              "      <td>8.306667</td>\n",
              "      <td>0.765477</td>\n",
              "      <td>0.900000</td>\n",
              "      <td>0.000000</td>\n",
              "      <td>16.000000</td>\n",
              "      <td>1.042433</td>\n",
              "      <td>66.976562</td>\n",
              "      <td>23.866815</td>\n",
              "      <td>0</td>\n",
              "    </tr>\n",
              "    <tr>\n",
              "      <th>236</th>\n",
              "      <td>0</td>\n",
              "      <td>12036.0</td>\n",
              "      <td>1858.246665</td>\n",
              "      <td>4.298276</td>\n",
              "      <td>0.488485</td>\n",
              "      <td>57.386364</td>\n",
              "      <td>7.986397</td>\n",
              "      <td>16.515924</td>\n",
              "      <td>4.419997</td>\n",
              "      <td>68.776923</td>\n",
              "      <td>...</td>\n",
              "      <td>4.262237</td>\n",
              "      <td>8.036364</td>\n",
              "      <td>0.702298</td>\n",
              "      <td>1.860000</td>\n",
              "      <td>0.605310</td>\n",
              "      <td>12.368182</td>\n",
              "      <td>5.650775</td>\n",
              "      <td>74.376437</td>\n",
              "      <td>23.605616</td>\n",
              "      <td>0</td>\n",
              "    </tr>\n",
              "    <tr>\n",
              "      <th>...</th>\n",
              "      <td>...</td>\n",
              "      <td>...</td>\n",
              "      <td>...</td>\n",
              "      <td>...</td>\n",
              "      <td>...</td>\n",
              "      <td>...</td>\n",
              "      <td>...</td>\n",
              "      <td>...</td>\n",
              "      <td>...</td>\n",
              "      <td>...</td>\n",
              "      <td>...</td>\n",
              "      <td>...</td>\n",
              "      <td>...</td>\n",
              "      <td>...</td>\n",
              "      <td>...</td>\n",
              "      <td>...</td>\n",
              "      <td>...</td>\n",
              "      <td>...</td>\n",
              "      <td>...</td>\n",
              "      <td>...</td>\n",
              "      <td>...</td>\n",
              "    </tr>\n",
              "    <tr>\n",
              "      <th>99747</th>\n",
              "      <td>1</td>\n",
              "      <td>9124.0</td>\n",
              "      <td>0.000000</td>\n",
              "      <td>3.913333</td>\n",
              "      <td>0.513636</td>\n",
              "      <td>49.851064</td>\n",
              "      <td>7.855013</td>\n",
              "      <td>18.525253</td>\n",
              "      <td>5.236514</td>\n",
              "      <td>196.750000</td>\n",
              "      <td>...</td>\n",
              "      <td>2.770103</td>\n",
              "      <td>8.628571</td>\n",
              "      <td>0.406076</td>\n",
              "      <td>2.018248</td>\n",
              "      <td>0.764176</td>\n",
              "      <td>5.200000</td>\n",
              "      <td>0.000000</td>\n",
              "      <td>78.909091</td>\n",
              "      <td>13.161665</td>\n",
              "      <td>0</td>\n",
              "    </tr>\n",
              "    <tr>\n",
              "      <th>99814</th>\n",
              "      <td>0</td>\n",
              "      <td>1734.0</td>\n",
              "      <td>0.000000</td>\n",
              "      <td>3.988889</td>\n",
              "      <td>0.321263</td>\n",
              "      <td>37.480000</td>\n",
              "      <td>9.712343</td>\n",
              "      <td>18.400000</td>\n",
              "      <td>3.382307</td>\n",
              "      <td>330.444444</td>\n",
              "      <td>...</td>\n",
              "      <td>2.160247</td>\n",
              "      <td>8.442857</td>\n",
              "      <td>0.388613</td>\n",
              "      <td>0.900000</td>\n",
              "      <td>0.100000</td>\n",
              "      <td>15.633333</td>\n",
              "      <td>2.939766</td>\n",
              "      <td>65.000000</td>\n",
              "      <td>13.546217</td>\n",
              "      <td>0</td>\n",
              "    </tr>\n",
              "    <tr>\n",
              "      <th>99847</th>\n",
              "      <td>1</td>\n",
              "      <td>33779.0</td>\n",
              "      <td>0.000000</td>\n",
              "      <td>3.878261</td>\n",
              "      <td>0.288861</td>\n",
              "      <td>73.872340</td>\n",
              "      <td>13.739394</td>\n",
              "      <td>21.458333</td>\n",
              "      <td>3.834918</td>\n",
              "      <td>44.320000</td>\n",
              "      <td>...</td>\n",
              "      <td>2.231500</td>\n",
              "      <td>8.100000</td>\n",
              "      <td>0.374166</td>\n",
              "      <td>1.500000</td>\n",
              "      <td>0.000000</td>\n",
              "      <td>4.622222</td>\n",
              "      <td>2.187732</td>\n",
              "      <td>104.833333</td>\n",
              "      <td>14.758049</td>\n",
              "      <td>0</td>\n",
              "    </tr>\n",
              "    <tr>\n",
              "      <th>99893</th>\n",
              "      <td>1</td>\n",
              "      <td>5630.0</td>\n",
              "      <td>0.000000</td>\n",
              "      <td>4.111111</td>\n",
              "      <td>0.477131</td>\n",
              "      <td>51.480769</td>\n",
              "      <td>9.392080</td>\n",
              "      <td>18.428571</td>\n",
              "      <td>4.531072</td>\n",
              "      <td>227.833333</td>\n",
              "      <td>...</td>\n",
              "      <td>2.217356</td>\n",
              "      <td>9.180000</td>\n",
              "      <td>0.360000</td>\n",
              "      <td>1.700000</td>\n",
              "      <td>0.000000</td>\n",
              "      <td>14.886391</td>\n",
              "      <td>4.908924</td>\n",
              "      <td>80.884615</td>\n",
              "      <td>13.185832</td>\n",
              "      <td>0</td>\n",
              "    </tr>\n",
              "    <tr>\n",
              "      <th>99901</th>\n",
              "      <td>1</td>\n",
              "      <td>9792.0</td>\n",
              "      <td>0.000000</td>\n",
              "      <td>3.550000</td>\n",
              "      <td>0.372363</td>\n",
              "      <td>51.301587</td>\n",
              "      <td>8.266657</td>\n",
              "      <td>17.078014</td>\n",
              "      <td>3.222419</td>\n",
              "      <td>149.062500</td>\n",
              "      <td>...</td>\n",
              "      <td>2.872281</td>\n",
              "      <td>9.022222</td>\n",
              "      <td>0.297313</td>\n",
              "      <td>1.300000</td>\n",
              "      <td>0.000000</td>\n",
              "      <td>8.600000</td>\n",
              "      <td>2.200000</td>\n",
              "      <td>86.454545</td>\n",
              "      <td>13.397680</td>\n",
              "      <td>0</td>\n",
              "    </tr>\n",
              "  </tbody>\n",
              "</table>\n",
              "<p>1779 rows × 36 columns</p>\n",
              "</div>"
            ],
            "text/plain": [
              "            Chronic KD  ProBNP (mean)  SD (ProBNP)  Potassium (mean)  \\\n",
              "SUBJECT_ID                                                             \n",
              "107                  0         3931.5   171.500000          4.541284   \n",
              "165                  1          833.5   441.500000          3.956338   \n",
              "199                  0         1812.0   271.000000          4.182353   \n",
              "209                  0         7850.0     0.000000          4.365625   \n",
              "236                  0        12036.0  1858.246665          4.298276   \n",
              "...                ...            ...          ...               ...   \n",
              "99747                1         9124.0     0.000000          3.913333   \n",
              "99814                0         1734.0     0.000000          3.988889   \n",
              "99847                1        33779.0     0.000000          3.878261   \n",
              "99893                1         5630.0     0.000000          4.111111   \n",
              "99901                1         9792.0     0.000000          3.550000   \n",
              "\n",
              "            SD (Potassium)  Diastolic BP (mean)   SD (DBP)  \\\n",
              "SUBJECT_ID                                                   \n",
              "107               0.904952            50.697368  21.412625   \n",
              "165               0.456790            80.565217  10.499797   \n",
              "199               0.452100            60.129630   9.351925   \n",
              "209               0.426914            57.202247  11.011924   \n",
              "236               0.488485            57.386364   7.986397   \n",
              "...                    ...                  ...        ...   \n",
              "99747             0.513636            49.851064   7.855013   \n",
              "99814             0.321263            37.480000   9.712343   \n",
              "99847             0.288861            73.872340  13.739394   \n",
              "99893             0.477131            51.480769   9.392080   \n",
              "99901             0.372363            51.301587   8.266657   \n",
              "\n",
              "            Respiratory Rate (mean)   SD (RR)  Platelet Count (mean)  ...  \\\n",
              "SUBJECT_ID                                                            ...   \n",
              "107                       16.929293  4.314066             139.642105  ...   \n",
              "165                       17.478261  2.356666             154.654545  ...   \n",
              "199                       18.485876  3.581351             267.869565  ...   \n",
              "209                       17.846154  5.738955             154.806452  ...   \n",
              "236                       16.515924  4.419997              68.776923  ...   \n",
              "...                             ...       ...                    ...  ...   \n",
              "99747                     18.525253  5.236514             196.750000  ...   \n",
              "99814                     18.400000  3.382307             330.444444  ...   \n",
              "99847                     21.458333  3.834918              44.320000  ...   \n",
              "99893                     18.428571  4.531072             227.833333  ...   \n",
              "99901                     17.078014  3.222419             149.062500  ...   \n",
              "\n",
              "             SD (AG)  Calcium (mean)  SD (Calcium)  Lactate (mean)  \\\n",
              "SUBJECT_ID                                                           \n",
              "107         5.207128        8.637500      0.744319        1.875000   \n",
              "165         2.581989        8.900000      0.547723        2.350000   \n",
              "199         2.766644        8.380000      0.231517        1.433333   \n",
              "209         3.162278        8.306667      0.765477        0.900000   \n",
              "236         4.262237        8.036364      0.702298        1.860000   \n",
              "...              ...             ...           ...             ...   \n",
              "99747       2.770103        8.628571      0.406076        2.018248   \n",
              "99814       2.160247        8.442857      0.388613        0.900000   \n",
              "99847       2.231500        8.100000      0.374166        1.500000   \n",
              "99893       2.217356        9.180000      0.360000        1.700000   \n",
              "99901       2.872281        9.022222      0.297313        1.300000   \n",
              "\n",
              "            SD (Lactate)  Lymphocytes (mean)  SD (Lymph)  Heart Rate (mean)  \\\n",
              "SUBJECT_ID                                                                    \n",
              "107             0.489260           17.183333    6.503952          61.112500   \n",
              "165             0.250000           16.268750    5.464284          69.214286   \n",
              "199             0.324893           25.866667    7.923523          67.397436   \n",
              "209             0.000000           16.000000    1.042433          66.976562   \n",
              "236             0.605310           12.368182    5.650775          74.376437   \n",
              "...                  ...                 ...         ...                ...   \n",
              "99747           0.764176            5.200000    0.000000          78.909091   \n",
              "99814           0.100000           15.633333    2.939766          65.000000   \n",
              "99847           0.000000            4.622222    2.187732         104.833333   \n",
              "99893           0.000000           14.886391    4.908924          80.884615   \n",
              "99901           0.000000            8.600000    2.200000          86.454545   \n",
              "\n",
              "              SD (HR)  In-hospital mortality  \n",
              "SUBJECT_ID                                    \n",
              "107         20.596866                      0  \n",
              "165         15.487854                      0  \n",
              "199         30.084423                      0  \n",
              "209         23.866815                      0  \n",
              "236         23.605616                      0  \n",
              "...               ...                    ...  \n",
              "99747       13.161665                      0  \n",
              "99814       13.546217                      0  \n",
              "99847       14.758049                      0  \n",
              "99893       13.185832                      0  \n",
              "99901       13.397680                      0  \n",
              "\n",
              "[1779 rows x 36 columns]"
            ]
          },
          "execution_count": 5,
          "metadata": {},
          "output_type": "execute_result"
        }
      ],
      "source": [
        "#There is still more than 20% missing data from diastolic BP, in order to analyze it's effect all patients without it will be removed (The entire column was removed from the smalldata df)\n",
        "bigdata_filtered = bigdata.loc[~bigdata['Diastolic BP (mean)'].isna()]\n",
        "\n",
        "amount = bigdata_filtered.count(axis=1)      #Get amount of non NaN values per row.\n",
        "entries = np.where(amount > 25)     #Select rows which have more than 70% of entries.\n",
        "\n",
        "bigdata_filtered = bigdata_filtered.iloc[entries]    #Grab only those entries from the df.\n",
        "bigdata_filtered"
      ]
    },
    {
      "cell_type": "code",
      "execution_count": 6,
      "metadata": {
        "colab": {
          "base_uri": "https://localhost:8080/",
          "height": 553
        },
        "id": "Jn4QDd_faMeD",
        "outputId": "fb330f8f-dae2-4101-c567-48594cdadfad"
      },
      "outputs": [
        {
          "data": {
            "text/html": [
              "<div>\n",
              "<style scoped>\n",
              "    .dataframe tbody tr th:only-of-type {\n",
              "        vertical-align: middle;\n",
              "    }\n",
              "\n",
              "    .dataframe tbody tr th {\n",
              "        vertical-align: top;\n",
              "    }\n",
              "\n",
              "    .dataframe thead th {\n",
              "        text-align: right;\n",
              "    }\n",
              "</style>\n",
              "<table border=\"1\" class=\"dataframe\">\n",
              "  <thead>\n",
              "    <tr style=\"text-align: right;\">\n",
              "      <th></th>\n",
              "      <th>Chronic KD</th>\n",
              "      <th>Potassium (mean)</th>\n",
              "      <th>SD (Potassium)</th>\n",
              "      <th>Respiratory Rate (mean)</th>\n",
              "      <th>SD (RR)</th>\n",
              "      <th>Platelet Count (mean)</th>\n",
              "      <th>SD (PC)</th>\n",
              "      <th>Sodium (mean)</th>\n",
              "      <th>SD (sodium)</th>\n",
              "      <th>Urea Nitrogen (mean)</th>\n",
              "      <th>...</th>\n",
              "      <th>SD (AG)</th>\n",
              "      <th>Calcium (mean)</th>\n",
              "      <th>SD (Calcium)</th>\n",
              "      <th>Lactate (mean)</th>\n",
              "      <th>SD (Lactate)</th>\n",
              "      <th>Lymphocytes (mean)</th>\n",
              "      <th>SD (Lymph)</th>\n",
              "      <th>Heart Rate (mean)</th>\n",
              "      <th>SD (HR)</th>\n",
              "      <th>In-hospital mortality</th>\n",
              "    </tr>\n",
              "    <tr>\n",
              "      <th>SUBJECT_ID</th>\n",
              "      <th></th>\n",
              "      <th></th>\n",
              "      <th></th>\n",
              "      <th></th>\n",
              "      <th></th>\n",
              "      <th></th>\n",
              "      <th></th>\n",
              "      <th></th>\n",
              "      <th></th>\n",
              "      <th></th>\n",
              "      <th></th>\n",
              "      <th></th>\n",
              "      <th></th>\n",
              "      <th></th>\n",
              "      <th></th>\n",
              "      <th></th>\n",
              "      <th></th>\n",
              "      <th></th>\n",
              "      <th></th>\n",
              "      <th></th>\n",
              "      <th></th>\n",
              "    </tr>\n",
              "  </thead>\n",
              "  <tbody>\n",
              "    <tr>\n",
              "      <th>3</th>\n",
              "      <td>0</td>\n",
              "      <td>4.316667</td>\n",
              "      <td>0.643619</td>\n",
              "      <td>16.987879</td>\n",
              "      <td>5.798629</td>\n",
              "      <td>260.031250</td>\n",
              "      <td>83.932445</td>\n",
              "      <td>138.027027</td>\n",
              "      <td>3.258971</td>\n",
              "      <td>33.236842</td>\n",
              "      <td>...</td>\n",
              "      <td>4.171331</td>\n",
              "      <td>7.750000</td>\n",
              "      <td>0.829587</td>\n",
              "      <td>3.408333</td>\n",
              "      <td>2.536552</td>\n",
              "      <td>12.300000</td>\n",
              "      <td>5.292582</td>\n",
              "      <td>74.684783</td>\n",
              "      <td>45.299232</td>\n",
              "      <td>0</td>\n",
              "    </tr>\n",
              "    <tr>\n",
              "      <th>9</th>\n",
              "      <td>0</td>\n",
              "      <td>3.310000</td>\n",
              "      <td>0.333017</td>\n",
              "      <td>16.316062</td>\n",
              "      <td>2.605017</td>\n",
              "      <td>274.250000</td>\n",
              "      <td>34.175101</td>\n",
              "      <td>134.300000</td>\n",
              "      <td>3.348134</td>\n",
              "      <td>22.714286</td>\n",
              "      <td>...</td>\n",
              "      <td>1.479020</td>\n",
              "      <td>8.700000</td>\n",
              "      <td>0.650275</td>\n",
              "      <td>1.987500</td>\n",
              "      <td>0.590418</td>\n",
              "      <td>41.600000</td>\n",
              "      <td>0.000000</td>\n",
              "      <td>57.846154</td>\n",
              "      <td>37.734046</td>\n",
              "      <td>1</td>\n",
              "    </tr>\n",
              "    <tr>\n",
              "      <th>21</th>\n",
              "      <td>0</td>\n",
              "      <td>4.147917</td>\n",
              "      <td>0.492438</td>\n",
              "      <td>17.926230</td>\n",
              "      <td>4.542155</td>\n",
              "      <td>235.658537</td>\n",
              "      <td>77.111769</td>\n",
              "      <td>139.363636</td>\n",
              "      <td>3.134057</td>\n",
              "      <td>53.755556</td>\n",
              "      <td>...</td>\n",
              "      <td>5.436502</td>\n",
              "      <td>8.686364</td>\n",
              "      <td>1.118154</td>\n",
              "      <td>2.177778</td>\n",
              "      <td>0.755392</td>\n",
              "      <td>6.866667</td>\n",
              "      <td>2.908226</td>\n",
              "      <td>67.764706</td>\n",
              "      <td>39.504866</td>\n",
              "      <td>1</td>\n",
              "    </tr>\n",
              "    <tr>\n",
              "      <th>26</th>\n",
              "      <td>0</td>\n",
              "      <td>4.140000</td>\n",
              "      <td>0.297321</td>\n",
              "      <td>20.060000</td>\n",
              "      <td>2.907989</td>\n",
              "      <td>174.166667</td>\n",
              "      <td>12.824672</td>\n",
              "      <td>137.625000</td>\n",
              "      <td>2.446298</td>\n",
              "      <td>31.500000</td>\n",
              "      <td>...</td>\n",
              "      <td>1.118034</td>\n",
              "      <td>8.340000</td>\n",
              "      <td>0.287054</td>\n",
              "      <td>2.259983</td>\n",
              "      <td>0.809303</td>\n",
              "      <td>14.454593</td>\n",
              "      <td>4.063320</td>\n",
              "      <td>52.371429</td>\n",
              "      <td>26.813172</td>\n",
              "      <td>0</td>\n",
              "    </tr>\n",
              "    <tr>\n",
              "      <th>34</th>\n",
              "      <td>0</td>\n",
              "      <td>4.033333</td>\n",
              "      <td>0.268742</td>\n",
              "      <td>18.338462</td>\n",
              "      <td>4.977726</td>\n",
              "      <td>304.714286</td>\n",
              "      <td>37.381104</td>\n",
              "      <td>141.000000</td>\n",
              "      <td>1.414214</td>\n",
              "      <td>29.142857</td>\n",
              "      <td>...</td>\n",
              "      <td>2.315167</td>\n",
              "      <td>8.750000</td>\n",
              "      <td>0.229129</td>\n",
              "      <td>1.700000</td>\n",
              "      <td>0.000000</td>\n",
              "      <td>11.650000</td>\n",
              "      <td>0.250000</td>\n",
              "      <td>53.214286</td>\n",
              "      <td>24.950909</td>\n",
              "      <td>0</td>\n",
              "    </tr>\n",
              "    <tr>\n",
              "      <th>...</th>\n",
              "      <td>...</td>\n",
              "      <td>...</td>\n",
              "      <td>...</td>\n",
              "      <td>...</td>\n",
              "      <td>...</td>\n",
              "      <td>...</td>\n",
              "      <td>...</td>\n",
              "      <td>...</td>\n",
              "      <td>...</td>\n",
              "      <td>...</td>\n",
              "      <td>...</td>\n",
              "      <td>...</td>\n",
              "      <td>...</td>\n",
              "      <td>...</td>\n",
              "      <td>...</td>\n",
              "      <td>...</td>\n",
              "      <td>...</td>\n",
              "      <td>...</td>\n",
              "      <td>...</td>\n",
              "      <td>...</td>\n",
              "      <td>...</td>\n",
              "    </tr>\n",
              "    <tr>\n",
              "      <th>99938</th>\n",
              "      <td>1</td>\n",
              "      <td>4.078261</td>\n",
              "      <td>0.351341</td>\n",
              "      <td>21.575221</td>\n",
              "      <td>3.928127</td>\n",
              "      <td>198.466667</td>\n",
              "      <td>55.556418</td>\n",
              "      <td>129.842105</td>\n",
              "      <td>2.253959</td>\n",
              "      <td>23.421053</td>\n",
              "      <td>...</td>\n",
              "      <td>2.357023</td>\n",
              "      <td>8.500000</td>\n",
              "      <td>0.384708</td>\n",
              "      <td>1.350000</td>\n",
              "      <td>0.269258</td>\n",
              "      <td>19.100000</td>\n",
              "      <td>2.900000</td>\n",
              "      <td>83.761905</td>\n",
              "      <td>21.210685</td>\n",
              "      <td>0</td>\n",
              "    </tr>\n",
              "    <tr>\n",
              "      <th>99944</th>\n",
              "      <td>1</td>\n",
              "      <td>4.200000</td>\n",
              "      <td>0.591608</td>\n",
              "      <td>22.644860</td>\n",
              "      <td>4.160905</td>\n",
              "      <td>311.125000</td>\n",
              "      <td>27.057520</td>\n",
              "      <td>139.125000</td>\n",
              "      <td>2.204399</td>\n",
              "      <td>33.555556</td>\n",
              "      <td>...</td>\n",
              "      <td>1.414214</td>\n",
              "      <td>8.442857</td>\n",
              "      <td>0.306394</td>\n",
              "      <td>1.000000</td>\n",
              "      <td>0.000000</td>\n",
              "      <td>5.233333</td>\n",
              "      <td>0.946338</td>\n",
              "      <td>81.315789</td>\n",
              "      <td>18.417244</td>\n",
              "      <td>0</td>\n",
              "    </tr>\n",
              "    <tr>\n",
              "      <th>99982</th>\n",
              "      <td>0</td>\n",
              "      <td>3.875000</td>\n",
              "      <td>0.348454</td>\n",
              "      <td>16.654008</td>\n",
              "      <td>4.706414</td>\n",
              "      <td>123.612903</td>\n",
              "      <td>27.475124</td>\n",
              "      <td>135.681818</td>\n",
              "      <td>2.753285</td>\n",
              "      <td>28.536585</td>\n",
              "      <td>...</td>\n",
              "      <td>3.162278</td>\n",
              "      <td>8.977778</td>\n",
              "      <td>0.289742</td>\n",
              "      <td>1.740000</td>\n",
              "      <td>0.492341</td>\n",
              "      <td>17.500000</td>\n",
              "      <td>2.083267</td>\n",
              "      <td>86.980000</td>\n",
              "      <td>17.143440</td>\n",
              "      <td>0</td>\n",
              "    </tr>\n",
              "    <tr>\n",
              "      <th>99991</th>\n",
              "      <td>0</td>\n",
              "      <td>3.773333</td>\n",
              "      <td>0.267000</td>\n",
              "      <td>23.961538</td>\n",
              "      <td>5.274983</td>\n",
              "      <td>254.500000</td>\n",
              "      <td>90.660079</td>\n",
              "      <td>143.000000</td>\n",
              "      <td>2.415229</td>\n",
              "      <td>20.333333</td>\n",
              "      <td>...</td>\n",
              "      <td>1.972027</td>\n",
              "      <td>7.600000</td>\n",
              "      <td>0.684105</td>\n",
              "      <td>1.400000</td>\n",
              "      <td>0.474342</td>\n",
              "      <td>22.500000</td>\n",
              "      <td>5.500000</td>\n",
              "      <td>95.265306</td>\n",
              "      <td>18.206885</td>\n",
              "      <td>0</td>\n",
              "    </tr>\n",
              "    <tr>\n",
              "      <th>99995</th>\n",
              "      <td>0</td>\n",
              "      <td>3.775000</td>\n",
              "      <td>0.414578</td>\n",
              "      <td>20.728814</td>\n",
              "      <td>3.588260</td>\n",
              "      <td>159.666667</td>\n",
              "      <td>26.911377</td>\n",
              "      <td>137.500000</td>\n",
              "      <td>1.118034</td>\n",
              "      <td>11.500000</td>\n",
              "      <td>...</td>\n",
              "      <td>1.118034</td>\n",
              "      <td>8.433333</td>\n",
              "      <td>0.169967</td>\n",
              "      <td>1.200000</td>\n",
              "      <td>0.223607</td>\n",
              "      <td>14.454593</td>\n",
              "      <td>4.063320</td>\n",
              "      <td>71.696970</td>\n",
              "      <td>19.359243</td>\n",
              "      <td>0</td>\n",
              "    </tr>\n",
              "  </tbody>\n",
              "</table>\n",
              "<p>9746 rows × 32 columns</p>\n",
              "</div>"
            ],
            "text/plain": [
              "            Chronic KD  Potassium (mean)  SD (Potassium)  \\\n",
              "SUBJECT_ID                                                 \n",
              "3                    0          4.316667        0.643619   \n",
              "9                    0          3.310000        0.333017   \n",
              "21                   0          4.147917        0.492438   \n",
              "26                   0          4.140000        0.297321   \n",
              "34                   0          4.033333        0.268742   \n",
              "...                ...               ...             ...   \n",
              "99938                1          4.078261        0.351341   \n",
              "99944                1          4.200000        0.591608   \n",
              "99982                0          3.875000        0.348454   \n",
              "99991                0          3.773333        0.267000   \n",
              "99995                0          3.775000        0.414578   \n",
              "\n",
              "            Respiratory Rate (mean)   SD (RR)  Platelet Count (mean)  \\\n",
              "SUBJECT_ID                                                             \n",
              "3                         16.987879  5.798629             260.031250   \n",
              "9                         16.316062  2.605017             274.250000   \n",
              "21                        17.926230  4.542155             235.658537   \n",
              "26                        20.060000  2.907989             174.166667   \n",
              "34                        18.338462  4.977726             304.714286   \n",
              "...                             ...       ...                    ...   \n",
              "99938                     21.575221  3.928127             198.466667   \n",
              "99944                     22.644860  4.160905             311.125000   \n",
              "99982                     16.654008  4.706414             123.612903   \n",
              "99991                     23.961538  5.274983             254.500000   \n",
              "99995                     20.728814  3.588260             159.666667   \n",
              "\n",
              "              SD (PC)  Sodium (mean)  SD (sodium)  Urea Nitrogen (mean)  ...  \\\n",
              "SUBJECT_ID                                                               ...   \n",
              "3           83.932445     138.027027     3.258971             33.236842  ...   \n",
              "9           34.175101     134.300000     3.348134             22.714286  ...   \n",
              "21          77.111769     139.363636     3.134057             53.755556  ...   \n",
              "26          12.824672     137.625000     2.446298             31.500000  ...   \n",
              "34          37.381104     141.000000     1.414214             29.142857  ...   \n",
              "...               ...            ...          ...                   ...  ...   \n",
              "99938       55.556418     129.842105     2.253959             23.421053  ...   \n",
              "99944       27.057520     139.125000     2.204399             33.555556  ...   \n",
              "99982       27.475124     135.681818     2.753285             28.536585  ...   \n",
              "99991       90.660079     143.000000     2.415229             20.333333  ...   \n",
              "99995       26.911377     137.500000     1.118034             11.500000  ...   \n",
              "\n",
              "             SD (AG)  Calcium (mean)  SD (Calcium)  Lactate (mean)  \\\n",
              "SUBJECT_ID                                                           \n",
              "3           4.171331        7.750000      0.829587        3.408333   \n",
              "9           1.479020        8.700000      0.650275        1.987500   \n",
              "21          5.436502        8.686364      1.118154        2.177778   \n",
              "26          1.118034        8.340000      0.287054        2.259983   \n",
              "34          2.315167        8.750000      0.229129        1.700000   \n",
              "...              ...             ...           ...             ...   \n",
              "99938       2.357023        8.500000      0.384708        1.350000   \n",
              "99944       1.414214        8.442857      0.306394        1.000000   \n",
              "99982       3.162278        8.977778      0.289742        1.740000   \n",
              "99991       1.972027        7.600000      0.684105        1.400000   \n",
              "99995       1.118034        8.433333      0.169967        1.200000   \n",
              "\n",
              "            SD (Lactate)  Lymphocytes (mean)  SD (Lymph)  Heart Rate (mean)  \\\n",
              "SUBJECT_ID                                                                    \n",
              "3               2.536552           12.300000    5.292582          74.684783   \n",
              "9               0.590418           41.600000    0.000000          57.846154   \n",
              "21              0.755392            6.866667    2.908226          67.764706   \n",
              "26              0.809303           14.454593    4.063320          52.371429   \n",
              "34              0.000000           11.650000    0.250000          53.214286   \n",
              "...                  ...                 ...         ...                ...   \n",
              "99938           0.269258           19.100000    2.900000          83.761905   \n",
              "99944           0.000000            5.233333    0.946338          81.315789   \n",
              "99982           0.492341           17.500000    2.083267          86.980000   \n",
              "99991           0.474342           22.500000    5.500000          95.265306   \n",
              "99995           0.223607           14.454593    4.063320          71.696970   \n",
              "\n",
              "              SD (HR)  In-hospital mortality  \n",
              "SUBJECT_ID                                    \n",
              "3           45.299232                      0  \n",
              "9           37.734046                      1  \n",
              "21          39.504866                      1  \n",
              "26          26.813172                      0  \n",
              "34          24.950909                      0  \n",
              "...               ...                    ...  \n",
              "99938       21.210685                      0  \n",
              "99944       18.417244                      0  \n",
              "99982       17.143440                      0  \n",
              "99991       18.206885                      0  \n",
              "99995       19.359243                      0  \n",
              "\n",
              "[9746 rows x 32 columns]"
            ]
          },
          "execution_count": 6,
          "metadata": {},
          "output_type": "execute_result"
        }
      ],
      "source": [
        "amount = smalldata.count(axis=1)      #Get amount of non NaN values per row.\n",
        "entries = np.where(amount > 22)       #Select rows which have more than 70% of entries.\n",
        "\n",
        "smalldata_filtered = smalldata.iloc[entries]    #Grab only those entries from the df.\n",
        "smalldata_filtered"
      ]
    },
    {
      "cell_type": "code",
      "execution_count": 7,
      "metadata": {
        "colab": {
          "base_uri": "https://localhost:8080/",
          "height": 553
        },
        "id": "Cna-ZZcCaQf7",
        "outputId": "9177c405-d948-4fa9-aee7-0aebf93c0872"
      },
      "outputs": [
        {
          "data": {
            "text/html": [
              "<div>\n",
              "<style scoped>\n",
              "    .dataframe tbody tr th:only-of-type {\n",
              "        vertical-align: middle;\n",
              "    }\n",
              "\n",
              "    .dataframe tbody tr th {\n",
              "        vertical-align: top;\n",
              "    }\n",
              "\n",
              "    .dataframe thead th {\n",
              "        text-align: right;\n",
              "    }\n",
              "</style>\n",
              "<table border=\"1\" class=\"dataframe\">\n",
              "  <thead>\n",
              "    <tr style=\"text-align: right;\">\n",
              "      <th></th>\n",
              "      <th>Chronic KD</th>\n",
              "      <th>ProBNP (mean)</th>\n",
              "      <th>SD (ProBNP)</th>\n",
              "      <th>Potassium (mean)</th>\n",
              "      <th>SD (Potassium)</th>\n",
              "      <th>Diastolic BP (mean)</th>\n",
              "      <th>SD (DBP)</th>\n",
              "      <th>Respiratory Rate (mean)</th>\n",
              "      <th>SD (RR)</th>\n",
              "      <th>Platelet Count (mean)</th>\n",
              "      <th>...</th>\n",
              "      <th>SD (AG)</th>\n",
              "      <th>Calcium (mean)</th>\n",
              "      <th>SD (Calcium)</th>\n",
              "      <th>Lactate (mean)</th>\n",
              "      <th>SD (Lactate)</th>\n",
              "      <th>Lymphocytes (mean)</th>\n",
              "      <th>SD (Lymph)</th>\n",
              "      <th>Heart Rate (mean)</th>\n",
              "      <th>SD (HR)</th>\n",
              "      <th>In-hospital mortality</th>\n",
              "    </tr>\n",
              "    <tr>\n",
              "      <th>SUBJECT_ID</th>\n",
              "      <th></th>\n",
              "      <th></th>\n",
              "      <th></th>\n",
              "      <th></th>\n",
              "      <th></th>\n",
              "      <th></th>\n",
              "      <th></th>\n",
              "      <th></th>\n",
              "      <th></th>\n",
              "      <th></th>\n",
              "      <th></th>\n",
              "      <th></th>\n",
              "      <th></th>\n",
              "      <th></th>\n",
              "      <th></th>\n",
              "      <th></th>\n",
              "      <th></th>\n",
              "      <th></th>\n",
              "      <th></th>\n",
              "      <th></th>\n",
              "      <th></th>\n",
              "    </tr>\n",
              "  </thead>\n",
              "  <tbody>\n",
              "    <tr>\n",
              "      <th>107</th>\n",
              "      <td>0</td>\n",
              "      <td>3931.5</td>\n",
              "      <td>171.500000</td>\n",
              "      <td>4.541284</td>\n",
              "      <td>0.904952</td>\n",
              "      <td>50.697368</td>\n",
              "      <td>21.412625</td>\n",
              "      <td>16.929293</td>\n",
              "      <td>4.314066</td>\n",
              "      <td>139.642105</td>\n",
              "      <td>...</td>\n",
              "      <td>5.207128</td>\n",
              "      <td>8.637500</td>\n",
              "      <td>0.744319</td>\n",
              "      <td>1.875000</td>\n",
              "      <td>0.489260</td>\n",
              "      <td>17.183333</td>\n",
              "      <td>6.503952</td>\n",
              "      <td>61.112500</td>\n",
              "      <td>20.596866</td>\n",
              "      <td>0</td>\n",
              "    </tr>\n",
              "    <tr>\n",
              "      <th>165</th>\n",
              "      <td>1</td>\n",
              "      <td>833.5</td>\n",
              "      <td>441.500000</td>\n",
              "      <td>3.956338</td>\n",
              "      <td>0.456790</td>\n",
              "      <td>80.565217</td>\n",
              "      <td>10.499797</td>\n",
              "      <td>17.478261</td>\n",
              "      <td>2.356666</td>\n",
              "      <td>154.654545</td>\n",
              "      <td>...</td>\n",
              "      <td>2.581989</td>\n",
              "      <td>8.900000</td>\n",
              "      <td>0.547723</td>\n",
              "      <td>2.350000</td>\n",
              "      <td>0.250000</td>\n",
              "      <td>16.268750</td>\n",
              "      <td>5.464284</td>\n",
              "      <td>69.214286</td>\n",
              "      <td>15.487854</td>\n",
              "      <td>0</td>\n",
              "    </tr>\n",
              "    <tr>\n",
              "      <th>199</th>\n",
              "      <td>0</td>\n",
              "      <td>1812.0</td>\n",
              "      <td>271.000000</td>\n",
              "      <td>4.182353</td>\n",
              "      <td>0.452100</td>\n",
              "      <td>60.129630</td>\n",
              "      <td>9.351925</td>\n",
              "      <td>18.485876</td>\n",
              "      <td>3.581351</td>\n",
              "      <td>267.869565</td>\n",
              "      <td>...</td>\n",
              "      <td>2.766644</td>\n",
              "      <td>8.380000</td>\n",
              "      <td>0.231517</td>\n",
              "      <td>1.433333</td>\n",
              "      <td>0.324893</td>\n",
              "      <td>25.866667</td>\n",
              "      <td>7.923523</td>\n",
              "      <td>67.397436</td>\n",
              "      <td>30.084423</td>\n",
              "      <td>0</td>\n",
              "    </tr>\n",
              "    <tr>\n",
              "      <th>209</th>\n",
              "      <td>0</td>\n",
              "      <td>7850.0</td>\n",
              "      <td>0.000000</td>\n",
              "      <td>4.365625</td>\n",
              "      <td>0.426914</td>\n",
              "      <td>57.202247</td>\n",
              "      <td>11.011924</td>\n",
              "      <td>17.846154</td>\n",
              "      <td>5.738955</td>\n",
              "      <td>154.806452</td>\n",
              "      <td>...</td>\n",
              "      <td>3.162278</td>\n",
              "      <td>8.306667</td>\n",
              "      <td>0.765477</td>\n",
              "      <td>0.900000</td>\n",
              "      <td>0.000000</td>\n",
              "      <td>16.000000</td>\n",
              "      <td>1.042433</td>\n",
              "      <td>66.976562</td>\n",
              "      <td>23.866815</td>\n",
              "      <td>0</td>\n",
              "    </tr>\n",
              "    <tr>\n",
              "      <th>236</th>\n",
              "      <td>0</td>\n",
              "      <td>12036.0</td>\n",
              "      <td>1858.246665</td>\n",
              "      <td>4.298276</td>\n",
              "      <td>0.488485</td>\n",
              "      <td>57.386364</td>\n",
              "      <td>7.986397</td>\n",
              "      <td>16.515924</td>\n",
              "      <td>4.419997</td>\n",
              "      <td>68.776923</td>\n",
              "      <td>...</td>\n",
              "      <td>4.262237</td>\n",
              "      <td>8.036364</td>\n",
              "      <td>0.702298</td>\n",
              "      <td>1.860000</td>\n",
              "      <td>0.605310</td>\n",
              "      <td>12.368182</td>\n",
              "      <td>5.650775</td>\n",
              "      <td>74.376437</td>\n",
              "      <td>23.605616</td>\n",
              "      <td>0</td>\n",
              "    </tr>\n",
              "    <tr>\n",
              "      <th>...</th>\n",
              "      <td>...</td>\n",
              "      <td>...</td>\n",
              "      <td>...</td>\n",
              "      <td>...</td>\n",
              "      <td>...</td>\n",
              "      <td>...</td>\n",
              "      <td>...</td>\n",
              "      <td>...</td>\n",
              "      <td>...</td>\n",
              "      <td>...</td>\n",
              "      <td>...</td>\n",
              "      <td>...</td>\n",
              "      <td>...</td>\n",
              "      <td>...</td>\n",
              "      <td>...</td>\n",
              "      <td>...</td>\n",
              "      <td>...</td>\n",
              "      <td>...</td>\n",
              "      <td>...</td>\n",
              "      <td>...</td>\n",
              "      <td>...</td>\n",
              "    </tr>\n",
              "    <tr>\n",
              "      <th>99747</th>\n",
              "      <td>1</td>\n",
              "      <td>9124.0</td>\n",
              "      <td>0.000000</td>\n",
              "      <td>3.913333</td>\n",
              "      <td>0.513636</td>\n",
              "      <td>49.851064</td>\n",
              "      <td>7.855013</td>\n",
              "      <td>18.525253</td>\n",
              "      <td>5.236514</td>\n",
              "      <td>196.750000</td>\n",
              "      <td>...</td>\n",
              "      <td>2.770103</td>\n",
              "      <td>8.628571</td>\n",
              "      <td>0.406076</td>\n",
              "      <td>2.018248</td>\n",
              "      <td>0.764176</td>\n",
              "      <td>5.200000</td>\n",
              "      <td>0.000000</td>\n",
              "      <td>78.909091</td>\n",
              "      <td>13.161665</td>\n",
              "      <td>0</td>\n",
              "    </tr>\n",
              "    <tr>\n",
              "      <th>99814</th>\n",
              "      <td>0</td>\n",
              "      <td>1734.0</td>\n",
              "      <td>0.000000</td>\n",
              "      <td>3.988889</td>\n",
              "      <td>0.321263</td>\n",
              "      <td>37.480000</td>\n",
              "      <td>9.712343</td>\n",
              "      <td>18.400000</td>\n",
              "      <td>3.382307</td>\n",
              "      <td>330.444444</td>\n",
              "      <td>...</td>\n",
              "      <td>2.160247</td>\n",
              "      <td>8.442857</td>\n",
              "      <td>0.388613</td>\n",
              "      <td>0.900000</td>\n",
              "      <td>0.100000</td>\n",
              "      <td>15.633333</td>\n",
              "      <td>2.939766</td>\n",
              "      <td>65.000000</td>\n",
              "      <td>13.546217</td>\n",
              "      <td>0</td>\n",
              "    </tr>\n",
              "    <tr>\n",
              "      <th>99847</th>\n",
              "      <td>1</td>\n",
              "      <td>33779.0</td>\n",
              "      <td>0.000000</td>\n",
              "      <td>3.878261</td>\n",
              "      <td>0.288861</td>\n",
              "      <td>73.872340</td>\n",
              "      <td>13.739394</td>\n",
              "      <td>21.458333</td>\n",
              "      <td>3.834918</td>\n",
              "      <td>44.320000</td>\n",
              "      <td>...</td>\n",
              "      <td>2.231500</td>\n",
              "      <td>8.100000</td>\n",
              "      <td>0.374166</td>\n",
              "      <td>1.500000</td>\n",
              "      <td>0.000000</td>\n",
              "      <td>4.622222</td>\n",
              "      <td>2.187732</td>\n",
              "      <td>104.833333</td>\n",
              "      <td>14.758049</td>\n",
              "      <td>0</td>\n",
              "    </tr>\n",
              "    <tr>\n",
              "      <th>99893</th>\n",
              "      <td>1</td>\n",
              "      <td>5630.0</td>\n",
              "      <td>0.000000</td>\n",
              "      <td>4.111111</td>\n",
              "      <td>0.477131</td>\n",
              "      <td>51.480769</td>\n",
              "      <td>9.392080</td>\n",
              "      <td>18.428571</td>\n",
              "      <td>4.531072</td>\n",
              "      <td>227.833333</td>\n",
              "      <td>...</td>\n",
              "      <td>2.217356</td>\n",
              "      <td>9.180000</td>\n",
              "      <td>0.360000</td>\n",
              "      <td>1.700000</td>\n",
              "      <td>0.000000</td>\n",
              "      <td>14.886391</td>\n",
              "      <td>4.908924</td>\n",
              "      <td>80.884615</td>\n",
              "      <td>13.185832</td>\n",
              "      <td>0</td>\n",
              "    </tr>\n",
              "    <tr>\n",
              "      <th>99901</th>\n",
              "      <td>1</td>\n",
              "      <td>9792.0</td>\n",
              "      <td>0.000000</td>\n",
              "      <td>3.550000</td>\n",
              "      <td>0.372363</td>\n",
              "      <td>51.301587</td>\n",
              "      <td>8.266657</td>\n",
              "      <td>17.078014</td>\n",
              "      <td>3.222419</td>\n",
              "      <td>149.062500</td>\n",
              "      <td>...</td>\n",
              "      <td>2.872281</td>\n",
              "      <td>9.022222</td>\n",
              "      <td>0.297313</td>\n",
              "      <td>1.300000</td>\n",
              "      <td>0.000000</td>\n",
              "      <td>8.600000</td>\n",
              "      <td>2.200000</td>\n",
              "      <td>86.454545</td>\n",
              "      <td>13.397680</td>\n",
              "      <td>0</td>\n",
              "    </tr>\n",
              "  </tbody>\n",
              "</table>\n",
              "<p>1779 rows × 36 columns</p>\n",
              "</div>"
            ],
            "text/plain": [
              "            Chronic KD  ProBNP (mean)  SD (ProBNP)  Potassium (mean)  \\\n",
              "SUBJECT_ID                                                             \n",
              "107                  0         3931.5   171.500000          4.541284   \n",
              "165                  1          833.5   441.500000          3.956338   \n",
              "199                  0         1812.0   271.000000          4.182353   \n",
              "209                  0         7850.0     0.000000          4.365625   \n",
              "236                  0        12036.0  1858.246665          4.298276   \n",
              "...                ...            ...          ...               ...   \n",
              "99747                1         9124.0     0.000000          3.913333   \n",
              "99814                0         1734.0     0.000000          3.988889   \n",
              "99847                1        33779.0     0.000000          3.878261   \n",
              "99893                1         5630.0     0.000000          4.111111   \n",
              "99901                1         9792.0     0.000000          3.550000   \n",
              "\n",
              "            SD (Potassium)  Diastolic BP (mean)   SD (DBP)  \\\n",
              "SUBJECT_ID                                                   \n",
              "107               0.904952            50.697368  21.412625   \n",
              "165               0.456790            80.565217  10.499797   \n",
              "199               0.452100            60.129630   9.351925   \n",
              "209               0.426914            57.202247  11.011924   \n",
              "236               0.488485            57.386364   7.986397   \n",
              "...                    ...                  ...        ...   \n",
              "99747             0.513636            49.851064   7.855013   \n",
              "99814             0.321263            37.480000   9.712343   \n",
              "99847             0.288861            73.872340  13.739394   \n",
              "99893             0.477131            51.480769   9.392080   \n",
              "99901             0.372363            51.301587   8.266657   \n",
              "\n",
              "            Respiratory Rate (mean)   SD (RR)  Platelet Count (mean)  ...  \\\n",
              "SUBJECT_ID                                                            ...   \n",
              "107                       16.929293  4.314066             139.642105  ...   \n",
              "165                       17.478261  2.356666             154.654545  ...   \n",
              "199                       18.485876  3.581351             267.869565  ...   \n",
              "209                       17.846154  5.738955             154.806452  ...   \n",
              "236                       16.515924  4.419997              68.776923  ...   \n",
              "...                             ...       ...                    ...  ...   \n",
              "99747                     18.525253  5.236514             196.750000  ...   \n",
              "99814                     18.400000  3.382307             330.444444  ...   \n",
              "99847                     21.458333  3.834918              44.320000  ...   \n",
              "99893                     18.428571  4.531072             227.833333  ...   \n",
              "99901                     17.078014  3.222419             149.062500  ...   \n",
              "\n",
              "             SD (AG)  Calcium (mean)  SD (Calcium)  Lactate (mean)  \\\n",
              "SUBJECT_ID                                                           \n",
              "107         5.207128        8.637500      0.744319        1.875000   \n",
              "165         2.581989        8.900000      0.547723        2.350000   \n",
              "199         2.766644        8.380000      0.231517        1.433333   \n",
              "209         3.162278        8.306667      0.765477        0.900000   \n",
              "236         4.262237        8.036364      0.702298        1.860000   \n",
              "...              ...             ...           ...             ...   \n",
              "99747       2.770103        8.628571      0.406076        2.018248   \n",
              "99814       2.160247        8.442857      0.388613        0.900000   \n",
              "99847       2.231500        8.100000      0.374166        1.500000   \n",
              "99893       2.217356        9.180000      0.360000        1.700000   \n",
              "99901       2.872281        9.022222      0.297313        1.300000   \n",
              "\n",
              "            SD (Lactate)  Lymphocytes (mean)  SD (Lymph)  Heart Rate (mean)  \\\n",
              "SUBJECT_ID                                                                    \n",
              "107             0.489260           17.183333    6.503952          61.112500   \n",
              "165             0.250000           16.268750    5.464284          69.214286   \n",
              "199             0.324893           25.866667    7.923523          67.397436   \n",
              "209             0.000000           16.000000    1.042433          66.976562   \n",
              "236             0.605310           12.368182    5.650775          74.376437   \n",
              "...                  ...                 ...         ...                ...   \n",
              "99747           0.764176            5.200000    0.000000          78.909091   \n",
              "99814           0.100000           15.633333    2.939766          65.000000   \n",
              "99847           0.000000            4.622222    2.187732         104.833333   \n",
              "99893           0.000000           14.886391    4.908924          80.884615   \n",
              "99901           0.000000            8.600000    2.200000          86.454545   \n",
              "\n",
              "              SD (HR)  In-hospital mortality  \n",
              "SUBJECT_ID                                    \n",
              "107         20.596866                      0  \n",
              "165         15.487854                      0  \n",
              "199         30.084423                      0  \n",
              "209         23.866815                      0  \n",
              "236         23.605616                      0  \n",
              "...               ...                    ...  \n",
              "99747       13.161665                      0  \n",
              "99814       13.546217                      0  \n",
              "99847       14.758049                      0  \n",
              "99893       13.185832                      0  \n",
              "99901       13.397680                      0  \n",
              "\n",
              "[1779 rows x 36 columns]"
            ]
          },
          "execution_count": 7,
          "metadata": {},
          "output_type": "execute_result"
        }
      ],
      "source": [
        "bigdata_filled = bigdata_filtered.fillna(bigdata_filtered.mean())\n",
        "bigdata_filled"
      ]
    },
    {
      "cell_type": "code",
      "execution_count": 8,
      "metadata": {
        "colab": {
          "base_uri": "https://localhost:8080/",
          "height": 553
        },
        "id": "TfcKd0VxaTac",
        "outputId": "143e20c9-6334-4233-e522-a44bcfcafe84"
      },
      "outputs": [
        {
          "data": {
            "text/html": [
              "<div>\n",
              "<style scoped>\n",
              "    .dataframe tbody tr th:only-of-type {\n",
              "        vertical-align: middle;\n",
              "    }\n",
              "\n",
              "    .dataframe tbody tr th {\n",
              "        vertical-align: top;\n",
              "    }\n",
              "\n",
              "    .dataframe thead th {\n",
              "        text-align: right;\n",
              "    }\n",
              "</style>\n",
              "<table border=\"1\" class=\"dataframe\">\n",
              "  <thead>\n",
              "    <tr style=\"text-align: right;\">\n",
              "      <th></th>\n",
              "      <th>Chronic KD</th>\n",
              "      <th>Potassium (mean)</th>\n",
              "      <th>SD (Potassium)</th>\n",
              "      <th>Respiratory Rate (mean)</th>\n",
              "      <th>SD (RR)</th>\n",
              "      <th>Platelet Count (mean)</th>\n",
              "      <th>SD (PC)</th>\n",
              "      <th>Sodium (mean)</th>\n",
              "      <th>SD (sodium)</th>\n",
              "      <th>Urea Nitrogen (mean)</th>\n",
              "      <th>...</th>\n",
              "      <th>SD (AG)</th>\n",
              "      <th>Calcium (mean)</th>\n",
              "      <th>SD (Calcium)</th>\n",
              "      <th>Lactate (mean)</th>\n",
              "      <th>SD (Lactate)</th>\n",
              "      <th>Lymphocytes (mean)</th>\n",
              "      <th>SD (Lymph)</th>\n",
              "      <th>Heart Rate (mean)</th>\n",
              "      <th>SD (HR)</th>\n",
              "      <th>In-hospital mortality</th>\n",
              "    </tr>\n",
              "    <tr>\n",
              "      <th>SUBJECT_ID</th>\n",
              "      <th></th>\n",
              "      <th></th>\n",
              "      <th></th>\n",
              "      <th></th>\n",
              "      <th></th>\n",
              "      <th></th>\n",
              "      <th></th>\n",
              "      <th></th>\n",
              "      <th></th>\n",
              "      <th></th>\n",
              "      <th></th>\n",
              "      <th></th>\n",
              "      <th></th>\n",
              "      <th></th>\n",
              "      <th></th>\n",
              "      <th></th>\n",
              "      <th></th>\n",
              "      <th></th>\n",
              "      <th></th>\n",
              "      <th></th>\n",
              "      <th></th>\n",
              "    </tr>\n",
              "  </thead>\n",
              "  <tbody>\n",
              "    <tr>\n",
              "      <th>3</th>\n",
              "      <td>0</td>\n",
              "      <td>4.316667</td>\n",
              "      <td>0.643619</td>\n",
              "      <td>16.987879</td>\n",
              "      <td>5.798629</td>\n",
              "      <td>260.031250</td>\n",
              "      <td>83.932445</td>\n",
              "      <td>138.027027</td>\n",
              "      <td>3.258971</td>\n",
              "      <td>33.236842</td>\n",
              "      <td>...</td>\n",
              "      <td>4.171331</td>\n",
              "      <td>7.750000</td>\n",
              "      <td>0.829587</td>\n",
              "      <td>3.408333</td>\n",
              "      <td>2.536552</td>\n",
              "      <td>12.300000</td>\n",
              "      <td>5.292582</td>\n",
              "      <td>74.684783</td>\n",
              "      <td>45.299232</td>\n",
              "      <td>0</td>\n",
              "    </tr>\n",
              "    <tr>\n",
              "      <th>9</th>\n",
              "      <td>0</td>\n",
              "      <td>3.310000</td>\n",
              "      <td>0.333017</td>\n",
              "      <td>16.316062</td>\n",
              "      <td>2.605017</td>\n",
              "      <td>274.250000</td>\n",
              "      <td>34.175101</td>\n",
              "      <td>134.300000</td>\n",
              "      <td>3.348134</td>\n",
              "      <td>22.714286</td>\n",
              "      <td>...</td>\n",
              "      <td>1.479020</td>\n",
              "      <td>8.700000</td>\n",
              "      <td>0.650275</td>\n",
              "      <td>1.987500</td>\n",
              "      <td>0.590418</td>\n",
              "      <td>41.600000</td>\n",
              "      <td>0.000000</td>\n",
              "      <td>57.846154</td>\n",
              "      <td>37.734046</td>\n",
              "      <td>1</td>\n",
              "    </tr>\n",
              "    <tr>\n",
              "      <th>21</th>\n",
              "      <td>0</td>\n",
              "      <td>4.147917</td>\n",
              "      <td>0.492438</td>\n",
              "      <td>17.926230</td>\n",
              "      <td>4.542155</td>\n",
              "      <td>235.658537</td>\n",
              "      <td>77.111769</td>\n",
              "      <td>139.363636</td>\n",
              "      <td>3.134057</td>\n",
              "      <td>53.755556</td>\n",
              "      <td>...</td>\n",
              "      <td>5.436502</td>\n",
              "      <td>8.686364</td>\n",
              "      <td>1.118154</td>\n",
              "      <td>2.177778</td>\n",
              "      <td>0.755392</td>\n",
              "      <td>6.866667</td>\n",
              "      <td>2.908226</td>\n",
              "      <td>67.764706</td>\n",
              "      <td>39.504866</td>\n",
              "      <td>1</td>\n",
              "    </tr>\n",
              "    <tr>\n",
              "      <th>26</th>\n",
              "      <td>0</td>\n",
              "      <td>4.140000</td>\n",
              "      <td>0.297321</td>\n",
              "      <td>20.060000</td>\n",
              "      <td>2.907989</td>\n",
              "      <td>174.166667</td>\n",
              "      <td>12.824672</td>\n",
              "      <td>137.625000</td>\n",
              "      <td>2.446298</td>\n",
              "      <td>31.500000</td>\n",
              "      <td>...</td>\n",
              "      <td>1.118034</td>\n",
              "      <td>8.340000</td>\n",
              "      <td>0.287054</td>\n",
              "      <td>2.259983</td>\n",
              "      <td>0.809303</td>\n",
              "      <td>14.454593</td>\n",
              "      <td>4.063320</td>\n",
              "      <td>52.371429</td>\n",
              "      <td>26.813172</td>\n",
              "      <td>0</td>\n",
              "    </tr>\n",
              "    <tr>\n",
              "      <th>34</th>\n",
              "      <td>0</td>\n",
              "      <td>4.033333</td>\n",
              "      <td>0.268742</td>\n",
              "      <td>18.338462</td>\n",
              "      <td>4.977726</td>\n",
              "      <td>304.714286</td>\n",
              "      <td>37.381104</td>\n",
              "      <td>141.000000</td>\n",
              "      <td>1.414214</td>\n",
              "      <td>29.142857</td>\n",
              "      <td>...</td>\n",
              "      <td>2.315167</td>\n",
              "      <td>8.750000</td>\n",
              "      <td>0.229129</td>\n",
              "      <td>1.700000</td>\n",
              "      <td>0.000000</td>\n",
              "      <td>11.650000</td>\n",
              "      <td>0.250000</td>\n",
              "      <td>53.214286</td>\n",
              "      <td>24.950909</td>\n",
              "      <td>0</td>\n",
              "    </tr>\n",
              "    <tr>\n",
              "      <th>...</th>\n",
              "      <td>...</td>\n",
              "      <td>...</td>\n",
              "      <td>...</td>\n",
              "      <td>...</td>\n",
              "      <td>...</td>\n",
              "      <td>...</td>\n",
              "      <td>...</td>\n",
              "      <td>...</td>\n",
              "      <td>...</td>\n",
              "      <td>...</td>\n",
              "      <td>...</td>\n",
              "      <td>...</td>\n",
              "      <td>...</td>\n",
              "      <td>...</td>\n",
              "      <td>...</td>\n",
              "      <td>...</td>\n",
              "      <td>...</td>\n",
              "      <td>...</td>\n",
              "      <td>...</td>\n",
              "      <td>...</td>\n",
              "      <td>...</td>\n",
              "    </tr>\n",
              "    <tr>\n",
              "      <th>99938</th>\n",
              "      <td>1</td>\n",
              "      <td>4.078261</td>\n",
              "      <td>0.351341</td>\n",
              "      <td>21.575221</td>\n",
              "      <td>3.928127</td>\n",
              "      <td>198.466667</td>\n",
              "      <td>55.556418</td>\n",
              "      <td>129.842105</td>\n",
              "      <td>2.253959</td>\n",
              "      <td>23.421053</td>\n",
              "      <td>...</td>\n",
              "      <td>2.357023</td>\n",
              "      <td>8.500000</td>\n",
              "      <td>0.384708</td>\n",
              "      <td>1.350000</td>\n",
              "      <td>0.269258</td>\n",
              "      <td>19.100000</td>\n",
              "      <td>2.900000</td>\n",
              "      <td>83.761905</td>\n",
              "      <td>21.210685</td>\n",
              "      <td>0</td>\n",
              "    </tr>\n",
              "    <tr>\n",
              "      <th>99944</th>\n",
              "      <td>1</td>\n",
              "      <td>4.200000</td>\n",
              "      <td>0.591608</td>\n",
              "      <td>22.644860</td>\n",
              "      <td>4.160905</td>\n",
              "      <td>311.125000</td>\n",
              "      <td>27.057520</td>\n",
              "      <td>139.125000</td>\n",
              "      <td>2.204399</td>\n",
              "      <td>33.555556</td>\n",
              "      <td>...</td>\n",
              "      <td>1.414214</td>\n",
              "      <td>8.442857</td>\n",
              "      <td>0.306394</td>\n",
              "      <td>1.000000</td>\n",
              "      <td>0.000000</td>\n",
              "      <td>5.233333</td>\n",
              "      <td>0.946338</td>\n",
              "      <td>81.315789</td>\n",
              "      <td>18.417244</td>\n",
              "      <td>0</td>\n",
              "    </tr>\n",
              "    <tr>\n",
              "      <th>99982</th>\n",
              "      <td>0</td>\n",
              "      <td>3.875000</td>\n",
              "      <td>0.348454</td>\n",
              "      <td>16.654008</td>\n",
              "      <td>4.706414</td>\n",
              "      <td>123.612903</td>\n",
              "      <td>27.475124</td>\n",
              "      <td>135.681818</td>\n",
              "      <td>2.753285</td>\n",
              "      <td>28.536585</td>\n",
              "      <td>...</td>\n",
              "      <td>3.162278</td>\n",
              "      <td>8.977778</td>\n",
              "      <td>0.289742</td>\n",
              "      <td>1.740000</td>\n",
              "      <td>0.492341</td>\n",
              "      <td>17.500000</td>\n",
              "      <td>2.083267</td>\n",
              "      <td>86.980000</td>\n",
              "      <td>17.143440</td>\n",
              "      <td>0</td>\n",
              "    </tr>\n",
              "    <tr>\n",
              "      <th>99991</th>\n",
              "      <td>0</td>\n",
              "      <td>3.773333</td>\n",
              "      <td>0.267000</td>\n",
              "      <td>23.961538</td>\n",
              "      <td>5.274983</td>\n",
              "      <td>254.500000</td>\n",
              "      <td>90.660079</td>\n",
              "      <td>143.000000</td>\n",
              "      <td>2.415229</td>\n",
              "      <td>20.333333</td>\n",
              "      <td>...</td>\n",
              "      <td>1.972027</td>\n",
              "      <td>7.600000</td>\n",
              "      <td>0.684105</td>\n",
              "      <td>1.400000</td>\n",
              "      <td>0.474342</td>\n",
              "      <td>22.500000</td>\n",
              "      <td>5.500000</td>\n",
              "      <td>95.265306</td>\n",
              "      <td>18.206885</td>\n",
              "      <td>0</td>\n",
              "    </tr>\n",
              "    <tr>\n",
              "      <th>99995</th>\n",
              "      <td>0</td>\n",
              "      <td>3.775000</td>\n",
              "      <td>0.414578</td>\n",
              "      <td>20.728814</td>\n",
              "      <td>3.588260</td>\n",
              "      <td>159.666667</td>\n",
              "      <td>26.911377</td>\n",
              "      <td>137.500000</td>\n",
              "      <td>1.118034</td>\n",
              "      <td>11.500000</td>\n",
              "      <td>...</td>\n",
              "      <td>1.118034</td>\n",
              "      <td>8.433333</td>\n",
              "      <td>0.169967</td>\n",
              "      <td>1.200000</td>\n",
              "      <td>0.223607</td>\n",
              "      <td>14.454593</td>\n",
              "      <td>4.063320</td>\n",
              "      <td>71.696970</td>\n",
              "      <td>19.359243</td>\n",
              "      <td>0</td>\n",
              "    </tr>\n",
              "  </tbody>\n",
              "</table>\n",
              "<p>9746 rows × 32 columns</p>\n",
              "</div>"
            ],
            "text/plain": [
              "            Chronic KD  Potassium (mean)  SD (Potassium)  \\\n",
              "SUBJECT_ID                                                 \n",
              "3                    0          4.316667        0.643619   \n",
              "9                    0          3.310000        0.333017   \n",
              "21                   0          4.147917        0.492438   \n",
              "26                   0          4.140000        0.297321   \n",
              "34                   0          4.033333        0.268742   \n",
              "...                ...               ...             ...   \n",
              "99938                1          4.078261        0.351341   \n",
              "99944                1          4.200000        0.591608   \n",
              "99982                0          3.875000        0.348454   \n",
              "99991                0          3.773333        0.267000   \n",
              "99995                0          3.775000        0.414578   \n",
              "\n",
              "            Respiratory Rate (mean)   SD (RR)  Platelet Count (mean)  \\\n",
              "SUBJECT_ID                                                             \n",
              "3                         16.987879  5.798629             260.031250   \n",
              "9                         16.316062  2.605017             274.250000   \n",
              "21                        17.926230  4.542155             235.658537   \n",
              "26                        20.060000  2.907989             174.166667   \n",
              "34                        18.338462  4.977726             304.714286   \n",
              "...                             ...       ...                    ...   \n",
              "99938                     21.575221  3.928127             198.466667   \n",
              "99944                     22.644860  4.160905             311.125000   \n",
              "99982                     16.654008  4.706414             123.612903   \n",
              "99991                     23.961538  5.274983             254.500000   \n",
              "99995                     20.728814  3.588260             159.666667   \n",
              "\n",
              "              SD (PC)  Sodium (mean)  SD (sodium)  Urea Nitrogen (mean)  ...  \\\n",
              "SUBJECT_ID                                                               ...   \n",
              "3           83.932445     138.027027     3.258971             33.236842  ...   \n",
              "9           34.175101     134.300000     3.348134             22.714286  ...   \n",
              "21          77.111769     139.363636     3.134057             53.755556  ...   \n",
              "26          12.824672     137.625000     2.446298             31.500000  ...   \n",
              "34          37.381104     141.000000     1.414214             29.142857  ...   \n",
              "...               ...            ...          ...                   ...  ...   \n",
              "99938       55.556418     129.842105     2.253959             23.421053  ...   \n",
              "99944       27.057520     139.125000     2.204399             33.555556  ...   \n",
              "99982       27.475124     135.681818     2.753285             28.536585  ...   \n",
              "99991       90.660079     143.000000     2.415229             20.333333  ...   \n",
              "99995       26.911377     137.500000     1.118034             11.500000  ...   \n",
              "\n",
              "             SD (AG)  Calcium (mean)  SD (Calcium)  Lactate (mean)  \\\n",
              "SUBJECT_ID                                                           \n",
              "3           4.171331        7.750000      0.829587        3.408333   \n",
              "9           1.479020        8.700000      0.650275        1.987500   \n",
              "21          5.436502        8.686364      1.118154        2.177778   \n",
              "26          1.118034        8.340000      0.287054        2.259983   \n",
              "34          2.315167        8.750000      0.229129        1.700000   \n",
              "...              ...             ...           ...             ...   \n",
              "99938       2.357023        8.500000      0.384708        1.350000   \n",
              "99944       1.414214        8.442857      0.306394        1.000000   \n",
              "99982       3.162278        8.977778      0.289742        1.740000   \n",
              "99991       1.972027        7.600000      0.684105        1.400000   \n",
              "99995       1.118034        8.433333      0.169967        1.200000   \n",
              "\n",
              "            SD (Lactate)  Lymphocytes (mean)  SD (Lymph)  Heart Rate (mean)  \\\n",
              "SUBJECT_ID                                                                    \n",
              "3               2.536552           12.300000    5.292582          74.684783   \n",
              "9               0.590418           41.600000    0.000000          57.846154   \n",
              "21              0.755392            6.866667    2.908226          67.764706   \n",
              "26              0.809303           14.454593    4.063320          52.371429   \n",
              "34              0.000000           11.650000    0.250000          53.214286   \n",
              "...                  ...                 ...         ...                ...   \n",
              "99938           0.269258           19.100000    2.900000          83.761905   \n",
              "99944           0.000000            5.233333    0.946338          81.315789   \n",
              "99982           0.492341           17.500000    2.083267          86.980000   \n",
              "99991           0.474342           22.500000    5.500000          95.265306   \n",
              "99995           0.223607           14.454593    4.063320          71.696970   \n",
              "\n",
              "              SD (HR)  In-hospital mortality  \n",
              "SUBJECT_ID                                    \n",
              "3           45.299232                      0  \n",
              "9           37.734046                      1  \n",
              "21          39.504866                      1  \n",
              "26          26.813172                      0  \n",
              "34          24.950909                      0  \n",
              "...               ...                    ...  \n",
              "99938       21.210685                      0  \n",
              "99944       18.417244                      0  \n",
              "99982       17.143440                      0  \n",
              "99991       18.206885                      0  \n",
              "99995       19.359243                      0  \n",
              "\n",
              "[9746 rows x 32 columns]"
            ]
          },
          "execution_count": 8,
          "metadata": {},
          "output_type": "execute_result"
        }
      ],
      "source": [
        "smalldata_filled = smalldata_filtered.fillna(smalldata_filtered.mean())\n",
        "smalldata_filled"
      ]
    },
    {
      "cell_type": "code",
      "execution_count": 9,
      "metadata": {
        "colab": {
          "base_uri": "https://localhost:8080/"
        },
        "id": "CF5uGCDDaWIn",
        "outputId": "b2e7daf5-887f-4a66-a48b-d8a5669b19ae"
      },
      "outputs": [
        {
          "name": "stdout",
          "output_type": "stream",
          "text": [
            "Chronic KD                  0.315522\n",
            "ProBNP (mean)               2.081676\n",
            "SD (ProBNP)                 3.547358\n",
            "Potassium (mean)            0.584313\n",
            "SD (Potassium)              1.304487\n",
            "Diastolic BP (mean)        16.508628\n",
            "SD (DBP)                   14.778533\n",
            "Respiratory Rate (mean)    42.174516\n",
            "SD (RR)                    42.178181\n",
            "Platelet Count (mean)       1.066550\n",
            "SD (PC)                     1.598974\n",
            "Sodium (mean)              -0.640529\n",
            "SD (sodium)                 1.332720\n",
            "Urea Nitrogen (mean)        1.372362\n",
            "SD (UN)                     1.463062\n",
            "Creatine Kinase (mean)     25.144392\n",
            "SD (CK)                    21.677870\n",
            "MCH (mean)                 -0.500802\n",
            "SD (MCH)                    1.980129\n",
            "PaCO2 (mean)                1.477332\n",
            "SD (PaCO2)                  2.475870\n",
            "Red Blood Cell (mean)       0.947680\n",
            "SD (RBC)                    0.702449\n",
            "WBC (mean)                  9.303330\n",
            "SD (WBC)                    6.668459\n",
            "Anion Gap (mean)            0.797906\n",
            "SD (AG)                     1.601906\n",
            "Calcium (mean)              0.252474\n",
            "SD (Calcium)                2.923167\n",
            "Lactate (mean)              3.154807\n",
            "SD (Lactate)                3.245522\n",
            "Lymphocytes (mean)          2.157584\n",
            "SD (Lymph)                  2.199599\n",
            "Heart Rate (mean)          35.308654\n",
            "SD (HR)                    33.178397\n",
            "In-hospital mortality       1.540494\n",
            "dtype: float64\n"
          ]
        }
      ],
      "source": [
        "print(bigdata_filled.skew())"
      ]
    },
    {
      "cell_type": "code",
      "execution_count": 10,
      "metadata": {
        "colab": {
          "base_uri": "https://localhost:8080/",
          "height": 286
        },
        "id": "kUJPYiJnbstb",
        "outputId": "6aedf80c-7e3e-43f3-d693-a0e481ca29d4"
      },
      "outputs": [
        {
          "data": {
            "text/html": [
              "<div>\n",
              "<style scoped>\n",
              "    .dataframe tbody tr th:only-of-type {\n",
              "        vertical-align: middle;\n",
              "    }\n",
              "\n",
              "    .dataframe tbody tr th {\n",
              "        vertical-align: top;\n",
              "    }\n",
              "\n",
              "    .dataframe thead th {\n",
              "        text-align: right;\n",
              "    }\n",
              "</style>\n",
              "<table border=\"1\" class=\"dataframe\">\n",
              "  <thead>\n",
              "    <tr style=\"text-align: right;\">\n",
              "      <th></th>\n",
              "      <th>Chronic KD</th>\n",
              "      <th>Potassium (mean)</th>\n",
              "      <th>SD (Potassium)</th>\n",
              "      <th>Respiratory Rate (mean)</th>\n",
              "      <th>SD (RR)</th>\n",
              "      <th>Platelet Count (mean)</th>\n",
              "      <th>SD (PC)</th>\n",
              "      <th>Sodium (mean)</th>\n",
              "      <th>SD (sodium)</th>\n",
              "      <th>Urea Nitrogen (mean)</th>\n",
              "      <th>...</th>\n",
              "      <th>Anion Gap (mean)</th>\n",
              "      <th>SD (AG)</th>\n",
              "      <th>Calcium (mean)</th>\n",
              "      <th>SD (Calcium)</th>\n",
              "      <th>Lactate (mean)</th>\n",
              "      <th>SD (Lactate)</th>\n",
              "      <th>Lymphocytes (mean)</th>\n",
              "      <th>SD (Lymph)</th>\n",
              "      <th>Heart Rate (mean)</th>\n",
              "      <th>SD (HR)</th>\n",
              "    </tr>\n",
              "    <tr>\n",
              "      <th>In-hospital mortality</th>\n",
              "      <th></th>\n",
              "      <th></th>\n",
              "      <th></th>\n",
              "      <th></th>\n",
              "      <th></th>\n",
              "      <th></th>\n",
              "      <th></th>\n",
              "      <th></th>\n",
              "      <th></th>\n",
              "      <th></th>\n",
              "      <th></th>\n",
              "      <th></th>\n",
              "      <th></th>\n",
              "      <th></th>\n",
              "      <th></th>\n",
              "      <th></th>\n",
              "      <th></th>\n",
              "      <th></th>\n",
              "      <th></th>\n",
              "      <th></th>\n",
              "      <th></th>\n",
              "    </tr>\n",
              "  </thead>\n",
              "  <tbody>\n",
              "    <tr>\n",
              "      <th>0</th>\n",
              "      <td>7702</td>\n",
              "      <td>7702</td>\n",
              "      <td>7702</td>\n",
              "      <td>7702</td>\n",
              "      <td>7702</td>\n",
              "      <td>7702</td>\n",
              "      <td>7702</td>\n",
              "      <td>7702</td>\n",
              "      <td>7702</td>\n",
              "      <td>7702</td>\n",
              "      <td>...</td>\n",
              "      <td>7702</td>\n",
              "      <td>7702</td>\n",
              "      <td>7702</td>\n",
              "      <td>7702</td>\n",
              "      <td>7702</td>\n",
              "      <td>7702</td>\n",
              "      <td>7702</td>\n",
              "      <td>7702</td>\n",
              "      <td>7702</td>\n",
              "      <td>7702</td>\n",
              "    </tr>\n",
              "    <tr>\n",
              "      <th>1</th>\n",
              "      <td>2044</td>\n",
              "      <td>2044</td>\n",
              "      <td>2044</td>\n",
              "      <td>2044</td>\n",
              "      <td>2044</td>\n",
              "      <td>2044</td>\n",
              "      <td>2044</td>\n",
              "      <td>2044</td>\n",
              "      <td>2044</td>\n",
              "      <td>2044</td>\n",
              "      <td>...</td>\n",
              "      <td>2044</td>\n",
              "      <td>2044</td>\n",
              "      <td>2044</td>\n",
              "      <td>2044</td>\n",
              "      <td>2044</td>\n",
              "      <td>2044</td>\n",
              "      <td>2044</td>\n",
              "      <td>2044</td>\n",
              "      <td>2044</td>\n",
              "      <td>2044</td>\n",
              "    </tr>\n",
              "  </tbody>\n",
              "</table>\n",
              "<p>2 rows × 31 columns</p>\n",
              "</div>"
            ],
            "text/plain": [
              "                       Chronic KD  Potassium (mean)  SD (Potassium)  \\\n",
              "In-hospital mortality                                                 \n",
              "0                            7702              7702            7702   \n",
              "1                            2044              2044            2044   \n",
              "\n",
              "                       Respiratory Rate (mean)  SD (RR)  \\\n",
              "In-hospital mortality                                     \n",
              "0                                         7702     7702   \n",
              "1                                         2044     2044   \n",
              "\n",
              "                       Platelet Count (mean)  SD (PC)  Sodium (mean)  \\\n",
              "In-hospital mortality                                                  \n",
              "0                                       7702     7702           7702   \n",
              "1                                       2044     2044           2044   \n",
              "\n",
              "                       SD (sodium)  Urea Nitrogen (mean)  ...  \\\n",
              "In-hospital mortality                                     ...   \n",
              "0                             7702                  7702  ...   \n",
              "1                             2044                  2044  ...   \n",
              "\n",
              "                       Anion Gap (mean)  SD (AG)  Calcium (mean)  \\\n",
              "In-hospital mortality                                              \n",
              "0                                  7702     7702            7702   \n",
              "1                                  2044     2044            2044   \n",
              "\n",
              "                       SD (Calcium)  Lactate (mean)  SD (Lactate)  \\\n",
              "In-hospital mortality                                               \n",
              "0                              7702            7702          7702   \n",
              "1                              2044            2044          2044   \n",
              "\n",
              "                       Lymphocytes (mean)  SD (Lymph)  Heart Rate (mean)  \\\n",
              "In-hospital mortality                                                      \n",
              "0                                    7702        7702               7702   \n",
              "1                                    2044        2044               2044   \n",
              "\n",
              "                       SD (HR)  \n",
              "In-hospital mortality           \n",
              "0                         7702  \n",
              "1                         2044  \n",
              "\n",
              "[2 rows x 31 columns]"
            ]
          },
          "execution_count": 10,
          "metadata": {},
          "output_type": "execute_result"
        }
      ],
      "source": [
        "smalldata_filled.groupby('In-hospital mortality').count()"
      ]
    },
    {
      "cell_type": "code",
      "execution_count": 11,
      "metadata": {
        "colab": {
          "base_uri": "https://localhost:8080/",
          "height": 286
        },
        "id": "i06Lh5sqb3Gd",
        "outputId": "17ff1d36-ce51-48ef-d718-688306701492"
      },
      "outputs": [
        {
          "data": {
            "text/html": [
              "<div>\n",
              "<style scoped>\n",
              "    .dataframe tbody tr th:only-of-type {\n",
              "        vertical-align: middle;\n",
              "    }\n",
              "\n",
              "    .dataframe tbody tr th {\n",
              "        vertical-align: top;\n",
              "    }\n",
              "\n",
              "    .dataframe thead th {\n",
              "        text-align: right;\n",
              "    }\n",
              "</style>\n",
              "<table border=\"1\" class=\"dataframe\">\n",
              "  <thead>\n",
              "    <tr style=\"text-align: right;\">\n",
              "      <th></th>\n",
              "      <th>Chronic KD</th>\n",
              "      <th>ProBNP (mean)</th>\n",
              "      <th>SD (ProBNP)</th>\n",
              "      <th>Potassium (mean)</th>\n",
              "      <th>SD (Potassium)</th>\n",
              "      <th>Diastolic BP (mean)</th>\n",
              "      <th>SD (DBP)</th>\n",
              "      <th>Respiratory Rate (mean)</th>\n",
              "      <th>SD (RR)</th>\n",
              "      <th>Platelet Count (mean)</th>\n",
              "      <th>...</th>\n",
              "      <th>Anion Gap (mean)</th>\n",
              "      <th>SD (AG)</th>\n",
              "      <th>Calcium (mean)</th>\n",
              "      <th>SD (Calcium)</th>\n",
              "      <th>Lactate (mean)</th>\n",
              "      <th>SD (Lactate)</th>\n",
              "      <th>Lymphocytes (mean)</th>\n",
              "      <th>SD (Lymph)</th>\n",
              "      <th>Heart Rate (mean)</th>\n",
              "      <th>SD (HR)</th>\n",
              "    </tr>\n",
              "    <tr>\n",
              "      <th>In-hospital mortality</th>\n",
              "      <th></th>\n",
              "      <th></th>\n",
              "      <th></th>\n",
              "      <th></th>\n",
              "      <th></th>\n",
              "      <th></th>\n",
              "      <th></th>\n",
              "      <th></th>\n",
              "      <th></th>\n",
              "      <th></th>\n",
              "      <th></th>\n",
              "      <th></th>\n",
              "      <th></th>\n",
              "      <th></th>\n",
              "      <th></th>\n",
              "      <th></th>\n",
              "      <th></th>\n",
              "      <th></th>\n",
              "      <th></th>\n",
              "      <th></th>\n",
              "      <th></th>\n",
              "    </tr>\n",
              "  </thead>\n",
              "  <tbody>\n",
              "    <tr>\n",
              "      <th>0</th>\n",
              "      <td>1432</td>\n",
              "      <td>1432</td>\n",
              "      <td>1432</td>\n",
              "      <td>1432</td>\n",
              "      <td>1432</td>\n",
              "      <td>1432</td>\n",
              "      <td>1432</td>\n",
              "      <td>1432</td>\n",
              "      <td>1432</td>\n",
              "      <td>1432</td>\n",
              "      <td>...</td>\n",
              "      <td>1432</td>\n",
              "      <td>1432</td>\n",
              "      <td>1432</td>\n",
              "      <td>1432</td>\n",
              "      <td>1432</td>\n",
              "      <td>1432</td>\n",
              "      <td>1432</td>\n",
              "      <td>1432</td>\n",
              "      <td>1432</td>\n",
              "      <td>1432</td>\n",
              "    </tr>\n",
              "    <tr>\n",
              "      <th>1</th>\n",
              "      <td>347</td>\n",
              "      <td>347</td>\n",
              "      <td>347</td>\n",
              "      <td>347</td>\n",
              "      <td>347</td>\n",
              "      <td>347</td>\n",
              "      <td>347</td>\n",
              "      <td>347</td>\n",
              "      <td>347</td>\n",
              "      <td>347</td>\n",
              "      <td>...</td>\n",
              "      <td>347</td>\n",
              "      <td>347</td>\n",
              "      <td>347</td>\n",
              "      <td>347</td>\n",
              "      <td>347</td>\n",
              "      <td>347</td>\n",
              "      <td>347</td>\n",
              "      <td>347</td>\n",
              "      <td>347</td>\n",
              "      <td>347</td>\n",
              "    </tr>\n",
              "  </tbody>\n",
              "</table>\n",
              "<p>2 rows × 35 columns</p>\n",
              "</div>"
            ],
            "text/plain": [
              "                       Chronic KD  ProBNP (mean)  SD (ProBNP)  \\\n",
              "In-hospital mortality                                           \n",
              "0                            1432           1432         1432   \n",
              "1                             347            347          347   \n",
              "\n",
              "                       Potassium (mean)  SD (Potassium)  Diastolic BP (mean)  \\\n",
              "In-hospital mortality                                                          \n",
              "0                                  1432            1432                 1432   \n",
              "1                                   347             347                  347   \n",
              "\n",
              "                       SD (DBP)  Respiratory Rate (mean)  SD (RR)  \\\n",
              "In-hospital mortality                                               \n",
              "0                          1432                     1432     1432   \n",
              "1                           347                      347      347   \n",
              "\n",
              "                       Platelet Count (mean)  ...  Anion Gap (mean)  SD (AG)  \\\n",
              "In-hospital mortality                         ...                              \n",
              "0                                       1432  ...              1432     1432   \n",
              "1                                        347  ...               347      347   \n",
              "\n",
              "                       Calcium (mean)  SD (Calcium)  Lactate (mean)  \\\n",
              "In-hospital mortality                                                 \n",
              "0                                1432          1432            1432   \n",
              "1                                 347           347             347   \n",
              "\n",
              "                       SD (Lactate)  Lymphocytes (mean)  SD (Lymph)  \\\n",
              "In-hospital mortality                                                 \n",
              "0                              1432                1432        1432   \n",
              "1                               347                 347         347   \n",
              "\n",
              "                       Heart Rate (mean)  SD (HR)  \n",
              "In-hospital mortality                              \n",
              "0                                   1432     1432  \n",
              "1                                    347      347  \n",
              "\n",
              "[2 rows x 35 columns]"
            ]
          },
          "execution_count": 11,
          "metadata": {},
          "output_type": "execute_result"
        }
      ],
      "source": [
        "bigdata_filled.groupby('In-hospital mortality').count()"
      ]
    },
    {
      "cell_type": "code",
      "execution_count": 12,
      "metadata": {
        "id": "0A6cnz4AcAJc"
      },
      "outputs": [],
      "source": [
        "from imblearn.over_sampling import SMOTE\n",
        "from collections import Counter"
      ]
    },
    {
      "cell_type": "code",
      "execution_count": 13,
      "metadata": {
        "id": "rHBhnexOcUV2"
      },
      "outputs": [],
      "source": [
        "sm = SMOTE()"
      ]
    },
    {
      "attachments": {},
      "cell_type": "markdown",
      "metadata": {
        "id": "yBFBwBnUcxGr"
      },
      "source": [
        "# SMALL DATA"
      ]
    },
    {
      "cell_type": "code",
      "execution_count": 98,
      "metadata": {
        "id": "seNjxYVwe6HT"
      },
      "outputs": [],
      "source": [
        "smalldata_labels = smalldata_filled[\"In-hospital mortality\"]"
      ]
    },
    {
      "cell_type": "code",
      "execution_count": 99,
      "metadata": {
        "id": "4SEFoc6HfE0M"
      },
      "outputs": [],
      "source": [
        "sd_unlabeled = smalldata_filled.drop(columns=[\"In-hospital mortality\"])"
      ]
    },
    {
      "cell_type": "code",
      "execution_count": 100,
      "metadata": {
        "colab": {
          "base_uri": "https://localhost:8080/",
          "height": 553
        },
        "id": "8TCenTLbfqU0",
        "outputId": "77048dd9-e2b3-4839-92e2-9628d9ac1145"
      },
      "outputs": [
        {
          "data": {
            "text/html": [
              "<div>\n",
              "<style scoped>\n",
              "    .dataframe tbody tr th:only-of-type {\n",
              "        vertical-align: middle;\n",
              "    }\n",
              "\n",
              "    .dataframe tbody tr th {\n",
              "        vertical-align: top;\n",
              "    }\n",
              "\n",
              "    .dataframe thead th {\n",
              "        text-align: right;\n",
              "    }\n",
              "</style>\n",
              "<table border=\"1\" class=\"dataframe\">\n",
              "  <thead>\n",
              "    <tr style=\"text-align: right;\">\n",
              "      <th></th>\n",
              "      <th>Chronic KD</th>\n",
              "      <th>Potassium (mean)</th>\n",
              "      <th>SD (Potassium)</th>\n",
              "      <th>Respiratory Rate (mean)</th>\n",
              "      <th>SD (RR)</th>\n",
              "      <th>Platelet Count (mean)</th>\n",
              "      <th>SD (PC)</th>\n",
              "      <th>Sodium (mean)</th>\n",
              "      <th>SD (sodium)</th>\n",
              "      <th>Urea Nitrogen (mean)</th>\n",
              "      <th>...</th>\n",
              "      <th>Anion Gap (mean)</th>\n",
              "      <th>SD (AG)</th>\n",
              "      <th>Calcium (mean)</th>\n",
              "      <th>SD (Calcium)</th>\n",
              "      <th>Lactate (mean)</th>\n",
              "      <th>SD (Lactate)</th>\n",
              "      <th>Lymphocytes (mean)</th>\n",
              "      <th>SD (Lymph)</th>\n",
              "      <th>Heart Rate (mean)</th>\n",
              "      <th>SD (HR)</th>\n",
              "    </tr>\n",
              "    <tr>\n",
              "      <th>SUBJECT_ID</th>\n",
              "      <th></th>\n",
              "      <th></th>\n",
              "      <th></th>\n",
              "      <th></th>\n",
              "      <th></th>\n",
              "      <th></th>\n",
              "      <th></th>\n",
              "      <th></th>\n",
              "      <th></th>\n",
              "      <th></th>\n",
              "      <th></th>\n",
              "      <th></th>\n",
              "      <th></th>\n",
              "      <th></th>\n",
              "      <th></th>\n",
              "      <th></th>\n",
              "      <th></th>\n",
              "      <th></th>\n",
              "      <th></th>\n",
              "      <th></th>\n",
              "      <th></th>\n",
              "    </tr>\n",
              "  </thead>\n",
              "  <tbody>\n",
              "    <tr>\n",
              "      <th>3</th>\n",
              "      <td>0</td>\n",
              "      <td>4.316667</td>\n",
              "      <td>0.643619</td>\n",
              "      <td>16.987879</td>\n",
              "      <td>5.798629</td>\n",
              "      <td>260.031250</td>\n",
              "      <td>83.932445</td>\n",
              "      <td>138.027027</td>\n",
              "      <td>3.258971</td>\n",
              "      <td>33.236842</td>\n",
              "      <td>...</td>\n",
              "      <td>16.000000</td>\n",
              "      <td>4.171331</td>\n",
              "      <td>7.750000</td>\n",
              "      <td>0.829587</td>\n",
              "      <td>3.408333</td>\n",
              "      <td>2.536552</td>\n",
              "      <td>12.300000</td>\n",
              "      <td>5.292582</td>\n",
              "      <td>74.684783</td>\n",
              "      <td>45.299232</td>\n",
              "    </tr>\n",
              "    <tr>\n",
              "      <th>9</th>\n",
              "      <td>0</td>\n",
              "      <td>3.310000</td>\n",
              "      <td>0.333017</td>\n",
              "      <td>16.316062</td>\n",
              "      <td>2.605017</td>\n",
              "      <td>274.250000</td>\n",
              "      <td>34.175101</td>\n",
              "      <td>134.300000</td>\n",
              "      <td>3.348134</td>\n",
              "      <td>22.714286</td>\n",
              "      <td>...</td>\n",
              "      <td>12.250000</td>\n",
              "      <td>1.479020</td>\n",
              "      <td>8.700000</td>\n",
              "      <td>0.650275</td>\n",
              "      <td>1.987500</td>\n",
              "      <td>0.590418</td>\n",
              "      <td>41.600000</td>\n",
              "      <td>0.000000</td>\n",
              "      <td>57.846154</td>\n",
              "      <td>37.734046</td>\n",
              "    </tr>\n",
              "    <tr>\n",
              "      <th>21</th>\n",
              "      <td>0</td>\n",
              "      <td>4.147917</td>\n",
              "      <td>0.492438</td>\n",
              "      <td>17.926230</td>\n",
              "      <td>4.542155</td>\n",
              "      <td>235.658537</td>\n",
              "      <td>77.111769</td>\n",
              "      <td>139.363636</td>\n",
              "      <td>3.134057</td>\n",
              "      <td>53.755556</td>\n",
              "      <td>...</td>\n",
              "      <td>18.333333</td>\n",
              "      <td>5.436502</td>\n",
              "      <td>8.686364</td>\n",
              "      <td>1.118154</td>\n",
              "      <td>2.177778</td>\n",
              "      <td>0.755392</td>\n",
              "      <td>6.866667</td>\n",
              "      <td>2.908226</td>\n",
              "      <td>67.764706</td>\n",
              "      <td>39.504866</td>\n",
              "    </tr>\n",
              "    <tr>\n",
              "      <th>26</th>\n",
              "      <td>0</td>\n",
              "      <td>4.140000</td>\n",
              "      <td>0.297321</td>\n",
              "      <td>20.060000</td>\n",
              "      <td>2.907989</td>\n",
              "      <td>174.166667</td>\n",
              "      <td>12.824672</td>\n",
              "      <td>137.625000</td>\n",
              "      <td>2.446298</td>\n",
              "      <td>31.500000</td>\n",
              "      <td>...</td>\n",
              "      <td>13.500000</td>\n",
              "      <td>1.118034</td>\n",
              "      <td>8.340000</td>\n",
              "      <td>0.287054</td>\n",
              "      <td>2.259983</td>\n",
              "      <td>0.809303</td>\n",
              "      <td>14.454593</td>\n",
              "      <td>4.063320</td>\n",
              "      <td>52.371429</td>\n",
              "      <td>26.813172</td>\n",
              "    </tr>\n",
              "    <tr>\n",
              "      <th>34</th>\n",
              "      <td>0</td>\n",
              "      <td>4.033333</td>\n",
              "      <td>0.268742</td>\n",
              "      <td>18.338462</td>\n",
              "      <td>4.977726</td>\n",
              "      <td>304.714286</td>\n",
              "      <td>37.381104</td>\n",
              "      <td>141.000000</td>\n",
              "      <td>1.414214</td>\n",
              "      <td>29.142857</td>\n",
              "      <td>...</td>\n",
              "      <td>12.800000</td>\n",
              "      <td>2.315167</td>\n",
              "      <td>8.750000</td>\n",
              "      <td>0.229129</td>\n",
              "      <td>1.700000</td>\n",
              "      <td>0.000000</td>\n",
              "      <td>11.650000</td>\n",
              "      <td>0.250000</td>\n",
              "      <td>53.214286</td>\n",
              "      <td>24.950909</td>\n",
              "    </tr>\n",
              "    <tr>\n",
              "      <th>...</th>\n",
              "      <td>...</td>\n",
              "      <td>...</td>\n",
              "      <td>...</td>\n",
              "      <td>...</td>\n",
              "      <td>...</td>\n",
              "      <td>...</td>\n",
              "      <td>...</td>\n",
              "      <td>...</td>\n",
              "      <td>...</td>\n",
              "      <td>...</td>\n",
              "      <td>...</td>\n",
              "      <td>...</td>\n",
              "      <td>...</td>\n",
              "      <td>...</td>\n",
              "      <td>...</td>\n",
              "      <td>...</td>\n",
              "      <td>...</td>\n",
              "      <td>...</td>\n",
              "      <td>...</td>\n",
              "      <td>...</td>\n",
              "      <td>...</td>\n",
              "    </tr>\n",
              "    <tr>\n",
              "      <th>99938</th>\n",
              "      <td>1</td>\n",
              "      <td>4.078261</td>\n",
              "      <td>0.351341</td>\n",
              "      <td>21.575221</td>\n",
              "      <td>3.928127</td>\n",
              "      <td>198.466667</td>\n",
              "      <td>55.556418</td>\n",
              "      <td>129.842105</td>\n",
              "      <td>2.253959</td>\n",
              "      <td>23.421053</td>\n",
              "      <td>...</td>\n",
              "      <td>12.666667</td>\n",
              "      <td>2.357023</td>\n",
              "      <td>8.500000</td>\n",
              "      <td>0.384708</td>\n",
              "      <td>1.350000</td>\n",
              "      <td>0.269258</td>\n",
              "      <td>19.100000</td>\n",
              "      <td>2.900000</td>\n",
              "      <td>83.761905</td>\n",
              "      <td>21.210685</td>\n",
              "    </tr>\n",
              "    <tr>\n",
              "      <th>99944</th>\n",
              "      <td>1</td>\n",
              "      <td>4.200000</td>\n",
              "      <td>0.591608</td>\n",
              "      <td>22.644860</td>\n",
              "      <td>4.160905</td>\n",
              "      <td>311.125000</td>\n",
              "      <td>27.057520</td>\n",
              "      <td>139.125000</td>\n",
              "      <td>2.204399</td>\n",
              "      <td>33.555556</td>\n",
              "      <td>...</td>\n",
              "      <td>15.000000</td>\n",
              "      <td>1.414214</td>\n",
              "      <td>8.442857</td>\n",
              "      <td>0.306394</td>\n",
              "      <td>1.000000</td>\n",
              "      <td>0.000000</td>\n",
              "      <td>5.233333</td>\n",
              "      <td>0.946338</td>\n",
              "      <td>81.315789</td>\n",
              "      <td>18.417244</td>\n",
              "    </tr>\n",
              "    <tr>\n",
              "      <th>99982</th>\n",
              "      <td>0</td>\n",
              "      <td>3.875000</td>\n",
              "      <td>0.348454</td>\n",
              "      <td>16.654008</td>\n",
              "      <td>4.706414</td>\n",
              "      <td>123.612903</td>\n",
              "      <td>27.475124</td>\n",
              "      <td>135.681818</td>\n",
              "      <td>2.753285</td>\n",
              "      <td>28.536585</td>\n",
              "      <td>...</td>\n",
              "      <td>12.000000</td>\n",
              "      <td>3.162278</td>\n",
              "      <td>8.977778</td>\n",
              "      <td>0.289742</td>\n",
              "      <td>1.740000</td>\n",
              "      <td>0.492341</td>\n",
              "      <td>17.500000</td>\n",
              "      <td>2.083267</td>\n",
              "      <td>86.980000</td>\n",
              "      <td>17.143440</td>\n",
              "    </tr>\n",
              "    <tr>\n",
              "      <th>99991</th>\n",
              "      <td>0</td>\n",
              "      <td>3.773333</td>\n",
              "      <td>0.267000</td>\n",
              "      <td>23.961538</td>\n",
              "      <td>5.274983</td>\n",
              "      <td>254.500000</td>\n",
              "      <td>90.660079</td>\n",
              "      <td>143.000000</td>\n",
              "      <td>2.415229</td>\n",
              "      <td>20.333333</td>\n",
              "      <td>...</td>\n",
              "      <td>12.666667</td>\n",
              "      <td>1.972027</td>\n",
              "      <td>7.600000</td>\n",
              "      <td>0.684105</td>\n",
              "      <td>1.400000</td>\n",
              "      <td>0.474342</td>\n",
              "      <td>22.500000</td>\n",
              "      <td>5.500000</td>\n",
              "      <td>95.265306</td>\n",
              "      <td>18.206885</td>\n",
              "    </tr>\n",
              "    <tr>\n",
              "      <th>99995</th>\n",
              "      <td>0</td>\n",
              "      <td>3.775000</td>\n",
              "      <td>0.414578</td>\n",
              "      <td>20.728814</td>\n",
              "      <td>3.588260</td>\n",
              "      <td>159.666667</td>\n",
              "      <td>26.911377</td>\n",
              "      <td>137.500000</td>\n",
              "      <td>1.118034</td>\n",
              "      <td>11.500000</td>\n",
              "      <td>...</td>\n",
              "      <td>9.500000</td>\n",
              "      <td>1.118034</td>\n",
              "      <td>8.433333</td>\n",
              "      <td>0.169967</td>\n",
              "      <td>1.200000</td>\n",
              "      <td>0.223607</td>\n",
              "      <td>14.454593</td>\n",
              "      <td>4.063320</td>\n",
              "      <td>71.696970</td>\n",
              "      <td>19.359243</td>\n",
              "    </tr>\n",
              "  </tbody>\n",
              "</table>\n",
              "<p>9746 rows × 31 columns</p>\n",
              "</div>"
            ],
            "text/plain": [
              "            Chronic KD  Potassium (mean)  SD (Potassium)  \\\n",
              "SUBJECT_ID                                                 \n",
              "3                    0          4.316667        0.643619   \n",
              "9                    0          3.310000        0.333017   \n",
              "21                   0          4.147917        0.492438   \n",
              "26                   0          4.140000        0.297321   \n",
              "34                   0          4.033333        0.268742   \n",
              "...                ...               ...             ...   \n",
              "99938                1          4.078261        0.351341   \n",
              "99944                1          4.200000        0.591608   \n",
              "99982                0          3.875000        0.348454   \n",
              "99991                0          3.773333        0.267000   \n",
              "99995                0          3.775000        0.414578   \n",
              "\n",
              "            Respiratory Rate (mean)   SD (RR)  Platelet Count (mean)  \\\n",
              "SUBJECT_ID                                                             \n",
              "3                         16.987879  5.798629             260.031250   \n",
              "9                         16.316062  2.605017             274.250000   \n",
              "21                        17.926230  4.542155             235.658537   \n",
              "26                        20.060000  2.907989             174.166667   \n",
              "34                        18.338462  4.977726             304.714286   \n",
              "...                             ...       ...                    ...   \n",
              "99938                     21.575221  3.928127             198.466667   \n",
              "99944                     22.644860  4.160905             311.125000   \n",
              "99982                     16.654008  4.706414             123.612903   \n",
              "99991                     23.961538  5.274983             254.500000   \n",
              "99995                     20.728814  3.588260             159.666667   \n",
              "\n",
              "              SD (PC)  Sodium (mean)  SD (sodium)  Urea Nitrogen (mean)  ...  \\\n",
              "SUBJECT_ID                                                               ...   \n",
              "3           83.932445     138.027027     3.258971             33.236842  ...   \n",
              "9           34.175101     134.300000     3.348134             22.714286  ...   \n",
              "21          77.111769     139.363636     3.134057             53.755556  ...   \n",
              "26          12.824672     137.625000     2.446298             31.500000  ...   \n",
              "34          37.381104     141.000000     1.414214             29.142857  ...   \n",
              "...               ...            ...          ...                   ...  ...   \n",
              "99938       55.556418     129.842105     2.253959             23.421053  ...   \n",
              "99944       27.057520     139.125000     2.204399             33.555556  ...   \n",
              "99982       27.475124     135.681818     2.753285             28.536585  ...   \n",
              "99991       90.660079     143.000000     2.415229             20.333333  ...   \n",
              "99995       26.911377     137.500000     1.118034             11.500000  ...   \n",
              "\n",
              "            Anion Gap (mean)   SD (AG)  Calcium (mean)  SD (Calcium)  \\\n",
              "SUBJECT_ID                                                             \n",
              "3                  16.000000  4.171331        7.750000      0.829587   \n",
              "9                  12.250000  1.479020        8.700000      0.650275   \n",
              "21                 18.333333  5.436502        8.686364      1.118154   \n",
              "26                 13.500000  1.118034        8.340000      0.287054   \n",
              "34                 12.800000  2.315167        8.750000      0.229129   \n",
              "...                      ...       ...             ...           ...   \n",
              "99938              12.666667  2.357023        8.500000      0.384708   \n",
              "99944              15.000000  1.414214        8.442857      0.306394   \n",
              "99982              12.000000  3.162278        8.977778      0.289742   \n",
              "99991              12.666667  1.972027        7.600000      0.684105   \n",
              "99995               9.500000  1.118034        8.433333      0.169967   \n",
              "\n",
              "            Lactate (mean)  SD (Lactate)  Lymphocytes (mean)  SD (Lymph)  \\\n",
              "SUBJECT_ID                                                                 \n",
              "3                 3.408333      2.536552           12.300000    5.292582   \n",
              "9                 1.987500      0.590418           41.600000    0.000000   \n",
              "21                2.177778      0.755392            6.866667    2.908226   \n",
              "26                2.259983      0.809303           14.454593    4.063320   \n",
              "34                1.700000      0.000000           11.650000    0.250000   \n",
              "...                    ...           ...                 ...         ...   \n",
              "99938             1.350000      0.269258           19.100000    2.900000   \n",
              "99944             1.000000      0.000000            5.233333    0.946338   \n",
              "99982             1.740000      0.492341           17.500000    2.083267   \n",
              "99991             1.400000      0.474342           22.500000    5.500000   \n",
              "99995             1.200000      0.223607           14.454593    4.063320   \n",
              "\n",
              "            Heart Rate (mean)    SD (HR)  \n",
              "SUBJECT_ID                                \n",
              "3                   74.684783  45.299232  \n",
              "9                   57.846154  37.734046  \n",
              "21                  67.764706  39.504866  \n",
              "26                  52.371429  26.813172  \n",
              "34                  53.214286  24.950909  \n",
              "...                       ...        ...  \n",
              "99938               83.761905  21.210685  \n",
              "99944               81.315789  18.417244  \n",
              "99982               86.980000  17.143440  \n",
              "99991               95.265306  18.206885  \n",
              "99995               71.696970  19.359243  \n",
              "\n",
              "[9746 rows x 31 columns]"
            ]
          },
          "execution_count": 100,
          "metadata": {},
          "output_type": "execute_result"
        }
      ],
      "source": [
        "sd_unlabeled"
      ]
    },
    {
      "cell_type": "code",
      "execution_count": 101,
      "metadata": {
        "id": "al1hQLapfxrC"
      },
      "outputs": [],
      "source": [
        "X, y = sm.fit_resample(sd_unlabeled, smalldata_labels)"
      ]
    },
    {
      "cell_type": "code",
      "execution_count": 102,
      "metadata": {
        "id": "C-6q2MnZqSTb"
      },
      "outputs": [],
      "source": [
        "dataset = SelectKBest(f_classif, k=\"all\").fit_transform(X, y)"
      ]
    },
    {
      "cell_type": "code",
      "execution_count": 103,
      "metadata": {
        "colab": {
          "base_uri": "https://localhost:8080/"
        },
        "id": "NvVOyA2mgBuc",
        "outputId": "1cc9b870-8325-453b-f056-696e17c99249"
      },
      "outputs": [
        {
          "name": "stdout",
          "output_type": "stream",
          "text": [
            "Resampled dataset shape Counter({0: 7702, 1: 7702})\n"
          ]
        }
      ],
      "source": [
        "print('Resampled dataset shape %s' % Counter(y))"
      ]
    },
    {
      "cell_type": "code",
      "execution_count": 104,
      "metadata": {
        "id": "ak6Md-dnldDV"
      },
      "outputs": [],
      "source": [
        "X_train, X_testOr, y_train, y_testOr = train_test_split(dataset, y, test_size=0.2)"
      ]
    },
    {
      "cell_type": "code",
      "execution_count": 105,
      "metadata": {
        "id": "hc8QyDYMlHZB"
      },
      "outputs": [],
      "source": [
        "X_val, X_test, y_val, y_test = train_test_split(X_testOr, y_testOr, test_size=0.5)"
      ]
    },
    {
      "attachments": {},
      "cell_type": "markdown",
      "metadata": {
        "id": "GNbEkwvrmHFM"
      },
      "source": [
        "# SVM Model"
      ]
    },
    {
      "cell_type": "code",
      "execution_count": 22,
      "metadata": {
        "colab": {
          "base_uri": "https://localhost:8080/",
          "height": 126
        },
        "id": "xGBCK0CWmMSk",
        "outputId": "f2217a6f-6fd7-4a93-e79c-ac286d1c1dfa"
      },
      "outputs": [
        {
          "data": {
            "text/html": [
              "<style>#sk-container-id-1 {color: black;background-color: white;}#sk-container-id-1 pre{padding: 0;}#sk-container-id-1 div.sk-toggleable {background-color: white;}#sk-container-id-1 label.sk-toggleable__label {cursor: pointer;display: block;width: 100%;margin-bottom: 0;padding: 0.3em;box-sizing: border-box;text-align: center;}#sk-container-id-1 label.sk-toggleable__label-arrow:before {content: \"▸\";float: left;margin-right: 0.25em;color: #696969;}#sk-container-id-1 label.sk-toggleable__label-arrow:hover:before {color: black;}#sk-container-id-1 div.sk-estimator:hover label.sk-toggleable__label-arrow:before {color: black;}#sk-container-id-1 div.sk-toggleable__content {max-height: 0;max-width: 0;overflow: hidden;text-align: left;background-color: #f0f8ff;}#sk-container-id-1 div.sk-toggleable__content pre {margin: 0.2em;color: black;border-radius: 0.25em;background-color: #f0f8ff;}#sk-container-id-1 input.sk-toggleable__control:checked~div.sk-toggleable__content {max-height: 200px;max-width: 100%;overflow: auto;}#sk-container-id-1 input.sk-toggleable__control:checked~label.sk-toggleable__label-arrow:before {content: \"▾\";}#sk-container-id-1 div.sk-estimator input.sk-toggleable__control:checked~label.sk-toggleable__label {background-color: #d4ebff;}#sk-container-id-1 div.sk-label input.sk-toggleable__control:checked~label.sk-toggleable__label {background-color: #d4ebff;}#sk-container-id-1 input.sk-hidden--visually {border: 0;clip: rect(1px 1px 1px 1px);clip: rect(1px, 1px, 1px, 1px);height: 1px;margin: -1px;overflow: hidden;padding: 0;position: absolute;width: 1px;}#sk-container-id-1 div.sk-estimator {font-family: monospace;background-color: #f0f8ff;border: 1px dotted black;border-radius: 0.25em;box-sizing: border-box;margin-bottom: 0.5em;}#sk-container-id-1 div.sk-estimator:hover {background-color: #d4ebff;}#sk-container-id-1 div.sk-parallel-item::after {content: \"\";width: 100%;border-bottom: 1px solid gray;flex-grow: 1;}#sk-container-id-1 div.sk-label:hover label.sk-toggleable__label {background-color: #d4ebff;}#sk-container-id-1 div.sk-serial::before {content: \"\";position: absolute;border-left: 1px solid gray;box-sizing: border-box;top: 0;bottom: 0;left: 50%;z-index: 0;}#sk-container-id-1 div.sk-serial {display: flex;flex-direction: column;align-items: center;background-color: white;padding-right: 0.2em;padding-left: 0.2em;position: relative;}#sk-container-id-1 div.sk-item {position: relative;z-index: 1;}#sk-container-id-1 div.sk-parallel {display: flex;align-items: stretch;justify-content: center;background-color: white;position: relative;}#sk-container-id-1 div.sk-item::before, #sk-container-id-1 div.sk-parallel-item::before {content: \"\";position: absolute;border-left: 1px solid gray;box-sizing: border-box;top: 0;bottom: 0;left: 50%;z-index: -1;}#sk-container-id-1 div.sk-parallel-item {display: flex;flex-direction: column;z-index: 1;position: relative;background-color: white;}#sk-container-id-1 div.sk-parallel-item:first-child::after {align-self: flex-end;width: 50%;}#sk-container-id-1 div.sk-parallel-item:last-child::after {align-self: flex-start;width: 50%;}#sk-container-id-1 div.sk-parallel-item:only-child::after {width: 0;}#sk-container-id-1 div.sk-dashed-wrapped {border: 1px dashed gray;margin: 0 0.4em 0.5em 0.4em;box-sizing: border-box;padding-bottom: 0.4em;background-color: white;}#sk-container-id-1 div.sk-label label {font-family: monospace;font-weight: bold;display: inline-block;line-height: 1.2em;}#sk-container-id-1 div.sk-label-container {text-align: center;}#sk-container-id-1 div.sk-container {/* jupyter's `normalize.less` sets `[hidden] { display: none; }` but bootstrap.min.css set `[hidden] { display: none !important; }` so we also need the `!important` here to be able to override the default hidden behavior on the sphinx rendered scikit-learn.org. See: https://github.com/scikit-learn/scikit-learn/issues/21755 */display: inline-block !important;position: relative;}#sk-container-id-1 div.sk-text-repr-fallback {display: none;}</style><div id=\"sk-container-id-1\" class=\"sk-top-container\"><div class=\"sk-text-repr-fallback\"><pre>Pipeline(steps=[(&#x27;scaler&#x27;, StandardScaler()),\n",
              "                (&#x27;svc&#x27;, SVC(gamma=&#x27;auto&#x27;, probability=True))])</pre><b>In a Jupyter environment, please rerun this cell to show the HTML representation or trust the notebook. <br />On GitHub, the HTML representation is unable to render, please try loading this page with nbviewer.org.</b></div><div class=\"sk-container\" hidden><div class=\"sk-item sk-dashed-wrapped\"><div class=\"sk-label-container\"><div class=\"sk-label sk-toggleable\"><input class=\"sk-toggleable__control sk-hidden--visually\" id=\"sk-estimator-id-1\" type=\"checkbox\" ><label for=\"sk-estimator-id-1\" class=\"sk-toggleable__label sk-toggleable__label-arrow\">Pipeline</label><div class=\"sk-toggleable__content\"><pre>Pipeline(steps=[(&#x27;scaler&#x27;, StandardScaler()),\n",
              "                (&#x27;svc&#x27;, SVC(gamma=&#x27;auto&#x27;, probability=True))])</pre></div></div></div><div class=\"sk-serial\"><div class=\"sk-item\"><div class=\"sk-estimator sk-toggleable\"><input class=\"sk-toggleable__control sk-hidden--visually\" id=\"sk-estimator-id-2\" type=\"checkbox\" ><label for=\"sk-estimator-id-2\" class=\"sk-toggleable__label sk-toggleable__label-arrow\">StandardScaler</label><div class=\"sk-toggleable__content\"><pre>StandardScaler()</pre></div></div></div><div class=\"sk-item\"><div class=\"sk-estimator sk-toggleable\"><input class=\"sk-toggleable__control sk-hidden--visually\" id=\"sk-estimator-id-3\" type=\"checkbox\" ><label for=\"sk-estimator-id-3\" class=\"sk-toggleable__label sk-toggleable__label-arrow\">SVC</label><div class=\"sk-toggleable__content\"><pre>SVC(gamma=&#x27;auto&#x27;, probability=True)</pre></div></div></div></div></div></div></div>"
            ],
            "text/plain": [
              "Pipeline(steps=[('scaler', StandardScaler()),\n",
              "                ('svc', SVC(gamma='auto', probability=True))])"
            ]
          },
          "execution_count": 22,
          "metadata": {},
          "output_type": "execute_result"
        }
      ],
      "source": [
        "clf = svm.SVC(kernel='rbf', gamma='auto', probability=True)\n",
        "pipe = Pipeline([('scaler', StandardScaler()), ('svc', clf)])\n",
        "pipe.fit(X_train, y_train)"
      ]
    },
    {
      "cell_type": "code",
      "execution_count": 23,
      "metadata": {
        "id": "Ze-kV4gXmdQA"
      },
      "outputs": [],
      "source": [
        "y_pred_svm_proba_test = pipe.predict_proba(X_test)[:, 1]\n",
        "y_pred_svm_test = pipe.predict(X_test)"
      ]
    },
    {
      "cell_type": "code",
      "execution_count": 24,
      "metadata": {
        "colab": {
          "base_uri": "https://localhost:8080/"
        },
        "id": "5Xt3ljtRmfeC",
        "outputId": "e5c9f8d5-6624-4d3e-d9a3-10d99db59033"
      },
      "outputs": [
        {
          "name": "stdout",
          "output_type": "stream",
          "text": [
            "Accuracy: 0.8260869565217391\n",
            "Precision: 0.8242894056847545\n",
            "Recall: 0.8285714285714286\n"
          ]
        }
      ],
      "source": [
        "print(\"Accuracy:\",metrics.accuracy_score(y_test, y_pred_svm_test))\n",
        "print(\"Precision:\",metrics.precision_score(y_test, y_pred_svm_test))\n",
        "print(\"Recall:\",metrics.recall_score(y_test, y_pred_svm_test))"
      ]
    },
    {
      "cell_type": "code",
      "execution_count": 25,
      "metadata": {
        "colab": {
          "base_uri": "https://localhost:8080/",
          "height": 449
        },
        "id": "cD7ubsuSmkDc",
        "outputId": "0b2ea6da-5087-491d-f9e5-b8efb5824738"
      },
      "outputs": [
        {
          "data": {
            "image/png": "[encoded data removed]",
            "text/plain": [
              "<Figure size 640x480 with 1 Axes>"
            ]
          },
          "metadata": {},
          "output_type": "display_data"
        }
      ],
      "source": [
        "auc_svm_test = metrics.roc_auc_score(y_test, y_pred_svm_proba_test)\n",
        "auc_svm_test = \"{:.3f}\".format(auc_svm_test)\n",
        "fprSVC, tprSVC, _ = metrics.roc_curve(y_test, y_pred_svm_proba_test)\n",
        "plt.plot(fprSVC, tprSVC, label=\"AUC=\"+ auc_svm_test)\n",
        "plt.plot([0,1],[0,1], 'k--')\n",
        "plt.ylabel('True Positive Rate')\n",
        "plt.xlabel('False Positive Rate')\n",
        "plt.legend(loc=4)\n",
        "plt.rcParams[\"figure.figsize\"] = (7,5)\n",
        "plt.show()"
      ]
    },
    {
      "cell_type": "code",
      "execution_count": 26,
      "metadata": {
        "colab": {
          "base_uri": "https://localhost:8080/"
        },
        "id": "QqjMdmypmnbD",
        "outputId": "6f0b9894-0cb4-4873-9e4c-b2e428c62f7e"
      },
      "outputs": [
        {
          "name": "stdout",
          "output_type": "stream",
          "text": [
            "              precision    recall  f1-score   support\n",
            "\n",
            "           0       0.83      0.82      0.83       771\n",
            "           1       0.82      0.83      0.83       770\n",
            "\n",
            "    accuracy                           0.83      1541\n",
            "   macro avg       0.83      0.83      0.83      1541\n",
            "weighted avg       0.83      0.83      0.83      1541\n",
            "\n"
          ]
        }
      ],
      "source": [
        "print(classification_report(y_test, y_pred_svm_test, labels=[0,1]))"
      ]
    },
    {
      "cell_type": "code",
      "execution_count": 27,
      "metadata": {
        "colab": {
          "base_uri": "https://localhost:8080/",
          "height": 483
        },
        "id": "LzYPyeO6mooX",
        "outputId": "c9d23e21-73a9-4c01-f516-58b2ff9b1b68"
      },
      "outputs": [
        {
          "data": {
            "text/plain": [
              "<sklearn.metrics._plot.confusion_matrix.ConfusionMatrixDisplay at 0x23c7e9b6c10>"
            ]
          },
          "execution_count": 27,
          "metadata": {},
          "output_type": "execute_result"
        },
        {
          "data": {
            "image/png": "[encoded data removed]",
            "text/plain": [
              "<Figure size 700x500 with 2 Axes>"
            ]
          },
          "metadata": {},
          "output_type": "display_data"
        }
      ],
      "source": [
        "cm = confusion_matrix(y_test, y_pred_svm_test,  labels=[0,1])\n",
        "mat = ConfusionMatrixDisplay(confusion_matrix=cm)\n",
        "mat.plot()"
      ]
    },
    {
      "attachments": {},
      "cell_type": "markdown",
      "metadata": {
        "id": "y8R6aIW3AD-g"
      },
      "source": [
        "# Validation"
      ]
    },
    {
      "cell_type": "code",
      "execution_count": 28,
      "metadata": {
        "id": "UVzdB-YsAGal"
      },
      "outputs": [],
      "source": [
        "y_pred_svm_val = pipe.predict(X_val)\n",
        "y_pred_svm_val_proba = pipe.predict_proba(X_val)[:, 1]"
      ]
    },
    {
      "cell_type": "code",
      "execution_count": 29,
      "metadata": {},
      "outputs": [],
      "source": [
        "y_pred_svm_proba_train = pipe.predict_proba(X_train)[:, 1]\n",
        "y_pred_svm_train = pipe.predict(X_train)"
      ]
    },
    {
      "cell_type": "code",
      "execution_count": 30,
      "metadata": {
        "colab": {
          "base_uri": "https://localhost:8080/"
        },
        "id": "Jx8lsu06AueP",
        "outputId": "d236791d-5374-4466-cbc4-8783bd99e3ef"
      },
      "outputs": [
        {
          "name": "stdout",
          "output_type": "stream",
          "text": [
            "Accuracy: 0.811038961038961\n",
            "Precision: 0.82125\n",
            "Recall: 0.8161490683229814\n"
          ]
        }
      ],
      "source": [
        "print(\"Accuracy:\",metrics.accuracy_score(y_val, y_pred_svm_val))\n",
        "print(\"Precision:\",metrics.precision_score(y_val, y_pred_svm_val))\n",
        "print(\"Recall:\",metrics.recall_score(y_val, y_pred_svm_val))"
      ]
    },
    {
      "cell_type": "code",
      "execution_count": 31,
      "metadata": {
        "colab": {
          "base_uri": "https://localhost:8080/",
          "height": 465
        },
        "id": "AAfMqvAqA00H",
        "outputId": "e59272ab-bfc3-4b7a-c257-e10bebbc4281"
      },
      "outputs": [
        {
          "data": {
            "image/png": "[encoded data removed]",
            "text/plain": [
              "<Figure size 700x500 with 1 Axes>"
            ]
          },
          "metadata": {},
          "output_type": "display_data"
        }
      ],
      "source": [
        "auc_svm_val = metrics.roc_auc_score(y_val, y_pred_svm_val_proba)\n",
        "auc_svm_train = metrics.roc_auc_score(y_train, y_pred_svm_proba_train)\n",
        "\n",
        "auc_svm_val  = \"{:.3f}\".format(auc_svm_val)\n",
        "auc_svm_train = \"{:.3f}\".format(auc_svm_train)\n",
        "\n",
        "fprSVCval, tprSVCval, _ = metrics.roc_curve(y_val, y_pred_svm_val_proba)\n",
        "fprSVCtrain, tprSVCtrain, _ = metrics.roc_curve(y_train, y_pred_svm_proba_train)\n",
        "\n",
        "plt.plot(fprSVCval, tprSVCval, label=\"AUC Vali = \"+ auc_svm_val)\n",
        "plt.plot(fprSVC, tprSVC, label=\"AUC Test = \"+ auc_svm_test)\n",
        "plt.plot(fprSVCtrain, tprSVCtrain, label=\"AUC Train = \"+ auc_svm_train)\n",
        "\n",
        "plt.plot([0,1],[0,1], 'k--')\n",
        "plt.ylabel('True Positive Rate')\n",
        "plt.xlabel('False Positive Rate')\n",
        "plt.legend(loc=4)\n",
        "plt.title(\"SVM Train/Test/Val --Small Data--\")\n",
        "plt.rcParams[\"figure.figsize\"] = (7,5)\n",
        "plt.show()"
      ]
    },
    {
      "cell_type": "code",
      "execution_count": 32,
      "metadata": {
        "colab": {
          "base_uri": "https://localhost:8080/"
        },
        "id": "kJhYzFDrBBiq",
        "outputId": "4d4275cb-b16e-4ce2-9506-4369bb96ec2a"
      },
      "outputs": [
        {
          "name": "stdout",
          "output_type": "stream",
          "text": [
            "              precision    recall  f1-score   support\n",
            "\n",
            "           0       0.80      0.81      0.80       735\n",
            "           1       0.82      0.82      0.82       805\n",
            "\n",
            "    accuracy                           0.81      1540\n",
            "   macro avg       0.81      0.81      0.81      1540\n",
            "weighted avg       0.81      0.81      0.81      1540\n",
            "\n"
          ]
        }
      ],
      "source": [
        "print(classification_report(y_val, y_pred_svm_val, labels=[0,1]))"
      ]
    },
    {
      "cell_type": "code",
      "execution_count": 33,
      "metadata": {
        "colab": {
          "base_uri": "https://localhost:8080/",
          "height": 483
        },
        "id": "GXmuPYRCBHbJ",
        "outputId": "f6f63dc6-927d-4adc-897c-61a633c6a709"
      },
      "outputs": [
        {
          "data": {
            "text/plain": [
              "<sklearn.metrics._plot.confusion_matrix.ConfusionMatrixDisplay at 0x23c10ad2ca0>"
            ]
          },
          "execution_count": 33,
          "metadata": {},
          "output_type": "execute_result"
        },
        {
          "data": {
            "image/png": "[encoded data removed]",
            "text/plain": [
              "<Figure size 700x500 with 2 Axes>"
            ]
          },
          "metadata": {},
          "output_type": "display_data"
        }
      ],
      "source": [
        "cm = confusion_matrix(y_val, y_pred_svm_val,  labels=[0,1])\n",
        "mat = ConfusionMatrixDisplay(confusion_matrix=cm)\n",
        "mat.plot()"
      ]
    },
    {
      "cell_type": "code",
      "execution_count": 34,
      "metadata": {
        "colab": {
          "base_uri": "https://localhost:8080/"
        },
        "id": "53UUoWgPmr8p",
        "outputId": "a1751e91-f55a-4d0f-9650-ff8752586d83"
      },
      "outputs": [
        {
          "name": "stdout",
          "output_type": "stream",
          "text": [
            "BCE Training: 5.369\n",
            "BCE Validation: 6.367\n"
          ]
        }
      ],
      "source": [
        "kf = KFold(n_splits=5)\n",
        "\n",
        "# We fuse the training and validation set together\n",
        "X_trainval = np.concatenate((X_train, X_val))\n",
        "y_trainval = np.concatenate((y_train, y_val))\n",
        "\n",
        "# Lists to save the losses\n",
        "train_bce = []\n",
        "val_bce = []\n",
        "\n",
        "# loop through the different folds\n",
        "for train_indexes, val_indexes in kf.split(X_trainval):\n",
        "    # create an new linreg model, untrained\n",
        "    clf = svm.SVC(kernel='rbf', gamma='auto')\n",
        "    pipe = Pipeline([('scaler', StandardScaler()), ('svc', clf)])\n",
        "    # train the model on a subset of the training data\n",
        "    pipe.fit(X_trainval[train_indexes], y_trainval[train_indexes])\n",
        "    \n",
        "    # make prediction for training and validation dataset\n",
        "    y_hat_train_temp = pipe.predict(X_trainval[train_indexes])\n",
        "    y_hat_val_temp = pipe.predict(X_trainval[val_indexes])\n",
        "    \n",
        "    # compute the losses\n",
        "    bce_train = log_loss(y_trainval[train_indexes], y_hat_train_temp)\n",
        "    bce_val = log_loss(y_trainval[val_indexes], y_hat_val_temp)\n",
        "    \n",
        "    # append the loss values to the lists\n",
        "    train_bce.append(bce_train)\n",
        "    val_bce.append(bce_val)\n",
        "    \n",
        "print(f\"BCE Training: {round(bce_train, 3)}\")\n",
        "print(f\"BCE Validation: {round(bce_val, 3)}\")"
      ]
    },
    {
      "attachments": {},
      "cell_type": "markdown",
      "metadata": {
        "id": "h_65GM7Cnrr0"
      },
      "source": [
        "# Random Forest"
      ]
    },
    {
      "cell_type": "code",
      "execution_count": 35,
      "metadata": {
        "colab": {
          "base_uri": "https://localhost:8080/",
          "height": 126
        },
        "id": "xDls1p10n6ih",
        "outputId": "59ff602f-e7f6-4231-b5a6-5ffdb5f8d0d7"
      },
      "outputs": [
        {
          "data": {
            "text/html": [
              "<style>#sk-container-id-2 {color: black;background-color: white;}#sk-container-id-2 pre{padding: 0;}#sk-container-id-2 div.sk-toggleable {background-color: white;}#sk-container-id-2 label.sk-toggleable__label {cursor: pointer;display: block;width: 100%;margin-bottom: 0;padding: 0.3em;box-sizing: border-box;text-align: center;}#sk-container-id-2 label.sk-toggleable__label-arrow:before {content: \"▸\";float: left;margin-right: 0.25em;color: #696969;}#sk-container-id-2 label.sk-toggleable__label-arrow:hover:before {color: black;}#sk-container-id-2 div.sk-estimator:hover label.sk-toggleable__label-arrow:before {color: black;}#sk-container-id-2 div.sk-toggleable__content {max-height: 0;max-width: 0;overflow: hidden;text-align: left;background-color: #f0f8ff;}#sk-container-id-2 div.sk-toggleable__content pre {margin: 0.2em;color: black;border-radius: 0.25em;background-color: #f0f8ff;}#sk-container-id-2 input.sk-toggleable__control:checked~div.sk-toggleable__content {max-height: 200px;max-width: 100%;overflow: auto;}#sk-container-id-2 input.sk-toggleable__control:checked~label.sk-toggleable__label-arrow:before {content: \"▾\";}#sk-container-id-2 div.sk-estimator input.sk-toggleable__control:checked~label.sk-toggleable__label {background-color: #d4ebff;}#sk-container-id-2 div.sk-label input.sk-toggleable__control:checked~label.sk-toggleable__label {background-color: #d4ebff;}#sk-container-id-2 input.sk-hidden--visually {border: 0;clip: rect(1px 1px 1px 1px);clip: rect(1px, 1px, 1px, 1px);height: 1px;margin: -1px;overflow: hidden;padding: 0;position: absolute;width: 1px;}#sk-container-id-2 div.sk-estimator {font-family: monospace;background-color: #f0f8ff;border: 1px dotted black;border-radius: 0.25em;box-sizing: border-box;margin-bottom: 0.5em;}#sk-container-id-2 div.sk-estimator:hover {background-color: #d4ebff;}#sk-container-id-2 div.sk-parallel-item::after {content: \"\";width: 100%;border-bottom: 1px solid gray;flex-grow: 1;}#sk-container-id-2 div.sk-label:hover label.sk-toggleable__label {background-color: #d4ebff;}#sk-container-id-2 div.sk-serial::before {content: \"\";position: absolute;border-left: 1px solid gray;box-sizing: border-box;top: 0;bottom: 0;left: 50%;z-index: 0;}#sk-container-id-2 div.sk-serial {display: flex;flex-direction: column;align-items: center;background-color: white;padding-right: 0.2em;padding-left: 0.2em;position: relative;}#sk-container-id-2 div.sk-item {position: relative;z-index: 1;}#sk-container-id-2 div.sk-parallel {display: flex;align-items: stretch;justify-content: center;background-color: white;position: relative;}#sk-container-id-2 div.sk-item::before, #sk-container-id-2 div.sk-parallel-item::before {content: \"\";position: absolute;border-left: 1px solid gray;box-sizing: border-box;top: 0;bottom: 0;left: 50%;z-index: -1;}#sk-container-id-2 div.sk-parallel-item {display: flex;flex-direction: column;z-index: 1;position: relative;background-color: white;}#sk-container-id-2 div.sk-parallel-item:first-child::after {align-self: flex-end;width: 50%;}#sk-container-id-2 div.sk-parallel-item:last-child::after {align-self: flex-start;width: 50%;}#sk-container-id-2 div.sk-parallel-item:only-child::after {width: 0;}#sk-container-id-2 div.sk-dashed-wrapped {border: 1px dashed gray;margin: 0 0.4em 0.5em 0.4em;box-sizing: border-box;padding-bottom: 0.4em;background-color: white;}#sk-container-id-2 div.sk-label label {font-family: monospace;font-weight: bold;display: inline-block;line-height: 1.2em;}#sk-container-id-2 div.sk-label-container {text-align: center;}#sk-container-id-2 div.sk-container {/* jupyter's `normalize.less` sets `[hidden] { display: none; }` but bootstrap.min.css set `[hidden] { display: none !important; }` so we also need the `!important` here to be able to override the default hidden behavior on the sphinx rendered scikit-learn.org. See: https://github.com/scikit-learn/scikit-learn/issues/21755 */display: inline-block !important;position: relative;}#sk-container-id-2 div.sk-text-repr-fallback {display: none;}</style><div id=\"sk-container-id-2\" class=\"sk-top-container\"><div class=\"sk-text-repr-fallback\"><pre>Pipeline(steps=[(&#x27;scaler&#x27;, StandardScaler()),\n",
              "                (&#x27;rf&#x27;,\n",
              "                 RandomForestClassifier(max_depth=10, n_estimators=30,\n",
              "                                        random_state=42))])</pre><b>In a Jupyter environment, please rerun this cell to show the HTML representation or trust the notebook. <br />On GitHub, the HTML representation is unable to render, please try loading this page with nbviewer.org.</b></div><div class=\"sk-container\" hidden><div class=\"sk-item sk-dashed-wrapped\"><div class=\"sk-label-container\"><div class=\"sk-label sk-toggleable\"><input class=\"sk-toggleable__control sk-hidden--visually\" id=\"sk-estimator-id-4\" type=\"checkbox\" ><label for=\"sk-estimator-id-4\" class=\"sk-toggleable__label sk-toggleable__label-arrow\">Pipeline</label><div class=\"sk-toggleable__content\"><pre>Pipeline(steps=[(&#x27;scaler&#x27;, StandardScaler()),\n",
              "                (&#x27;rf&#x27;,\n",
              "                 RandomForestClassifier(max_depth=10, n_estimators=30,\n",
              "                                        random_state=42))])</pre></div></div></div><div class=\"sk-serial\"><div class=\"sk-item\"><div class=\"sk-estimator sk-toggleable\"><input class=\"sk-toggleable__control sk-hidden--visually\" id=\"sk-estimator-id-5\" type=\"checkbox\" ><label for=\"sk-estimator-id-5\" class=\"sk-toggleable__label sk-toggleable__label-arrow\">StandardScaler</label><div class=\"sk-toggleable__content\"><pre>StandardScaler()</pre></div></div></div><div class=\"sk-item\"><div class=\"sk-estimator sk-toggleable\"><input class=\"sk-toggleable__control sk-hidden--visually\" id=\"sk-estimator-id-6\" type=\"checkbox\" ><label for=\"sk-estimator-id-6\" class=\"sk-toggleable__label sk-toggleable__label-arrow\">RandomForestClassifier</label><div class=\"sk-toggleable__content\"><pre>RandomForestClassifier(max_depth=10, n_estimators=30, random_state=42)</pre></div></div></div></div></div></div></div>"
            ],
            "text/plain": [
              "Pipeline(steps=[('scaler', StandardScaler()),\n",
              "                ('rf',\n",
              "                 RandomForestClassifier(max_depth=10, n_estimators=30,\n",
              "                                        random_state=42))])"
            ]
          },
          "execution_count": 35,
          "metadata": {},
          "output_type": "execute_result"
        }
      ],
      "source": [
        "rf = RandomForestClassifier(n_estimators=30,max_depth=10, random_state=42)\n",
        "pipe = Pipeline([(\"scaler\", StandardScaler()),('rf', rf)])\n",
        "pipe.fit(X_train, y_train)"
      ]
    },
    {
      "cell_type": "code",
      "execution_count": 36,
      "metadata": {
        "id": "-ZsXE7GpoPQJ"
      },
      "outputs": [],
      "source": [
        "y_predrf = pipe.predict(X_test)\n",
        "y_predrf_proba = pipe.predict_proba(X_test)[:,1]"
      ]
    },
    {
      "cell_type": "code",
      "execution_count": 37,
      "metadata": {
        "colab": {
          "base_uri": "https://localhost:8080/"
        },
        "id": "Ocwpm6K5iltp",
        "outputId": "7f471d5a-fe51-4269-b296-1d9a071891b0"
      },
      "outputs": [
        {
          "name": "stdout",
          "output_type": "stream",
          "text": [
            "Accuracy: 0.8345230369889682\n",
            "Precision: 0.8366013071895425\n",
            "Recall: 0.8311688311688312\n"
          ]
        }
      ],
      "source": [
        "print(\"Accuracy:\",metrics.accuracy_score(y_test, y_predrf))\n",
        "print(\"Precision:\",metrics.precision_score(y_test, y_predrf))\n",
        "print(\"Recall:\",metrics.recall_score(y_test, y_predrf))"
      ]
    },
    {
      "cell_type": "code",
      "execution_count": 38,
      "metadata": {
        "colab": {
          "base_uri": "https://localhost:8080/",
          "height": 465
        },
        "id": "mcqL0C74oRYB",
        "outputId": "83a7a336-000d-4c07-8678-a6bd09bb27b3"
      },
      "outputs": [
        {
          "data": {
            "image/png": "[encoded data removed]",
            "text/plain": [
              "<Figure size 700x500 with 1 Axes>"
            ]
          },
          "metadata": {},
          "output_type": "display_data"
        }
      ],
      "source": [
        "auc = metrics.roc_auc_score(y_test, y_predrf_proba)\n",
        "auc = \"{:.3f}\".format(auc)\n",
        "fprRF, tprRF, _ = metrics.roc_curve(y_test, y_predrf_proba)\n",
        "plt.plot(fprRF, tprRF, label=\"AUC=\"+ auc)\n",
        "plt.plot([0,1],[0,1], 'k--')\n",
        "plt.ylabel('True Positive Rate')\n",
        "plt.xlabel('False Positive Rate')\n",
        "plt.legend(loc=4)\n",
        "plt.show()"
      ]
    },
    {
      "cell_type": "code",
      "execution_count": 39,
      "metadata": {
        "colab": {
          "base_uri": "https://localhost:8080/"
        },
        "id": "YwIrVhYgoUQT",
        "outputId": "8d72cc92-cf9a-4103-f014-457b2e04fd7b"
      },
      "outputs": [
        {
          "name": "stdout",
          "output_type": "stream",
          "text": [
            "              precision    recall  f1-score   support\n",
            "\n",
            "           0       0.83      0.84      0.84       771\n",
            "           1       0.84      0.83      0.83       770\n",
            "\n",
            "    accuracy                           0.83      1541\n",
            "   macro avg       0.83      0.83      0.83      1541\n",
            "weighted avg       0.83      0.83      0.83      1541\n",
            "\n"
          ]
        }
      ],
      "source": [
        "print(classification_report(y_test, y_predrf, labels=[0,1]))"
      ]
    },
    {
      "cell_type": "code",
      "execution_count": 40,
      "metadata": {
        "colab": {
          "base_uri": "https://localhost:8080/",
          "height": 483
        },
        "id": "w2SVR0vAoWZM",
        "outputId": "bb6584ec-6ef6-4ec9-bc03-8b1057097b5a"
      },
      "outputs": [
        {
          "data": {
            "text/plain": [
              "<sklearn.metrics._plot.confusion_matrix.ConfusionMatrixDisplay at 0x23c10a43f70>"
            ]
          },
          "execution_count": 40,
          "metadata": {},
          "output_type": "execute_result"
        },
        {
          "data": {
            "image/png": "[encoded data removed]",
            "text/plain": [
              "<Figure size 700x500 with 2 Axes>"
            ]
          },
          "metadata": {},
          "output_type": "display_data"
        }
      ],
      "source": [
        "cm = confusion_matrix(y_test, y_predrf)\n",
        "mat = ConfusionMatrixDisplay(confusion_matrix=cm)\n",
        "mat.plot()"
      ]
    },
    {
      "attachments": {},
      "cell_type": "markdown",
      "metadata": {
        "id": "ZahS1DCUB0R7"
      },
      "source": [
        "# Validation"
      ]
    },
    {
      "cell_type": "code",
      "execution_count": 41,
      "metadata": {
        "id": "PK_Sa7AzBz_L"
      },
      "outputs": [],
      "source": [
        "y_predrf_val = pipe.predict(X_val)\n",
        "y_predrf_val_proba = pipe.predict_proba(X_val)[:,1]"
      ]
    },
    {
      "cell_type": "code",
      "execution_count": 42,
      "metadata": {},
      "outputs": [],
      "source": [
        "y_predrf_train = pipe.predict(X_train)\n",
        "y_predrf_train_proba = pipe.predict_proba(X_train)[:,1]"
      ]
    },
    {
      "cell_type": "code",
      "execution_count": 43,
      "metadata": {
        "colab": {
          "base_uri": "https://localhost:8080/"
        },
        "id": "xqQljfSTClgH",
        "outputId": "1915d837-aec6-4136-db4e-b2cddccee5ab"
      },
      "outputs": [
        {
          "name": "stdout",
          "output_type": "stream",
          "text": [
            "Accuracy: 0.8220779220779221\n",
            "Precision: 0.8356510745891277\n",
            "Recall: 0.8211180124223603\n"
          ]
        }
      ],
      "source": [
        "print(\"Accuracy:\",metrics.accuracy_score(y_val, y_predrf_val))\n",
        "print(\"Precision:\",metrics.precision_score(y_val, y_predrf_val))\n",
        "print(\"Recall:\",metrics.recall_score(y_val, y_predrf_val))"
      ]
    },
    {
      "cell_type": "code",
      "execution_count": 44,
      "metadata": {
        "colab": {
          "base_uri": "https://localhost:8080/",
          "height": 465
        },
        "id": "azjT-0HMCzW0",
        "outputId": "1d0f0388-2761-46b5-c86b-69cedeb8ddfd"
      },
      "outputs": [
        {
          "data": {
            "image/png": "[encoded data removed]",
            "text/plain": [
              "<Figure size 700x500 with 1 Axes>"
            ]
          },
          "metadata": {},
          "output_type": "display_data"
        }
      ],
      "source": [
        "aucval = metrics.roc_auc_score(y_val, y_predrf_val_proba)\n",
        "auctrain = metrics.roc_auc_score(y_train, y_predrf_train_proba)\n",
        "\n",
        "aucval = \"{:.3f}\".format(aucval)\n",
        "auctrain = \"{:.3f}\".format(auctrain)\n",
        "\n",
        "fprRFval, tprRFval, _ = metrics.roc_curve(y_val, y_predrf_val_proba)\n",
        "fprRFtrain, tprRFtrain, _ = metrics.roc_curve(y_train, y_predrf_train_proba)\n",
        "\n",
        "plt.plot(fprRF, tprRF, label=\"AUC Test = \"+ auc)\n",
        "plt.plot(fprRFtrain, tprRFtrain, label=\"AUC Train = \"+ auctrain)\n",
        "plt.plot(fprRFval, tprRFval, label=\"AUC Vali = \"+ aucval)\n",
        "\n",
        "plt.title(\"Random Forest Train/Test/Val --Small Data--\")\n",
        "plt.plot([0,1],[0,1], 'k--')\n",
        "plt.ylabel('True Positive Rate')\n",
        "plt.xlabel('False Positive Rate')\n",
        "plt.legend(loc=4)\n",
        "plt.show()"
      ]
    },
    {
      "cell_type": "code",
      "execution_count": 45,
      "metadata": {
        "colab": {
          "base_uri": "https://localhost:8080/"
        },
        "id": "1DQPOKjwDT-3",
        "outputId": "ed946f5b-4136-4b6c-a8ae-5b37c511b1d2"
      },
      "outputs": [
        {
          "name": "stdout",
          "output_type": "stream",
          "text": [
            "              precision    recall  f1-score   support\n",
            "\n",
            "           0       0.81      0.82      0.82       735\n",
            "           1       0.84      0.82      0.83       805\n",
            "\n",
            "    accuracy                           0.82      1540\n",
            "   macro avg       0.82      0.82      0.82      1540\n",
            "weighted avg       0.82      0.82      0.82      1540\n",
            "\n"
          ]
        }
      ],
      "source": [
        "print(classification_report(y_val, y_predrf_val, labels=[0,1]))"
      ]
    },
    {
      "cell_type": "code",
      "execution_count": 46,
      "metadata": {
        "colab": {
          "base_uri": "https://localhost:8080/",
          "height": 483
        },
        "id": "tIXN795rDZ7l",
        "outputId": "997f58e8-9387-4fbc-91c6-c8b7adac936b"
      },
      "outputs": [
        {
          "data": {
            "text/plain": [
              "<sklearn.metrics._plot.confusion_matrix.ConfusionMatrixDisplay at 0x23c10a8b5e0>"
            ]
          },
          "execution_count": 46,
          "metadata": {},
          "output_type": "execute_result"
        },
        {
          "data": {
            "image/png": "[encoded data removed]",
            "text/plain": [
              "<Figure size 700x500 with 2 Axes>"
            ]
          },
          "metadata": {},
          "output_type": "display_data"
        }
      ],
      "source": [
        "cm = confusion_matrix(y_val, y_predrf_val)\n",
        "mat = ConfusionMatrixDisplay(confusion_matrix=cm)\n",
        "mat.plot()"
      ]
    },
    {
      "attachments": {},
      "cell_type": "markdown",
      "metadata": {
        "id": "JEs1k4xoofGH"
      },
      "source": [
        "# Neural Network"
      ]
    },
    {
      "cell_type": "code",
      "execution_count": 47,
      "metadata": {
        "id": "dxlKHOOOpNvS"
      },
      "outputs": [],
      "source": [
        "from tensorflow.keras.models import Sequential\n",
        "from tensorflow.keras.layers import Dense"
      ]
    },
    {
      "cell_type": "code",
      "execution_count": 106,
      "metadata": {
        "colab": {
          "base_uri": "https://localhost:8080/"
        },
        "id": "btS1Fq_PpUV1",
        "outputId": "795c6a07-65f0-4298-aaa7-500bef755377"
      },
      "outputs": [
        {
          "name": "stdout",
          "output_type": "stream",
          "text": [
            "Epoch 1/50\n",
            "1541/1541 [==============================] - 3s 2ms/step - loss: 1.4901 - accuracy: 0.5467\n",
            "Epoch 2/50\n",
            "1541/1541 [==============================] - 3s 2ms/step - loss: 0.6892 - accuracy: 0.6379\n",
            "Epoch 3/50\n",
            "1541/1541 [==============================] - 4s 2ms/step - loss: 0.6388 - accuracy: 0.6765\n",
            "Epoch 4/50\n",
            "1541/1541 [==============================] - 4s 3ms/step - loss: 0.5856 - accuracy: 0.7045\n",
            "Epoch 5/50\n",
            "1541/1541 [==============================] - 3s 2ms/step - loss: 0.5804 - accuracy: 0.7197\n",
            "Epoch 6/50\n",
            "1541/1541 [==============================] - 4s 3ms/step - loss: 0.5600 - accuracy: 0.7322\n",
            "Epoch 7/50\n",
            "1541/1541 [==============================] - 4s 2ms/step - loss: 0.5703 - accuracy: 0.7393\n",
            "Epoch 8/50\n",
            "1541/1541 [==============================] - 4s 2ms/step - loss: 0.5314 - accuracy: 0.7484\n",
            "Epoch 9/50\n",
            "1541/1541 [==============================] - 3s 2ms/step - loss: 0.5172 - accuracy: 0.7538\n",
            "Epoch 10/50\n",
            "1541/1541 [==============================] - 4s 3ms/step - loss: 0.5139 - accuracy: 0.7562\n",
            "Epoch 11/50\n",
            "1541/1541 [==============================] - 4s 3ms/step - loss: 0.5161 - accuracy: 0.7579\n",
            "Epoch 12/50\n",
            "1541/1541 [==============================] - 4s 3ms/step - loss: 0.5827 - accuracy: 0.7591\n",
            "Epoch 13/50\n",
            "1541/1541 [==============================] - 5s 4ms/step - loss: 0.5075 - accuracy: 0.7622\n",
            "Epoch 14/50\n",
            "1541/1541 [==============================] - 5s 3ms/step - loss: 0.4886 - accuracy: 0.7668\n",
            "Epoch 15/50\n",
            "1541/1541 [==============================] - 5s 4ms/step - loss: 0.5077 - accuracy: 0.7667\n",
            "Epoch 16/50\n",
            "1541/1541 [==============================] - 5s 3ms/step - loss: 0.4888 - accuracy: 0.7696\n",
            "Epoch 17/50\n",
            "1541/1541 [==============================] - 5s 4ms/step - loss: 0.4896 - accuracy: 0.7746\n",
            "Epoch 18/50\n",
            "1541/1541 [==============================] - 5s 4ms/step - loss: 0.4945 - accuracy: 0.7686\n",
            "Epoch 19/50\n",
            "1541/1541 [==============================] - 6s 4ms/step - loss: 0.4982 - accuracy: 0.7677\n",
            "Epoch 20/50\n",
            "1541/1541 [==============================] - 4s 3ms/step - loss: 0.4825 - accuracy: 0.7722\n",
            "Epoch 21/50\n",
            "1541/1541 [==============================] - 5s 3ms/step - loss: 0.4902 - accuracy: 0.7742\n",
            "Epoch 22/50\n",
            "1541/1541 [==============================] - 4s 3ms/step - loss: 0.5426 - accuracy: 0.7746\n",
            "Epoch 23/50\n",
            "1541/1541 [==============================] - 4s 3ms/step - loss: 0.4782 - accuracy: 0.7780\n",
            "Epoch 24/50\n",
            "1541/1541 [==============================] - 4s 3ms/step - loss: 0.4822 - accuracy: 0.7773\n",
            "Epoch 25/50\n",
            "1541/1541 [==============================] - 4s 3ms/step - loss: 0.4781 - accuracy: 0.7777\n",
            "Epoch 26/50\n",
            "1541/1541 [==============================] - 4s 3ms/step - loss: 0.4883 - accuracy: 0.7757\n",
            "Epoch 27/50\n",
            "1541/1541 [==============================] - 4s 3ms/step - loss: 0.4867 - accuracy: 0.7772\n",
            "Epoch 28/50\n",
            "1541/1541 [==============================] - 4s 3ms/step - loss: 0.4812 - accuracy: 0.7786\n",
            "Epoch 29/50\n",
            "1541/1541 [==============================] - 4s 3ms/step - loss: 0.4764 - accuracy: 0.7779\n",
            "Epoch 30/50\n",
            "1541/1541 [==============================] - 5s 3ms/step - loss: 0.4814 - accuracy: 0.7797\n",
            "Epoch 31/50\n",
            "1541/1541 [==============================] - 6s 4ms/step - loss: 0.4708 - accuracy: 0.7811\n",
            "Epoch 32/50\n",
            "1541/1541 [==============================] - 6s 4ms/step - loss: 0.4906 - accuracy: 0.7781\n",
            "Epoch 33/50\n",
            "1541/1541 [==============================] - 6s 4ms/step - loss: 0.4711 - accuracy: 0.7791\n",
            "Epoch 34/50\n",
            "1541/1541 [==============================] - 4s 3ms/step - loss: 0.4732 - accuracy: 0.7799\n",
            "Epoch 35/50\n",
            "1541/1541 [==============================] - 4s 2ms/step - loss: 0.4776 - accuracy: 0.7773\n",
            "Epoch 36/50\n",
            "1541/1541 [==============================] - 4s 3ms/step - loss: 0.4739 - accuracy: 0.7774\n",
            "Epoch 37/50\n",
            "1541/1541 [==============================] - 4s 3ms/step - loss: 0.4778 - accuracy: 0.7751\n",
            "Epoch 38/50\n",
            "1541/1541 [==============================] - 4s 3ms/step - loss: 0.4701 - accuracy: 0.7778\n",
            "Epoch 39/50\n",
            "1541/1541 [==============================] - 4s 3ms/step - loss: 0.4900 - accuracy: 0.7768\n",
            "Epoch 40/50\n",
            "1541/1541 [==============================] - 4s 3ms/step - loss: 0.4701 - accuracy: 0.7824\n",
            "Epoch 41/50\n",
            "1541/1541 [==============================] - 4s 3ms/step - loss: 0.4687 - accuracy: 0.7823\n",
            "Epoch 42/50\n",
            "1541/1541 [==============================] - 4s 3ms/step - loss: 0.4711 - accuracy: 0.7828\n",
            "Epoch 43/50\n",
            "1541/1541 [==============================] - 4s 3ms/step - loss: 0.4768 - accuracy: 0.7818\n",
            "Epoch 44/50\n",
            "1541/1541 [==============================] - 4s 3ms/step - loss: 0.4690 - accuracy: 0.7797\n",
            "Epoch 45/50\n",
            "1541/1541 [==============================] - 4s 3ms/step - loss: 0.4696 - accuracy: 0.7831\n",
            "Epoch 46/50\n",
            "1541/1541 [==============================] - 4s 3ms/step - loss: 0.4668 - accuracy: 0.7820\n",
            "Epoch 47/50\n",
            "1541/1541 [==============================] - 4s 3ms/step - loss: 0.4673 - accuracy: 0.7807\n",
            "Epoch 48/50\n",
            "1541/1541 [==============================] - 4s 3ms/step - loss: 0.4767 - accuracy: 0.7828\n",
            "Epoch 49/50\n",
            "1541/1541 [==============================] - 4s 3ms/step - loss: 0.4654 - accuracy: 0.7794\n",
            "Epoch 50/50\n",
            "1541/1541 [==============================] - 4s 3ms/step - loss: 0.4663 - accuracy: 0.7826\n"
          ]
        },
        {
          "data": {
            "text/plain": [
              "<tensorflow.python.keras.callbacks.History at 0x23c10db3430>"
            ]
          },
          "execution_count": 106,
          "metadata": {},
          "output_type": "execute_result"
        }
      ],
      "source": [
        "n_inputs = X_train.shape[1]\n",
        "\n",
        "model = Sequential()\n",
        "model.add(Dense(12, input_dim=n_inputs, activation='relu'))\n",
        "model.add(Dense(8, activation='relu'))\n",
        "model.add(Dense(1, activation='sigmoid'))\n",
        "model.compile(loss='binary_crossentropy', optimizer='adam', metrics=['accuracy'])\n",
        "model.fit(X_train, y_train, epochs=50, batch_size=8)"
      ]
    },
    {
      "cell_type": "code",
      "execution_count": 114,
      "metadata": {
        "colab": {
          "base_uri": "https://localhost:8080/"
        },
        "id": "F-wR2fmdjWzV",
        "outputId": "aeb1323a-7c5f-44ce-bbe5-3b3fa59337e8"
      },
      "outputs": [],
      "source": [
        "y_nn = model.predict(X_test)"
      ]
    },
    {
      "cell_type": "code",
      "execution_count": 115,
      "metadata": {
        "colab": {
          "base_uri": "https://localhost:8080/"
        },
        "id": "ccz6PkK-qSTj",
        "outputId": "569be180-fc91-4341-93e6-f7161b928a79"
      },
      "outputs": [
        {
          "name": "stdout",
          "output_type": "stream",
          "text": [
            "Accuracy: 0.7897469175859831\n",
            "Precision: 0.7917737789203085\n",
            "Recall: 0.7917737789203085\n"
          ]
        }
      ],
      "source": [
        "print(\"Accuracy:\",metrics.accuracy_score(y_test, y_nn.round()))\n",
        "print(\"Precision:\",metrics.precision_score(y_test, y_nn.round()))\n",
        "print(\"Recall:\",metrics.recall_score(y_test, y_nn.round()))"
      ]
    },
    {
      "cell_type": "code",
      "execution_count": 116,
      "metadata": {
        "colab": {
          "base_uri": "https://localhost:8080/",
          "height": 465
        },
        "id": "XdR6Y-XuqpyW",
        "outputId": "f1b2b27c-b1ec-422c-9e7a-2fcc00a71ee6"
      },
      "outputs": [
        {
          "data": {
            "image/png": "[encoded data removed]",
            "text/plain": [
              "<Figure size 700x500 with 1 Axes>"
            ]
          },
          "metadata": {},
          "output_type": "display_data"
        }
      ],
      "source": [
        "auc = metrics.roc_auc_score(y_test, y_nn)\n",
        "auc = \"{:.3f}\".format(auc)\n",
        "fprNN, tprNN, _ = metrics.roc_curve(y_test, y_nn)\n",
        "plt.plot(fprNN, tprNN, label=\"AUC=\"+ auc)\n",
        "plt.plot([0,1],[0,1], 'k--')\n",
        "plt.ylabel('True Positive Rate')\n",
        "plt.xlabel('False Positive Rate')\n",
        "plt.legend(loc=4)\n",
        "plt.show()"
      ]
    },
    {
      "cell_type": "code",
      "execution_count": 117,
      "metadata": {
        "colab": {
          "base_uri": "https://localhost:8080/"
        },
        "id": "7snWpJFfqzRK",
        "outputId": "578a3f75-2d5d-4c97-8a2e-296196b5ed48"
      },
      "outputs": [
        {
          "name": "stdout",
          "output_type": "stream",
          "text": [
            "              precision    recall  f1-score   support\n",
            "\n",
            "           0       0.79      0.79      0.79       763\n",
            "           1       0.79      0.79      0.79       778\n",
            "\n",
            "    accuracy                           0.79      1541\n",
            "   macro avg       0.79      0.79      0.79      1541\n",
            "weighted avg       0.79      0.79      0.79      1541\n",
            "\n"
          ]
        }
      ],
      "source": [
        "print(classification_report(y_test, y_nn.round(), labels=[0,1]))"
      ]
    },
    {
      "cell_type": "code",
      "execution_count": 118,
      "metadata": {
        "colab": {
          "base_uri": "https://localhost:8080/",
          "height": 483
        },
        "id": "l7yLi8J6q236",
        "outputId": "cd7d1e51-fa0f-4290-c93c-8c4560d26614"
      },
      "outputs": [
        {
          "data": {
            "text/plain": [
              "<sklearn.metrics._plot.confusion_matrix.ConfusionMatrixDisplay at 0x23c10febb50>"
            ]
          },
          "execution_count": 118,
          "metadata": {},
          "output_type": "execute_result"
        },
        {
          "data": {
            "image/png": "[encoded data removed]",
            "text/plain": [
              "<Figure size 700x500 with 2 Axes>"
            ]
          },
          "metadata": {},
          "output_type": "display_data"
        }
      ],
      "source": [
        "cm = confusion_matrix(y_test, y_nn.round())\n",
        "mat = ConfusionMatrixDisplay(confusion_matrix=cm)\n",
        "mat.plot()"
      ]
    },
    {
      "attachments": {},
      "cell_type": "markdown",
      "metadata": {
        "id": "iQRiY2VHEulz"
      },
      "source": [
        "# Validation"
      ]
    },
    {
      "cell_type": "code",
      "execution_count": 119,
      "metadata": {
        "colab": {
          "base_uri": "https://localhost:8080/"
        },
        "id": "ZLjFmZryEwbS",
        "outputId": "54a771dc-f9b1-4099-b765-8b3bfcd30c28"
      },
      "outputs": [],
      "source": [
        "y_nn_val = model.predict(X_val)\n",
        "y_nn_train = model.predict(X_train)"
      ]
    },
    {
      "cell_type": "code",
      "execution_count": 120,
      "metadata": {
        "colab": {
          "base_uri": "https://localhost:8080/"
        },
        "id": "ro_okFqJEx2Y",
        "outputId": "b4b9bc4b-7df6-4158-acf8-0cd42f08e986"
      },
      "outputs": [
        {
          "name": "stdout",
          "output_type": "stream",
          "text": [
            "Accuracy: 0.7798701298701298\n",
            "Precision: 0.7650200267022697\n",
            "Recall: 0.7785326086956522\n"
          ]
        }
      ],
      "source": [
        "print(\"Accuracy:\",metrics.accuracy_score(y_val, y_nn_val.round()))\n",
        "print(\"Precision:\",metrics.precision_score(y_val, y_nn_val.round()))\n",
        "print(\"Recall:\",metrics.recall_score(y_val, y_nn_val.round()))"
      ]
    },
    {
      "cell_type": "code",
      "execution_count": 121,
      "metadata": {
        "colab": {
          "base_uri": "https://localhost:8080/",
          "height": 465
        },
        "id": "g0ujsQumE7_5",
        "outputId": "9a1acda5-71cd-481b-ea9a-ab1b4165e771"
      },
      "outputs": [
        {
          "data": {
            "image/png": "[encoded data removed]",
            "text/plain": [
              "<Figure size 700x500 with 1 Axes>"
            ]
          },
          "metadata": {},
          "output_type": "display_data"
        }
      ],
      "source": [
        "aucval = metrics.roc_auc_score(y_val, y_nn_val)\n",
        "aucval = \"{:.3f}\".format(aucval)\n",
        "auctrain = metrics.roc_auc_score(y_train, y_nn_train)\n",
        "auctrain = \"{:.3f}\".format(auctrain)\n",
        "fprNNval, tprNNval, _ = metrics.roc_curve(y_val, y_nn_val)\n",
        "fprNNtrain, tprNNtrain, _ = metrics.roc_curve(y_train, y_nn_train)\n",
        "plt.plot(fprNN, tprNN, label=\"AUC Test = \"+ auc)\n",
        "plt.plot(fprNNval, tprNNval, label=\"AUC Valid = \"+ aucval)\n",
        "plt.plot(fprNNtrain, tprNNtrain, label=\"AUC train = \"+ auctrain)\n",
        "plt.plot([0,1],[0,1], 'k--')\n",
        "plt.title(\"Neural Network Train/Test/Val --Small Data--\")\n",
        "plt.ylabel('True Positive Rate')\n",
        "plt.xlabel('False Positive Rate')\n",
        "plt.legend(loc=4)\n",
        "plt.show()"
      ]
    },
    {
      "cell_type": "code",
      "execution_count": 122,
      "metadata": {
        "colab": {
          "base_uri": "https://localhost:8080/"
        },
        "id": "ZQEKJNyRFNl3",
        "outputId": "b6ab60ab-044e-4d92-f821-f27139b6a6ae"
      },
      "outputs": [
        {
          "name": "stdout",
          "output_type": "stream",
          "text": [
            "              precision    recall  f1-score   support\n",
            "\n",
            "           0       0.79      0.78      0.79       804\n",
            "           1       0.77      0.78      0.77       736\n",
            "\n",
            "    accuracy                           0.78      1540\n",
            "   macro avg       0.78      0.78      0.78      1540\n",
            "weighted avg       0.78      0.78      0.78      1540\n",
            "\n"
          ]
        }
      ],
      "source": [
        "print(classification_report(y_val, y_nn_val.round(), labels=[0,1]))"
      ]
    },
    {
      "cell_type": "code",
      "execution_count": 123,
      "metadata": {
        "colab": {
          "base_uri": "https://localhost:8080/",
          "height": 483
        },
        "id": "AsbHn94YFTj2",
        "outputId": "2e283a91-a48b-444d-9cd5-58c4c41620e3"
      },
      "outputs": [
        {
          "data": {
            "text/plain": [
              "<sklearn.metrics._plot.confusion_matrix.ConfusionMatrixDisplay at 0x23c11014a90>"
            ]
          },
          "execution_count": 123,
          "metadata": {},
          "output_type": "execute_result"
        },
        {
          "data": {
            "image/png": "[encoded data removed]",
            "text/plain": [
              "<Figure size 700x500 with 2 Axes>"
            ]
          },
          "metadata": {},
          "output_type": "display_data"
        }
      ],
      "source": [
        "cm = confusion_matrix(y_val, y_nn_val.round())\n",
        "mat = ConfusionMatrixDisplay(confusion_matrix=cm)\n",
        "mat.plot()"
      ]
    },
    {
      "attachments": {},
      "cell_type": "markdown",
      "metadata": {
        "id": "7YxD801xqSTk"
      },
      "source": [
        "# BIG DATA"
      ]
    },
    {
      "cell_type": "code",
      "execution_count": 59,
      "metadata": {
        "id": "K_Ykf-i0qSTk"
      },
      "outputs": [],
      "source": [
        "bigdata_labels = bigdata_filled[\"In-hospital mortality\"]"
      ]
    },
    {
      "cell_type": "code",
      "execution_count": 60,
      "metadata": {
        "id": "xN8CHgbPqSTk"
      },
      "outputs": [],
      "source": [
        "bd_unlabeled = bigdata_filled.drop(columns=[\"In-hospital mortality\"])"
      ]
    },
    {
      "cell_type": "code",
      "execution_count": 61,
      "metadata": {
        "colab": {
          "base_uri": "https://localhost:8080/",
          "height": 553
        },
        "id": "hwxVlqQqqSTk",
        "outputId": "fa028a66-c543-419c-daa4-0b112cca0f1f"
      },
      "outputs": [
        {
          "data": {
            "text/html": [
              "<div>\n",
              "<style scoped>\n",
              "    .dataframe tbody tr th:only-of-type {\n",
              "        vertical-align: middle;\n",
              "    }\n",
              "\n",
              "    .dataframe tbody tr th {\n",
              "        vertical-align: top;\n",
              "    }\n",
              "\n",
              "    .dataframe thead th {\n",
              "        text-align: right;\n",
              "    }\n",
              "</style>\n",
              "<table border=\"1\" class=\"dataframe\">\n",
              "  <thead>\n",
              "    <tr style=\"text-align: right;\">\n",
              "      <th></th>\n",
              "      <th>Chronic KD</th>\n",
              "      <th>ProBNP (mean)</th>\n",
              "      <th>SD (ProBNP)</th>\n",
              "      <th>Potassium (mean)</th>\n",
              "      <th>SD (Potassium)</th>\n",
              "      <th>Diastolic BP (mean)</th>\n",
              "      <th>SD (DBP)</th>\n",
              "      <th>Respiratory Rate (mean)</th>\n",
              "      <th>SD (RR)</th>\n",
              "      <th>Platelet Count (mean)</th>\n",
              "      <th>...</th>\n",
              "      <th>Anion Gap (mean)</th>\n",
              "      <th>SD (AG)</th>\n",
              "      <th>Calcium (mean)</th>\n",
              "      <th>SD (Calcium)</th>\n",
              "      <th>Lactate (mean)</th>\n",
              "      <th>SD (Lactate)</th>\n",
              "      <th>Lymphocytes (mean)</th>\n",
              "      <th>SD (Lymph)</th>\n",
              "      <th>Heart Rate (mean)</th>\n",
              "      <th>SD (HR)</th>\n",
              "    </tr>\n",
              "    <tr>\n",
              "      <th>SUBJECT_ID</th>\n",
              "      <th></th>\n",
              "      <th></th>\n",
              "      <th></th>\n",
              "      <th></th>\n",
              "      <th></th>\n",
              "      <th></th>\n",
              "      <th></th>\n",
              "      <th></th>\n",
              "      <th></th>\n",
              "      <th></th>\n",
              "      <th></th>\n",
              "      <th></th>\n",
              "      <th></th>\n",
              "      <th></th>\n",
              "      <th></th>\n",
              "      <th></th>\n",
              "      <th></th>\n",
              "      <th></th>\n",
              "      <th></th>\n",
              "      <th></th>\n",
              "      <th></th>\n",
              "    </tr>\n",
              "  </thead>\n",
              "  <tbody>\n",
              "    <tr>\n",
              "      <th>107</th>\n",
              "      <td>0</td>\n",
              "      <td>3931.5</td>\n",
              "      <td>171.500000</td>\n",
              "      <td>4.541284</td>\n",
              "      <td>0.904952</td>\n",
              "      <td>50.697368</td>\n",
              "      <td>21.412625</td>\n",
              "      <td>16.929293</td>\n",
              "      <td>4.314066</td>\n",
              "      <td>139.642105</td>\n",
              "      <td>...</td>\n",
              "      <td>20.058824</td>\n",
              "      <td>5.207128</td>\n",
              "      <td>8.637500</td>\n",
              "      <td>0.744319</td>\n",
              "      <td>1.875000</td>\n",
              "      <td>0.489260</td>\n",
              "      <td>17.183333</td>\n",
              "      <td>6.503952</td>\n",
              "      <td>61.112500</td>\n",
              "      <td>20.596866</td>\n",
              "    </tr>\n",
              "    <tr>\n",
              "      <th>165</th>\n",
              "      <td>1</td>\n",
              "      <td>833.5</td>\n",
              "      <td>441.500000</td>\n",
              "      <td>3.956338</td>\n",
              "      <td>0.456790</td>\n",
              "      <td>80.565217</td>\n",
              "      <td>10.499797</td>\n",
              "      <td>17.478261</td>\n",
              "      <td>2.356666</td>\n",
              "      <td>154.654545</td>\n",
              "      <td>...</td>\n",
              "      <td>14.000000</td>\n",
              "      <td>2.581989</td>\n",
              "      <td>8.900000</td>\n",
              "      <td>0.547723</td>\n",
              "      <td>2.350000</td>\n",
              "      <td>0.250000</td>\n",
              "      <td>16.268750</td>\n",
              "      <td>5.464284</td>\n",
              "      <td>69.214286</td>\n",
              "      <td>15.487854</td>\n",
              "    </tr>\n",
              "    <tr>\n",
              "      <th>199</th>\n",
              "      <td>0</td>\n",
              "      <td>1812.0</td>\n",
              "      <td>271.000000</td>\n",
              "      <td>4.182353</td>\n",
              "      <td>0.452100</td>\n",
              "      <td>60.129630</td>\n",
              "      <td>9.351925</td>\n",
              "      <td>18.485876</td>\n",
              "      <td>3.581351</td>\n",
              "      <td>267.869565</td>\n",
              "      <td>...</td>\n",
              "      <td>15.111111</td>\n",
              "      <td>2.766644</td>\n",
              "      <td>8.380000</td>\n",
              "      <td>0.231517</td>\n",
              "      <td>1.433333</td>\n",
              "      <td>0.324893</td>\n",
              "      <td>25.866667</td>\n",
              "      <td>7.923523</td>\n",
              "      <td>67.397436</td>\n",
              "      <td>30.084423</td>\n",
              "    </tr>\n",
              "    <tr>\n",
              "      <th>209</th>\n",
              "      <td>0</td>\n",
              "      <td>7850.0</td>\n",
              "      <td>0.000000</td>\n",
              "      <td>4.365625</td>\n",
              "      <td>0.426914</td>\n",
              "      <td>57.202247</td>\n",
              "      <td>11.011924</td>\n",
              "      <td>17.846154</td>\n",
              "      <td>5.738955</td>\n",
              "      <td>154.806452</td>\n",
              "      <td>...</td>\n",
              "      <td>17.000000</td>\n",
              "      <td>3.162278</td>\n",
              "      <td>8.306667</td>\n",
              "      <td>0.765477</td>\n",
              "      <td>0.900000</td>\n",
              "      <td>0.000000</td>\n",
              "      <td>16.000000</td>\n",
              "      <td>1.042433</td>\n",
              "      <td>66.976562</td>\n",
              "      <td>23.866815</td>\n",
              "    </tr>\n",
              "    <tr>\n",
              "      <th>236</th>\n",
              "      <td>0</td>\n",
              "      <td>12036.0</td>\n",
              "      <td>1858.246665</td>\n",
              "      <td>4.298276</td>\n",
              "      <td>0.488485</td>\n",
              "      <td>57.386364</td>\n",
              "      <td>7.986397</td>\n",
              "      <td>16.515924</td>\n",
              "      <td>4.419997</td>\n",
              "      <td>68.776923</td>\n",
              "      <td>...</td>\n",
              "      <td>14.000000</td>\n",
              "      <td>4.262237</td>\n",
              "      <td>8.036364</td>\n",
              "      <td>0.702298</td>\n",
              "      <td>1.860000</td>\n",
              "      <td>0.605310</td>\n",
              "      <td>12.368182</td>\n",
              "      <td>5.650775</td>\n",
              "      <td>74.376437</td>\n",
              "      <td>23.605616</td>\n",
              "    </tr>\n",
              "    <tr>\n",
              "      <th>...</th>\n",
              "      <td>...</td>\n",
              "      <td>...</td>\n",
              "      <td>...</td>\n",
              "      <td>...</td>\n",
              "      <td>...</td>\n",
              "      <td>...</td>\n",
              "      <td>...</td>\n",
              "      <td>...</td>\n",
              "      <td>...</td>\n",
              "      <td>...</td>\n",
              "      <td>...</td>\n",
              "      <td>...</td>\n",
              "      <td>...</td>\n",
              "      <td>...</td>\n",
              "      <td>...</td>\n",
              "      <td>...</td>\n",
              "      <td>...</td>\n",
              "      <td>...</td>\n",
              "      <td>...</td>\n",
              "      <td>...</td>\n",
              "      <td>...</td>\n",
              "    </tr>\n",
              "    <tr>\n",
              "      <th>99747</th>\n",
              "      <td>1</td>\n",
              "      <td>9124.0</td>\n",
              "      <td>0.000000</td>\n",
              "      <td>3.913333</td>\n",
              "      <td>0.513636</td>\n",
              "      <td>49.851064</td>\n",
              "      <td>7.855013</td>\n",
              "      <td>18.525253</td>\n",
              "      <td>5.236514</td>\n",
              "      <td>196.750000</td>\n",
              "      <td>...</td>\n",
              "      <td>19.428571</td>\n",
              "      <td>2.770103</td>\n",
              "      <td>8.628571</td>\n",
              "      <td>0.406076</td>\n",
              "      <td>2.018248</td>\n",
              "      <td>0.764176</td>\n",
              "      <td>5.200000</td>\n",
              "      <td>0.000000</td>\n",
              "      <td>78.909091</td>\n",
              "      <td>13.161665</td>\n",
              "    </tr>\n",
              "    <tr>\n",
              "      <th>99814</th>\n",
              "      <td>0</td>\n",
              "      <td>1734.0</td>\n",
              "      <td>0.000000</td>\n",
              "      <td>3.988889</td>\n",
              "      <td>0.321263</td>\n",
              "      <td>37.480000</td>\n",
              "      <td>9.712343</td>\n",
              "      <td>18.400000</td>\n",
              "      <td>3.382307</td>\n",
              "      <td>330.444444</td>\n",
              "      <td>...</td>\n",
              "      <td>12.000000</td>\n",
              "      <td>2.160247</td>\n",
              "      <td>8.442857</td>\n",
              "      <td>0.388613</td>\n",
              "      <td>0.900000</td>\n",
              "      <td>0.100000</td>\n",
              "      <td>15.633333</td>\n",
              "      <td>2.939766</td>\n",
              "      <td>65.000000</td>\n",
              "      <td>13.546217</td>\n",
              "    </tr>\n",
              "    <tr>\n",
              "      <th>99847</th>\n",
              "      <td>1</td>\n",
              "      <td>33779.0</td>\n",
              "      <td>0.000000</td>\n",
              "      <td>3.878261</td>\n",
              "      <td>0.288861</td>\n",
              "      <td>73.872340</td>\n",
              "      <td>13.739394</td>\n",
              "      <td>21.458333</td>\n",
              "      <td>3.834918</td>\n",
              "      <td>44.320000</td>\n",
              "      <td>...</td>\n",
              "      <td>15.142857</td>\n",
              "      <td>2.231500</td>\n",
              "      <td>8.100000</td>\n",
              "      <td>0.374166</td>\n",
              "      <td>1.500000</td>\n",
              "      <td>0.000000</td>\n",
              "      <td>4.622222</td>\n",
              "      <td>2.187732</td>\n",
              "      <td>104.833333</td>\n",
              "      <td>14.758049</td>\n",
              "    </tr>\n",
              "    <tr>\n",
              "      <th>99893</th>\n",
              "      <td>1</td>\n",
              "      <td>5630.0</td>\n",
              "      <td>0.000000</td>\n",
              "      <td>4.111111</td>\n",
              "      <td>0.477131</td>\n",
              "      <td>51.480769</td>\n",
              "      <td>9.392080</td>\n",
              "      <td>18.428571</td>\n",
              "      <td>4.531072</td>\n",
              "      <td>227.833333</td>\n",
              "      <td>...</td>\n",
              "      <td>17.500000</td>\n",
              "      <td>2.217356</td>\n",
              "      <td>9.180000</td>\n",
              "      <td>0.360000</td>\n",
              "      <td>1.700000</td>\n",
              "      <td>0.000000</td>\n",
              "      <td>14.886391</td>\n",
              "      <td>4.908924</td>\n",
              "      <td>80.884615</td>\n",
              "      <td>13.185832</td>\n",
              "    </tr>\n",
              "    <tr>\n",
              "      <th>99901</th>\n",
              "      <td>1</td>\n",
              "      <td>9792.0</td>\n",
              "      <td>0.000000</td>\n",
              "      <td>3.550000</td>\n",
              "      <td>0.372363</td>\n",
              "      <td>51.301587</td>\n",
              "      <td>8.266657</td>\n",
              "      <td>17.078014</td>\n",
              "      <td>3.222419</td>\n",
              "      <td>149.062500</td>\n",
              "      <td>...</td>\n",
              "      <td>13.500000</td>\n",
              "      <td>2.872281</td>\n",
              "      <td>9.022222</td>\n",
              "      <td>0.297313</td>\n",
              "      <td>1.300000</td>\n",
              "      <td>0.000000</td>\n",
              "      <td>8.600000</td>\n",
              "      <td>2.200000</td>\n",
              "      <td>86.454545</td>\n",
              "      <td>13.397680</td>\n",
              "    </tr>\n",
              "  </tbody>\n",
              "</table>\n",
              "<p>1779 rows × 35 columns</p>\n",
              "</div>"
            ],
            "text/plain": [
              "            Chronic KD  ProBNP (mean)  SD (ProBNP)  Potassium (mean)  \\\n",
              "SUBJECT_ID                                                             \n",
              "107                  0         3931.5   171.500000          4.541284   \n",
              "165                  1          833.5   441.500000          3.956338   \n",
              "199                  0         1812.0   271.000000          4.182353   \n",
              "209                  0         7850.0     0.000000          4.365625   \n",
              "236                  0        12036.0  1858.246665          4.298276   \n",
              "...                ...            ...          ...               ...   \n",
              "99747                1         9124.0     0.000000          3.913333   \n",
              "99814                0         1734.0     0.000000          3.988889   \n",
              "99847                1        33779.0     0.000000          3.878261   \n",
              "99893                1         5630.0     0.000000          4.111111   \n",
              "99901                1         9792.0     0.000000          3.550000   \n",
              "\n",
              "            SD (Potassium)  Diastolic BP (mean)   SD (DBP)  \\\n",
              "SUBJECT_ID                                                   \n",
              "107               0.904952            50.697368  21.412625   \n",
              "165               0.456790            80.565217  10.499797   \n",
              "199               0.452100            60.129630   9.351925   \n",
              "209               0.426914            57.202247  11.011924   \n",
              "236               0.488485            57.386364   7.986397   \n",
              "...                    ...                  ...        ...   \n",
              "99747             0.513636            49.851064   7.855013   \n",
              "99814             0.321263            37.480000   9.712343   \n",
              "99847             0.288861            73.872340  13.739394   \n",
              "99893             0.477131            51.480769   9.392080   \n",
              "99901             0.372363            51.301587   8.266657   \n",
              "\n",
              "            Respiratory Rate (mean)   SD (RR)  Platelet Count (mean)  ...  \\\n",
              "SUBJECT_ID                                                            ...   \n",
              "107                       16.929293  4.314066             139.642105  ...   \n",
              "165                       17.478261  2.356666             154.654545  ...   \n",
              "199                       18.485876  3.581351             267.869565  ...   \n",
              "209                       17.846154  5.738955             154.806452  ...   \n",
              "236                       16.515924  4.419997              68.776923  ...   \n",
              "...                             ...       ...                    ...  ...   \n",
              "99747                     18.525253  5.236514             196.750000  ...   \n",
              "99814                     18.400000  3.382307             330.444444  ...   \n",
              "99847                     21.458333  3.834918              44.320000  ...   \n",
              "99893                     18.428571  4.531072             227.833333  ...   \n",
              "99901                     17.078014  3.222419             149.062500  ...   \n",
              "\n",
              "            Anion Gap (mean)   SD (AG)  Calcium (mean)  SD (Calcium)  \\\n",
              "SUBJECT_ID                                                             \n",
              "107                20.058824  5.207128        8.637500      0.744319   \n",
              "165                14.000000  2.581989        8.900000      0.547723   \n",
              "199                15.111111  2.766644        8.380000      0.231517   \n",
              "209                17.000000  3.162278        8.306667      0.765477   \n",
              "236                14.000000  4.262237        8.036364      0.702298   \n",
              "...                      ...       ...             ...           ...   \n",
              "99747              19.428571  2.770103        8.628571      0.406076   \n",
              "99814              12.000000  2.160247        8.442857      0.388613   \n",
              "99847              15.142857  2.231500        8.100000      0.374166   \n",
              "99893              17.500000  2.217356        9.180000      0.360000   \n",
              "99901              13.500000  2.872281        9.022222      0.297313   \n",
              "\n",
              "            Lactate (mean)  SD (Lactate)  Lymphocytes (mean)  SD (Lymph)  \\\n",
              "SUBJECT_ID                                                                 \n",
              "107               1.875000      0.489260           17.183333    6.503952   \n",
              "165               2.350000      0.250000           16.268750    5.464284   \n",
              "199               1.433333      0.324893           25.866667    7.923523   \n",
              "209               0.900000      0.000000           16.000000    1.042433   \n",
              "236               1.860000      0.605310           12.368182    5.650775   \n",
              "...                    ...           ...                 ...         ...   \n",
              "99747             2.018248      0.764176            5.200000    0.000000   \n",
              "99814             0.900000      0.100000           15.633333    2.939766   \n",
              "99847             1.500000      0.000000            4.622222    2.187732   \n",
              "99893             1.700000      0.000000           14.886391    4.908924   \n",
              "99901             1.300000      0.000000            8.600000    2.200000   \n",
              "\n",
              "            Heart Rate (mean)    SD (HR)  \n",
              "SUBJECT_ID                                \n",
              "107                 61.112500  20.596866  \n",
              "165                 69.214286  15.487854  \n",
              "199                 67.397436  30.084423  \n",
              "209                 66.976562  23.866815  \n",
              "236                 74.376437  23.605616  \n",
              "...                       ...        ...  \n",
              "99747               78.909091  13.161665  \n",
              "99814               65.000000  13.546217  \n",
              "99847              104.833333  14.758049  \n",
              "99893               80.884615  13.185832  \n",
              "99901               86.454545  13.397680  \n",
              "\n",
              "[1779 rows x 35 columns]"
            ]
          },
          "execution_count": 61,
          "metadata": {},
          "output_type": "execute_result"
        }
      ],
      "source": [
        "bd_unlabeled"
      ]
    },
    {
      "cell_type": "code",
      "execution_count": 62,
      "metadata": {
        "id": "cEz0EmhyqSTk"
      },
      "outputs": [],
      "source": [
        "X, y = sm.fit_resample(bd_unlabeled, bigdata_labels)"
      ]
    },
    {
      "cell_type": "code",
      "execution_count": 63,
      "metadata": {
        "id": "QYaFxfLcqSTk"
      },
      "outputs": [],
      "source": [
        "dataset = SelectKBest(f_classif, k='all').fit_transform(X, y)"
      ]
    },
    {
      "cell_type": "code",
      "execution_count": 64,
      "metadata": {
        "colab": {
          "base_uri": "https://localhost:8080/"
        },
        "id": "Omm_rKPOqSTk",
        "outputId": "a57d3e9c-7342-450a-ea0a-f458554fcd1e"
      },
      "outputs": [
        {
          "name": "stdout",
          "output_type": "stream",
          "text": [
            "Resampled dataset shape Counter({0: 1432, 1: 1432})\n"
          ]
        }
      ],
      "source": [
        "print('Resampled dataset shape %s' % Counter(y))"
      ]
    },
    {
      "cell_type": "code",
      "execution_count": 65,
      "metadata": {
        "id": "VyzUt2BaqSTk"
      },
      "outputs": [],
      "source": [
        "X_train, X_testOr, y_train, y_testOr = train_test_split(dataset, y, test_size=0.2)"
      ]
    },
    {
      "cell_type": "code",
      "execution_count": 66,
      "metadata": {
        "id": "x3yb9lFGqSTl"
      },
      "outputs": [],
      "source": [
        "X_val, X_test, y_val, y_test = train_test_split(X_testOr, y_testOr, test_size=0.5)"
      ]
    },
    {
      "attachments": {},
      "cell_type": "markdown",
      "metadata": {
        "id": "3N8ZJxBkqSTl"
      },
      "source": [
        "# SVM Model"
      ]
    },
    {
      "cell_type": "code",
      "execution_count": 67,
      "metadata": {
        "colab": {
          "base_uri": "https://localhost:8080/",
          "height": 126
        },
        "id": "DQNlONsDqSTl",
        "outputId": "87156c83-b86a-4d28-b34d-fb8b66fe7dfa"
      },
      "outputs": [
        {
          "data": {
            "text/html": [
              "<style>#sk-container-id-3 {color: black;background-color: white;}#sk-container-id-3 pre{padding: 0;}#sk-container-id-3 div.sk-toggleable {background-color: white;}#sk-container-id-3 label.sk-toggleable__label {cursor: pointer;display: block;width: 100%;margin-bottom: 0;padding: 0.3em;box-sizing: border-box;text-align: center;}#sk-container-id-3 label.sk-toggleable__label-arrow:before {content: \"▸\";float: left;margin-right: 0.25em;color: #696969;}#sk-container-id-3 label.sk-toggleable__label-arrow:hover:before {color: black;}#sk-container-id-3 div.sk-estimator:hover label.sk-toggleable__label-arrow:before {color: black;}#sk-container-id-3 div.sk-toggleable__content {max-height: 0;max-width: 0;overflow: hidden;text-align: left;background-color: #f0f8ff;}#sk-container-id-3 div.sk-toggleable__content pre {margin: 0.2em;color: black;border-radius: 0.25em;background-color: #f0f8ff;}#sk-container-id-3 input.sk-toggleable__control:checked~div.sk-toggleable__content {max-height: 200px;max-width: 100%;overflow: auto;}#sk-container-id-3 input.sk-toggleable__control:checked~label.sk-toggleable__label-arrow:before {content: \"▾\";}#sk-container-id-3 div.sk-estimator input.sk-toggleable__control:checked~label.sk-toggleable__label {background-color: #d4ebff;}#sk-container-id-3 div.sk-label input.sk-toggleable__control:checked~label.sk-toggleable__label {background-color: #d4ebff;}#sk-container-id-3 input.sk-hidden--visually {border: 0;clip: rect(1px 1px 1px 1px);clip: rect(1px, 1px, 1px, 1px);height: 1px;margin: -1px;overflow: hidden;padding: 0;position: absolute;width: 1px;}#sk-container-id-3 div.sk-estimator {font-family: monospace;background-color: #f0f8ff;border: 1px dotted black;border-radius: 0.25em;box-sizing: border-box;margin-bottom: 0.5em;}#sk-container-id-3 div.sk-estimator:hover {background-color: #d4ebff;}#sk-container-id-3 div.sk-parallel-item::after {content: \"\";width: 100%;border-bottom: 1px solid gray;flex-grow: 1;}#sk-container-id-3 div.sk-label:hover label.sk-toggleable__label {background-color: #d4ebff;}#sk-container-id-3 div.sk-serial::before {content: \"\";position: absolute;border-left: 1px solid gray;box-sizing: border-box;top: 0;bottom: 0;left: 50%;z-index: 0;}#sk-container-id-3 div.sk-serial {display: flex;flex-direction: column;align-items: center;background-color: white;padding-right: 0.2em;padding-left: 0.2em;position: relative;}#sk-container-id-3 div.sk-item {position: relative;z-index: 1;}#sk-container-id-3 div.sk-parallel {display: flex;align-items: stretch;justify-content: center;background-color: white;position: relative;}#sk-container-id-3 div.sk-item::before, #sk-container-id-3 div.sk-parallel-item::before {content: \"\";position: absolute;border-left: 1px solid gray;box-sizing: border-box;top: 0;bottom: 0;left: 50%;z-index: -1;}#sk-container-id-3 div.sk-parallel-item {display: flex;flex-direction: column;z-index: 1;position: relative;background-color: white;}#sk-container-id-3 div.sk-parallel-item:first-child::after {align-self: flex-end;width: 50%;}#sk-container-id-3 div.sk-parallel-item:last-child::after {align-self: flex-start;width: 50%;}#sk-container-id-3 div.sk-parallel-item:only-child::after {width: 0;}#sk-container-id-3 div.sk-dashed-wrapped {border: 1px dashed gray;margin: 0 0.4em 0.5em 0.4em;box-sizing: border-box;padding-bottom: 0.4em;background-color: white;}#sk-container-id-3 div.sk-label label {font-family: monospace;font-weight: bold;display: inline-block;line-height: 1.2em;}#sk-container-id-3 div.sk-label-container {text-align: center;}#sk-container-id-3 div.sk-container {/* jupyter's `normalize.less` sets `[hidden] { display: none; }` but bootstrap.min.css set `[hidden] { display: none !important; }` so we also need the `!important` here to be able to override the default hidden behavior on the sphinx rendered scikit-learn.org. See: https://github.com/scikit-learn/scikit-learn/issues/21755 */display: inline-block !important;position: relative;}#sk-container-id-3 div.sk-text-repr-fallback {display: none;}</style><div id=\"sk-container-id-3\" class=\"sk-top-container\"><div class=\"sk-text-repr-fallback\"><pre>Pipeline(steps=[(&#x27;scaler&#x27;, StandardScaler()),\n",
              "                (&#x27;svc&#x27;, SVC(gamma=&#x27;auto&#x27;, probability=True))])</pre><b>In a Jupyter environment, please rerun this cell to show the HTML representation or trust the notebook. <br />On GitHub, the HTML representation is unable to render, please try loading this page with nbviewer.org.</b></div><div class=\"sk-container\" hidden><div class=\"sk-item sk-dashed-wrapped\"><div class=\"sk-label-container\"><div class=\"sk-label sk-toggleable\"><input class=\"sk-toggleable__control sk-hidden--visually\" id=\"sk-estimator-id-7\" type=\"checkbox\" ><label for=\"sk-estimator-id-7\" class=\"sk-toggleable__label sk-toggleable__label-arrow\">Pipeline</label><div class=\"sk-toggleable__content\"><pre>Pipeline(steps=[(&#x27;scaler&#x27;, StandardScaler()),\n",
              "                (&#x27;svc&#x27;, SVC(gamma=&#x27;auto&#x27;, probability=True))])</pre></div></div></div><div class=\"sk-serial\"><div class=\"sk-item\"><div class=\"sk-estimator sk-toggleable\"><input class=\"sk-toggleable__control sk-hidden--visually\" id=\"sk-estimator-id-8\" type=\"checkbox\" ><label for=\"sk-estimator-id-8\" class=\"sk-toggleable__label sk-toggleable__label-arrow\">StandardScaler</label><div class=\"sk-toggleable__content\"><pre>StandardScaler()</pre></div></div></div><div class=\"sk-item\"><div class=\"sk-estimator sk-toggleable\"><input class=\"sk-toggleable__control sk-hidden--visually\" id=\"sk-estimator-id-9\" type=\"checkbox\" ><label for=\"sk-estimator-id-9\" class=\"sk-toggleable__label sk-toggleable__label-arrow\">SVC</label><div class=\"sk-toggleable__content\"><pre>SVC(gamma=&#x27;auto&#x27;, probability=True)</pre></div></div></div></div></div></div></div>"
            ],
            "text/plain": [
              "Pipeline(steps=[('scaler', StandardScaler()),\n",
              "                ('svc', SVC(gamma='auto', probability=True))])"
            ]
          },
          "execution_count": 67,
          "metadata": {},
          "output_type": "execute_result"
        }
      ],
      "source": [
        "clf = svm.SVC(kernel='rbf', gamma='auto', probability=True)\n",
        "pipe = Pipeline([('scaler', StandardScaler()), ('svc', clf)])\n",
        "pipe.fit(X_train, y_train)"
      ]
    },
    {
      "cell_type": "code",
      "execution_count": 68,
      "metadata": {
        "id": "T26NSIXfqSTl"
      },
      "outputs": [],
      "source": [
        "y_pred_svm_proba = pipe.predict_proba(X_test)[:, 1]\n",
        "y_pred_svm = pipe.predict(X_test)"
      ]
    },
    {
      "cell_type": "code",
      "execution_count": 69,
      "metadata": {
        "colab": {
          "base_uri": "https://localhost:8080/"
        },
        "id": "MF9wl8x_qSTl",
        "outputId": "9217a812-f649-4428-b613-69dba72b6a6a"
      },
      "outputs": [
        {
          "name": "stdout",
          "output_type": "stream",
          "text": [
            "Accuracy: 0.8397212543554007\n",
            "Precision: 0.8496732026143791\n",
            "Recall: 0.8496732026143791\n"
          ]
        }
      ],
      "source": [
        "print(\"Accuracy:\",metrics.accuracy_score(y_test, y_pred_svm))\n",
        "print(\"Precision:\",metrics.precision_score(y_test, y_pred_svm))\n",
        "print(\"Recall:\",metrics.recall_score(y_test, y_pred_svm))"
      ]
    },
    {
      "cell_type": "code",
      "execution_count": 70,
      "metadata": {
        "colab": {
          "base_uri": "https://localhost:8080/",
          "height": 465
        },
        "id": "Q4-OMRxmqSTl",
        "outputId": "864d32cd-b675-46f7-e55f-aad601d58d2a"
      },
      "outputs": [
        {
          "data": {
            "image/png": "[encoded data removed]",
            "text/plain": [
              "<Figure size 700x500 with 1 Axes>"
            ]
          },
          "metadata": {},
          "output_type": "display_data"
        }
      ],
      "source": [
        "auc = metrics.roc_auc_score(y_test, y_pred_svm_proba)\n",
        "auc = \"{:.3f}\".format(auc)\n",
        "fprSVC, tprSVC, _ = metrics.roc_curve(y_test, y_pred_svm_proba)\n",
        "plt.plot(fprSVC, tprSVC, label=\"AUC=\"+ auc)\n",
        "plt.plot([0,1],[0,1], 'k--')\n",
        "plt.ylabel('True Positive Rate')\n",
        "plt.xlabel('False Positive Rate')\n",
        "plt.legend(loc=4)\n",
        "plt.rcParams[\"figure.figsize\"] = (7,5)\n",
        "plt.show()"
      ]
    },
    {
      "cell_type": "code",
      "execution_count": 71,
      "metadata": {
        "colab": {
          "base_uri": "https://localhost:8080/"
        },
        "id": "bBgMlcaLqSTl",
        "outputId": "deeecc97-7405-4c68-8959-1d34e907e1db"
      },
      "outputs": [
        {
          "name": "stdout",
          "output_type": "stream",
          "text": [
            "              precision    recall  f1-score   support\n",
            "\n",
            "           0       0.83      0.83      0.83       134\n",
            "           1       0.85      0.85      0.85       153\n",
            "\n",
            "    accuracy                           0.84       287\n",
            "   macro avg       0.84      0.84      0.84       287\n",
            "weighted avg       0.84      0.84      0.84       287\n",
            "\n"
          ]
        }
      ],
      "source": [
        "print(classification_report(y_test, y_pred_svm, labels=[0,1]))"
      ]
    },
    {
      "cell_type": "code",
      "execution_count": 72,
      "metadata": {
        "colab": {
          "base_uri": "https://localhost:8080/",
          "height": 483
        },
        "id": "F8jbyvMxqSTl",
        "outputId": "2930ca75-55e4-42c8-92db-beefe0154572"
      },
      "outputs": [
        {
          "data": {
            "text/plain": [
              "<sklearn.metrics._plot.confusion_matrix.ConfusionMatrixDisplay at 0x23c2ba0fee0>"
            ]
          },
          "execution_count": 72,
          "metadata": {},
          "output_type": "execute_result"
        },
        {
          "data": {
            "image/png": "[encoded data removed]",
            "text/plain": [
              "<Figure size 700x500 with 2 Axes>"
            ]
          },
          "metadata": {},
          "output_type": "display_data"
        }
      ],
      "source": [
        "cm = confusion_matrix(y_test, y_pred_svm,  labels=[0,1])\n",
        "mat = ConfusionMatrixDisplay(confusion_matrix=cm)\n",
        "mat.plot()"
      ]
    },
    {
      "attachments": {},
      "cell_type": "markdown",
      "metadata": {
        "id": "HbItLGdhF8Zd"
      },
      "source": [
        "# Validation"
      ]
    },
    {
      "cell_type": "code",
      "execution_count": 73,
      "metadata": {
        "id": "O5UOsAusF9wm"
      },
      "outputs": [],
      "source": [
        "y_pred_svm_val_proba = pipe.predict_proba(X_val)[:, 1]\n",
        "y_pred_svm_val = pipe.predict(X_val)"
      ]
    },
    {
      "cell_type": "code",
      "execution_count": 74,
      "metadata": {
        "colab": {
          "base_uri": "https://localhost:8080/"
        },
        "id": "dA1af7PdGJQZ",
        "outputId": "0549e9cf-ee66-4f02-ff25-8340763557e1"
      },
      "outputs": [
        {
          "name": "stdout",
          "output_type": "stream",
          "text": [
            "Accuracy: 0.8741258741258742\n",
            "Precision: 0.8707482993197279\n",
            "Recall: 0.8827586206896552\n"
          ]
        }
      ],
      "source": [
        "print(\"Accuracy:\",metrics.accuracy_score(y_val, y_pred_svm_val))\n",
        "print(\"Precision:\",metrics.precision_score(y_val, y_pred_svm_val))\n",
        "print(\"Recall:\",metrics.recall_score(y_val, y_pred_svm_val))"
      ]
    },
    {
      "cell_type": "code",
      "execution_count": 75,
      "metadata": {
        "colab": {
          "base_uri": "https://localhost:8080/",
          "height": 465
        },
        "id": "NCD3A6_8GUhh",
        "outputId": "dc869628-2bc6-4122-f314-8fff6fbee372"
      },
      "outputs": [
        {
          "data": {
            "image/png": "[encoded data removed]",
            "text/plain": [
              "<Figure size 700x500 with 1 Axes>"
            ]
          },
          "metadata": {},
          "output_type": "display_data"
        }
      ],
      "source": [
        "aucval = metrics.roc_auc_score(y_val, y_pred_svm_val_proba)\n",
        "aucval = \"{:.3f}\".format(aucval)\n",
        "fprSVCval, tprSVCval, _ = metrics.roc_curve(y_val, y_pred_svm_val_proba)\n",
        "plt.plot(fprSVC, tprSVC, label=\"AUC Test = \"+ auc)\n",
        "plt.plot(fprSVCval, tprSVCval, label=\"AUC Vali = \"+ aucval)\n",
        "plt.plot([0,1],[0,1], 'k--')\n",
        "plt.ylabel('True Positive Rate')\n",
        "plt.xlabel('False Positive Rate')\n",
        "plt.legend(loc=4)\n",
        "plt.rcParams[\"figure.figsize\"] = (7,5)\n",
        "plt.show()"
      ]
    },
    {
      "cell_type": "code",
      "execution_count": 76,
      "metadata": {
        "colab": {
          "base_uri": "https://localhost:8080/"
        },
        "id": "Z4R6n2xJGqT_",
        "outputId": "2b7170cc-defc-4ee6-b8f7-ea29872136b2"
      },
      "outputs": [
        {
          "name": "stdout",
          "output_type": "stream",
          "text": [
            "              precision    recall  f1-score   support\n",
            "\n",
            "           0       0.88      0.87      0.87       141\n",
            "           1       0.87      0.88      0.88       145\n",
            "\n",
            "    accuracy                           0.87       286\n",
            "   macro avg       0.87      0.87      0.87       286\n",
            "weighted avg       0.87      0.87      0.87       286\n",
            "\n"
          ]
        }
      ],
      "source": [
        "print(classification_report(y_val, y_pred_svm_val, labels=[0,1]))"
      ]
    },
    {
      "cell_type": "code",
      "execution_count": 77,
      "metadata": {
        "colab": {
          "base_uri": "https://localhost:8080/",
          "height": 483
        },
        "id": "df0Y0DqbGukN",
        "outputId": "f64fa2d8-ad6a-4dc4-f33e-f9e88bee7d1e"
      },
      "outputs": [
        {
          "data": {
            "text/plain": [
              "<sklearn.metrics._plot.confusion_matrix.ConfusionMatrixDisplay at 0x23c10269550>"
            ]
          },
          "execution_count": 77,
          "metadata": {},
          "output_type": "execute_result"
        },
        {
          "data": {
            "image/png": "[encoded data removed]",
            "text/plain": [
              "<Figure size 700x500 with 2 Axes>"
            ]
          },
          "metadata": {},
          "output_type": "display_data"
        }
      ],
      "source": [
        "cm = confusion_matrix(y_val, y_pred_svm_val,  labels=[0,1])\n",
        "mat = ConfusionMatrixDisplay(confusion_matrix=cm)\n",
        "mat.plot()"
      ]
    },
    {
      "attachments": {},
      "cell_type": "markdown",
      "metadata": {
        "id": "PjPFQZc2qSTm"
      },
      "source": [
        "# Random Forest"
      ]
    },
    {
      "cell_type": "code",
      "execution_count": 78,
      "metadata": {
        "colab": {
          "base_uri": "https://localhost:8080/",
          "height": 126
        },
        "id": "_dA9B4MaqSTm",
        "outputId": "e08039f3-8050-46a7-c91a-6ea0d406b760"
      },
      "outputs": [
        {
          "data": {
            "text/html": [
              "<style>#sk-container-id-4 {color: black;background-color: white;}#sk-container-id-4 pre{padding: 0;}#sk-container-id-4 div.sk-toggleable {background-color: white;}#sk-container-id-4 label.sk-toggleable__label {cursor: pointer;display: block;width: 100%;margin-bottom: 0;padding: 0.3em;box-sizing: border-box;text-align: center;}#sk-container-id-4 label.sk-toggleable__label-arrow:before {content: \"▸\";float: left;margin-right: 0.25em;color: #696969;}#sk-container-id-4 label.sk-toggleable__label-arrow:hover:before {color: black;}#sk-container-id-4 div.sk-estimator:hover label.sk-toggleable__label-arrow:before {color: black;}#sk-container-id-4 div.sk-toggleable__content {max-height: 0;max-width: 0;overflow: hidden;text-align: left;background-color: #f0f8ff;}#sk-container-id-4 div.sk-toggleable__content pre {margin: 0.2em;color: black;border-radius: 0.25em;background-color: #f0f8ff;}#sk-container-id-4 input.sk-toggleable__control:checked~div.sk-toggleable__content {max-height: 200px;max-width: 100%;overflow: auto;}#sk-container-id-4 input.sk-toggleable__control:checked~label.sk-toggleable__label-arrow:before {content: \"▾\";}#sk-container-id-4 div.sk-estimator input.sk-toggleable__control:checked~label.sk-toggleable__label {background-color: #d4ebff;}#sk-container-id-4 div.sk-label input.sk-toggleable__control:checked~label.sk-toggleable__label {background-color: #d4ebff;}#sk-container-id-4 input.sk-hidden--visually {border: 0;clip: rect(1px 1px 1px 1px);clip: rect(1px, 1px, 1px, 1px);height: 1px;margin: -1px;overflow: hidden;padding: 0;position: absolute;width: 1px;}#sk-container-id-4 div.sk-estimator {font-family: monospace;background-color: #f0f8ff;border: 1px dotted black;border-radius: 0.25em;box-sizing: border-box;margin-bottom: 0.5em;}#sk-container-id-4 div.sk-estimator:hover {background-color: #d4ebff;}#sk-container-id-4 div.sk-parallel-item::after {content: \"\";width: 100%;border-bottom: 1px solid gray;flex-grow: 1;}#sk-container-id-4 div.sk-label:hover label.sk-toggleable__label {background-color: #d4ebff;}#sk-container-id-4 div.sk-serial::before {content: \"\";position: absolute;border-left: 1px solid gray;box-sizing: border-box;top: 0;bottom: 0;left: 50%;z-index: 0;}#sk-container-id-4 div.sk-serial {display: flex;flex-direction: column;align-items: center;background-color: white;padding-right: 0.2em;padding-left: 0.2em;position: relative;}#sk-container-id-4 div.sk-item {position: relative;z-index: 1;}#sk-container-id-4 div.sk-parallel {display: flex;align-items: stretch;justify-content: center;background-color: white;position: relative;}#sk-container-id-4 div.sk-item::before, #sk-container-id-4 div.sk-parallel-item::before {content: \"\";position: absolute;border-left: 1px solid gray;box-sizing: border-box;top: 0;bottom: 0;left: 50%;z-index: -1;}#sk-container-id-4 div.sk-parallel-item {display: flex;flex-direction: column;z-index: 1;position: relative;background-color: white;}#sk-container-id-4 div.sk-parallel-item:first-child::after {align-self: flex-end;width: 50%;}#sk-container-id-4 div.sk-parallel-item:last-child::after {align-self: flex-start;width: 50%;}#sk-container-id-4 div.sk-parallel-item:only-child::after {width: 0;}#sk-container-id-4 div.sk-dashed-wrapped {border: 1px dashed gray;margin: 0 0.4em 0.5em 0.4em;box-sizing: border-box;padding-bottom: 0.4em;background-color: white;}#sk-container-id-4 div.sk-label label {font-family: monospace;font-weight: bold;display: inline-block;line-height: 1.2em;}#sk-container-id-4 div.sk-label-container {text-align: center;}#sk-container-id-4 div.sk-container {/* jupyter's `normalize.less` sets `[hidden] { display: none; }` but bootstrap.min.css set `[hidden] { display: none !important; }` so we also need the `!important` here to be able to override the default hidden behavior on the sphinx rendered scikit-learn.org. See: https://github.com/scikit-learn/scikit-learn/issues/21755 */display: inline-block !important;position: relative;}#sk-container-id-4 div.sk-text-repr-fallback {display: none;}</style><div id=\"sk-container-id-4\" class=\"sk-top-container\"><div class=\"sk-text-repr-fallback\"><pre>Pipeline(steps=[(&#x27;scaler&#x27;, StandardScaler()),\n",
              "                (&#x27;rf&#x27;,\n",
              "                 RandomForestClassifier(n_estimators=30, random_state=42))])</pre><b>In a Jupyter environment, please rerun this cell to show the HTML representation or trust the notebook. <br />On GitHub, the HTML representation is unable to render, please try loading this page with nbviewer.org.</b></div><div class=\"sk-container\" hidden><div class=\"sk-item sk-dashed-wrapped\"><div class=\"sk-label-container\"><div class=\"sk-label sk-toggleable\"><input class=\"sk-toggleable__control sk-hidden--visually\" id=\"sk-estimator-id-10\" type=\"checkbox\" ><label for=\"sk-estimator-id-10\" class=\"sk-toggleable__label sk-toggleable__label-arrow\">Pipeline</label><div class=\"sk-toggleable__content\"><pre>Pipeline(steps=[(&#x27;scaler&#x27;, StandardScaler()),\n",
              "                (&#x27;rf&#x27;,\n",
              "                 RandomForestClassifier(n_estimators=30, random_state=42))])</pre></div></div></div><div class=\"sk-serial\"><div class=\"sk-item\"><div class=\"sk-estimator sk-toggleable\"><input class=\"sk-toggleable__control sk-hidden--visually\" id=\"sk-estimator-id-11\" type=\"checkbox\" ><label for=\"sk-estimator-id-11\" class=\"sk-toggleable__label sk-toggleable__label-arrow\">StandardScaler</label><div class=\"sk-toggleable__content\"><pre>StandardScaler()</pre></div></div></div><div class=\"sk-item\"><div class=\"sk-estimator sk-toggleable\"><input class=\"sk-toggleable__control sk-hidden--visually\" id=\"sk-estimator-id-12\" type=\"checkbox\" ><label for=\"sk-estimator-id-12\" class=\"sk-toggleable__label sk-toggleable__label-arrow\">RandomForestClassifier</label><div class=\"sk-toggleable__content\"><pre>RandomForestClassifier(n_estimators=30, random_state=42)</pre></div></div></div></div></div></div></div>"
            ],
            "text/plain": [
              "Pipeline(steps=[('scaler', StandardScaler()),\n",
              "                ('rf',\n",
              "                 RandomForestClassifier(n_estimators=30, random_state=42))])"
            ]
          },
          "execution_count": 78,
          "metadata": {},
          "output_type": "execute_result"
        }
      ],
      "source": [
        "rf = RandomForestClassifier(n_estimators=30, random_state=42)\n",
        "pipe = Pipeline([(\"scaler\", StandardScaler()),('rf', rf)])\n",
        "pipe.fit(X_train, y_train)"
      ]
    },
    {
      "cell_type": "code",
      "execution_count": 79,
      "metadata": {
        "id": "eL7Job1XqSTm"
      },
      "outputs": [],
      "source": [
        "y_predrf = pipe.predict(X_test)\n",
        "y_predrf_proba = pipe.predict_proba(X_test)[:,1]"
      ]
    },
    {
      "cell_type": "code",
      "execution_count": 80,
      "metadata": {
        "colab": {
          "base_uri": "https://localhost:8080/"
        },
        "id": "3kQ_WLXFqSTm",
        "outputId": "808ffeac-4899-4ffb-dc52-0805a7f7557c"
      },
      "outputs": [
        {
          "name": "stdout",
          "output_type": "stream",
          "text": [
            "Accuracy: 0.8362369337979094\n",
            "Precision: 0.8581081081081081\n",
            "Recall: 0.8300653594771242\n"
          ]
        }
      ],
      "source": [
        "print(\"Accuracy:\",metrics.accuracy_score(y_test, y_predrf))\n",
        "print(\"Precision:\",metrics.precision_score(y_test, y_predrf))\n",
        "print(\"Recall:\",metrics.recall_score(y_test, y_predrf))"
      ]
    },
    {
      "cell_type": "code",
      "execution_count": 81,
      "metadata": {
        "colab": {
          "base_uri": "https://localhost:8080/",
          "height": 465
        },
        "id": "p4GIVYCgqSTm",
        "outputId": "0498d89f-a96f-42a6-ab9d-003e3226c7e1"
      },
      "outputs": [
        {
          "data": {
            "image/png": "[encoded data removed]",
            "text/plain": [
              "<Figure size 700x500 with 1 Axes>"
            ]
          },
          "metadata": {},
          "output_type": "display_data"
        }
      ],
      "source": [
        "auc = metrics.roc_auc_score(y_test, y_predrf_proba)\n",
        "auc = \"{:.3f}\".format(auc)\n",
        "fprRF, tprRF, _ = metrics.roc_curve(y_test, y_predrf_proba)\n",
        "plt.plot(fprRF, tprRF, label=\"AUC=\"+ auc)\n",
        "plt.plot([0,1],[0,1], 'k--')\n",
        "plt.ylabel('True Positive Rate')\n",
        "plt.xlabel('False Positive Rate')\n",
        "plt.legend(loc=4)\n",
        "plt.show()"
      ]
    },
    {
      "cell_type": "code",
      "execution_count": 82,
      "metadata": {
        "colab": {
          "base_uri": "https://localhost:8080/"
        },
        "id": "NBbHOC0dqSTm",
        "outputId": "12a47536-7f73-42b5-f420-5d0a60d033ce"
      },
      "outputs": [
        {
          "name": "stdout",
          "output_type": "stream",
          "text": [
            "              precision    recall  f1-score   support\n",
            "\n",
            "           0       0.81      0.84      0.83       134\n",
            "           1       0.86      0.83      0.84       153\n",
            "\n",
            "    accuracy                           0.84       287\n",
            "   macro avg       0.84      0.84      0.84       287\n",
            "weighted avg       0.84      0.84      0.84       287\n",
            "\n"
          ]
        }
      ],
      "source": [
        "print(classification_report(y_test, y_predrf, labels=[0,1]))"
      ]
    },
    {
      "cell_type": "code",
      "execution_count": 83,
      "metadata": {
        "colab": {
          "base_uri": "https://localhost:8080/",
          "height": 483
        },
        "id": "BhrRyCa0qSTn",
        "outputId": "8f6e259e-c886-4a53-a09e-072ec6c7dc8a"
      },
      "outputs": [
        {
          "data": {
            "text/plain": [
              "<sklearn.metrics._plot.confusion_matrix.ConfusionMatrixDisplay at 0x23c10327fd0>"
            ]
          },
          "execution_count": 83,
          "metadata": {},
          "output_type": "execute_result"
        },
        {
          "data": {
            "image/png": "[encoded data removed]",
            "text/plain": [
              "<Figure size 700x500 with 2 Axes>"
            ]
          },
          "metadata": {},
          "output_type": "display_data"
        }
      ],
      "source": [
        "cm = confusion_matrix(y_test, y_predrf)\n",
        "mat = ConfusionMatrixDisplay(confusion_matrix=cm)\n",
        "mat.plot()"
      ]
    },
    {
      "attachments": {},
      "cell_type": "markdown",
      "metadata": {
        "id": "dh9BeJqgKbHW"
      },
      "source": [
        "# Validation"
      ]
    },
    {
      "cell_type": "code",
      "execution_count": 84,
      "metadata": {
        "id": "q7f2W5QrKcRw"
      },
      "outputs": [],
      "source": [
        "y_predrf_val = pipe.predict(X_val)\n",
        "y_predrf_val_proba = pipe.predict_proba(X_val)[:,1]"
      ]
    },
    {
      "cell_type": "code",
      "execution_count": 85,
      "metadata": {
        "colab": {
          "base_uri": "https://localhost:8080/"
        },
        "id": "C6dC4VxOKhhJ",
        "outputId": "da9f3de2-ebf4-4cbe-b795-09e6fd91a61d"
      },
      "outputs": [
        {
          "name": "stdout",
          "output_type": "stream",
          "text": [
            "Accuracy: 0.8986013986013986\n",
            "Precision: 0.8866666666666667\n",
            "Recall: 0.9172413793103448\n"
          ]
        }
      ],
      "source": [
        "print(\"Accuracy:\",metrics.accuracy_score(y_val, y_predrf_val))\n",
        "print(\"Precision:\",metrics.precision_score(y_val, y_predrf_val))\n",
        "print(\"Recall:\",metrics.recall_score(y_val, y_predrf_val))"
      ]
    },
    {
      "cell_type": "code",
      "execution_count": 86,
      "metadata": {
        "colab": {
          "base_uri": "https://localhost:8080/",
          "height": 465
        },
        "id": "bJpem5ZHKn3U",
        "outputId": "9f142dbd-2d1e-4136-ee6b-f98fae10f174"
      },
      "outputs": [
        {
          "data": {
            "image/png": "[encoded data removed]",
            "text/plain": [
              "<Figure size 700x500 with 1 Axes>"
            ]
          },
          "metadata": {},
          "output_type": "display_data"
        }
      ],
      "source": [
        "aucval = metrics.roc_auc_score(y_val, y_predrf_val_proba)\n",
        "aucval = \"{:.3f}\".format(aucval)\n",
        "fprRFval, tprRFval, _ = metrics.roc_curve(y_val, y_predrf_val_proba)\n",
        "plt.plot(fprRF, tprRF, label=\"AUC Test = \"+ auc)\n",
        "plt.plot(fprRFval, tprRFval, label=\"AUC Vali = \"+ aucval)\n",
        "plt.plot([0,1],[0,1], 'k--')\n",
        "plt.ylabel('True Positive Rate')\n",
        "plt.xlabel('False Positive Rate')\n",
        "plt.legend(loc=4)\n",
        "plt.show()"
      ]
    },
    {
      "cell_type": "code",
      "execution_count": 87,
      "metadata": {
        "colab": {
          "base_uri": "https://localhost:8080/"
        },
        "id": "5LHaGSxfK-MJ",
        "outputId": "680159d5-5062-4c76-a1eb-6f2152bbadcb"
      },
      "outputs": [
        {
          "name": "stdout",
          "output_type": "stream",
          "text": [
            "              precision    recall  f1-score   support\n",
            "\n",
            "           0       0.91      0.88      0.90       141\n",
            "           1       0.89      0.92      0.90       145\n",
            "\n",
            "    accuracy                           0.90       286\n",
            "   macro avg       0.90      0.90      0.90       286\n",
            "weighted avg       0.90      0.90      0.90       286\n",
            "\n"
          ]
        }
      ],
      "source": [
        "print(classification_report(y_val, y_predrf_val, labels=[0,1]))"
      ]
    },
    {
      "cell_type": "code",
      "execution_count": 88,
      "metadata": {
        "colab": {
          "base_uri": "https://localhost:8080/",
          "height": 483
        },
        "id": "ai0Xb3CPLDc5",
        "outputId": "4573ac57-7d8b-47be-9881-fccea8e1234b"
      },
      "outputs": [
        {
          "data": {
            "text/plain": [
              "<sklearn.metrics._plot.confusion_matrix.ConfusionMatrixDisplay at 0x23c104e22b0>"
            ]
          },
          "execution_count": 88,
          "metadata": {},
          "output_type": "execute_result"
        },
        {
          "data": {
            "image/png": "[encoded data removed]",
            "text/plain": [
              "<Figure size 700x500 with 2 Axes>"
            ]
          },
          "metadata": {},
          "output_type": "display_data"
        }
      ],
      "source": [
        "cm = confusion_matrix(y_val, y_predrf_val)\n",
        "mat = ConfusionMatrixDisplay(confusion_matrix=cm)\n",
        "mat.plot()"
      ]
    },
    {
      "attachments": {},
      "cell_type": "markdown",
      "metadata": {
        "id": "3E-O1YiWqSTn"
      },
      "source": [
        "# Neural Network"
      ]
    },
    {
      "cell_type": "code",
      "execution_count": 89,
      "metadata": {
        "colab": {
          "base_uri": "https://localhost:8080/"
        },
        "id": "YbtqkA3zqSTn",
        "outputId": "0a4b8b15-0c8e-430c-f776-135e181eab29"
      },
      "outputs": [
        {
          "name": "stdout",
          "output_type": "stream",
          "text": [
            "Epoch 1/30\n",
            "230/230 [==============================] - 1s 3ms/step - loss: 28.6133 - accuracy: 0.5015\n",
            "Epoch 2/30\n",
            "230/230 [==============================] - 1s 3ms/step - loss: 11.0187 - accuracy: 0.5290\n",
            "Epoch 3/30\n",
            "230/230 [==============================] - 1s 4ms/step - loss: 7.5338 - accuracy: 0.5426\n",
            "Epoch 4/30\n",
            "230/230 [==============================] - 1s 4ms/step - loss: 6.2181 - accuracy: 0.5334\n",
            "Epoch 5/30\n",
            "230/230 [==============================] - 1s 3ms/step - loss: 7.9601 - accuracy: 0.5613\n",
            "Epoch 6/30\n",
            "230/230 [==============================] - 1s 3ms/step - loss: 5.0747 - accuracy: 0.5853\n",
            "Epoch 7/30\n",
            "230/230 [==============================] - 1s 3ms/step - loss: 6.8440 - accuracy: 0.5775\n",
            "Epoch 8/30\n",
            "230/230 [==============================] - 1s 2ms/step - loss: 4.3761 - accuracy: 0.6107\n",
            "Epoch 9/30\n",
            "230/230 [==============================] - 1s 2ms/step - loss: 6.7042 - accuracy: 0.5823\n",
            "Epoch 10/30\n",
            "230/230 [==============================] - 1s 3ms/step - loss: 3.3885 - accuracy: 0.6168\n",
            "Epoch 11/30\n",
            "230/230 [==============================] - 1s 3ms/step - loss: 6.6548 - accuracy: 0.5971\n",
            "Epoch 12/30\n",
            "230/230 [==============================] - 1s 3ms/step - loss: 4.9838 - accuracy: 0.6111\n",
            "Epoch 13/30\n",
            "230/230 [==============================] - 1s 3ms/step - loss: 4.9341 - accuracy: 0.5967\n",
            "Epoch 14/30\n",
            "230/230 [==============================] - 1s 3ms/step - loss: 4.6117 - accuracy: 0.6242\n",
            "Epoch 15/30\n",
            "230/230 [==============================] - 1s 3ms/step - loss: 4.1115 - accuracy: 0.6189\n",
            "Epoch 16/30\n",
            "230/230 [==============================] - 1s 3ms/step - loss: 3.8832 - accuracy: 0.6207\n",
            "Epoch 17/30\n",
            "230/230 [==============================] - 1s 4ms/step - loss: 3.5059 - accuracy: 0.6285\n",
            "Epoch 18/30\n",
            "230/230 [==============================] - 1s 4ms/step - loss: 4.5281 - accuracy: 0.6329\n",
            "Epoch 19/30\n",
            "230/230 [==============================] - 1s 4ms/step - loss: 3.7403 - accuracy: 0.6464\n",
            "Epoch 20/30\n",
            "230/230 [==============================] - 1s 3ms/step - loss: 5.5595 - accuracy: 0.6098\n",
            "Epoch 21/30\n",
            "230/230 [==============================] - 1s 3ms/step - loss: 4.1775 - accuracy: 0.6355\n",
            "Epoch 22/30\n",
            "230/230 [==============================] - 1s 3ms/step - loss: 2.7270 - accuracy: 0.6582\n",
            "Epoch 23/30\n",
            "230/230 [==============================] - 1s 4ms/step - loss: 4.3697 - accuracy: 0.6355\n",
            "Epoch 24/30\n",
            "230/230 [==============================] - 1s 4ms/step - loss: 3.6641 - accuracy: 0.6604\n",
            "Epoch 25/30\n",
            "230/230 [==============================] - 1s 4ms/step - loss: 4.5564 - accuracy: 0.6399\n",
            "Epoch 26/30\n",
            "230/230 [==============================] - 1s 4ms/step - loss: 5.0008 - accuracy: 0.6159\n",
            "Epoch 27/30\n",
            "230/230 [==============================] - 1s 3ms/step - loss: 3.0479 - accuracy: 0.6630\n",
            "Epoch 28/30\n",
            "230/230 [==============================] - 1s 3ms/step - loss: 3.7579 - accuracy: 0.6342\n",
            "Epoch 29/30\n",
            "230/230 [==============================] - 1s 3ms/step - loss: 3.5400 - accuracy: 0.6495\n",
            "Epoch 30/30\n",
            "230/230 [==============================] - 1s 3ms/step - loss: 2.6889 - accuracy: 0.6665\n"
          ]
        },
        {
          "data": {
            "text/plain": [
              "<tensorflow.python.keras.callbacks.History at 0x23c1072f190>"
            ]
          },
          "execution_count": 89,
          "metadata": {},
          "output_type": "execute_result"
        }
      ],
      "source": [
        "n_inputs = X_train.shape[1]\n",
        "\n",
        "model = Sequential()\n",
        "model.add(Dense(12, input_dim=n_inputs, activation='relu'))\n",
        "model.add(Dense(8, activation='relu'))\n",
        "model.add(Dense(1, activation='sigmoid'))\n",
        "model.compile(loss='binary_crossentropy', optimizer='adam', metrics=['accuracy'])\n",
        "model.fit(X_train, y_train, epochs=30, batch_size=10)"
      ]
    },
    {
      "cell_type": "code",
      "execution_count": 90,
      "metadata": {
        "colab": {
          "base_uri": "https://localhost:8080/"
        },
        "id": "gDv47ckNqSTn",
        "outputId": "1950b971-e169-4af6-b5a1-55ef364c0bbe"
      },
      "outputs": [],
      "source": [
        "y_nn = model.predict(X_test)"
      ]
    },
    {
      "cell_type": "code",
      "execution_count": 91,
      "metadata": {
        "colab": {
          "base_uri": "https://localhost:8080/"
        },
        "id": "oTFs41SyMa38",
        "outputId": "179a9a66-f16d-42db-8705-62b15d7f4eb7"
      },
      "outputs": [
        {
          "name": "stdout",
          "output_type": "stream",
          "text": [
            "Accuracy: 0.6097560975609756\n",
            "Precision: 0.6814159292035398\n",
            "Recall: 0.5032679738562091\n"
          ]
        }
      ],
      "source": [
        "print(\"Accuracy:\",metrics.accuracy_score(y_test, y_nn.round()))\n",
        "print(\"Precision:\",metrics.precision_score(y_test, y_nn.round()))\n",
        "print(\"Recall:\",metrics.recall_score(y_test, y_nn.round()))"
      ]
    },
    {
      "cell_type": "code",
      "execution_count": 92,
      "metadata": {
        "colab": {
          "base_uri": "https://localhost:8080/",
          "height": 465
        },
        "id": "I4bvwvWzqSTn",
        "outputId": "78cfacb7-7f3a-4c25-9a6b-6d8a769fb0b7"
      },
      "outputs": [
        {
          "data": {
            "image/png": "[encoded data removed]",
            "text/plain": [
              "<Figure size 700x500 with 1 Axes>"
            ]
          },
          "metadata": {},
          "output_type": "display_data"
        }
      ],
      "source": [
        "auc = metrics.roc_auc_score(y_test, y_nn)\n",
        "auc = \"{:.3f}\".format(auc)\n",
        "fprNN, tprNN, _ = metrics.roc_curve(y_test, y_nn)\n",
        "plt.plot(fprNN, tprNN, label=\"AUC=\"+ auc)\n",
        "plt.plot([0,1],[0,1], 'k--')\n",
        "plt.ylabel('True Positive Rate')\n",
        "plt.xlabel('False Positive Rate')\n",
        "plt.legend(loc=4)\n",
        "plt.show()"
      ]
    },
    {
      "cell_type": "code",
      "execution_count": 93,
      "metadata": {
        "colab": {
          "base_uri": "https://localhost:8080/"
        },
        "id": "vY_-DHOIqSTn",
        "outputId": "d0d3a6e7-5bbb-4e8b-b01b-20d1f8a089ab"
      },
      "outputs": [
        {
          "name": "stdout",
          "output_type": "stream",
          "text": [
            "              precision    recall  f1-score   support\n",
            "\n",
            "           0       0.56      0.73      0.64       134\n",
            "           1       0.68      0.50      0.58       153\n",
            "\n",
            "    accuracy                           0.61       287\n",
            "   macro avg       0.62      0.62      0.61       287\n",
            "weighted avg       0.63      0.61      0.61       287\n",
            "\n"
          ]
        }
      ],
      "source": [
        "print(classification_report(y_test, y_nn.round(), labels=[0,1]))"
      ]
    },
    {
      "cell_type": "code",
      "execution_count": 94,
      "metadata": {
        "colab": {
          "base_uri": "https://localhost:8080/",
          "height": 483
        },
        "id": "zdbedszsqSTn",
        "outputId": "561e301d-858b-4b58-d903-d0f277dd6142"
      },
      "outputs": [
        {
          "data": {
            "text/plain": [
              "<sklearn.metrics._plot.confusion_matrix.ConfusionMatrixDisplay at 0x23c10822b80>"
            ]
          },
          "execution_count": 94,
          "metadata": {},
          "output_type": "execute_result"
        },
        {
          "data": {
            "image/png": "[encoded data removed]",
            "text/plain": [
              "<Figure size 700x500 with 2 Axes>"
            ]
          },
          "metadata": {},
          "output_type": "display_data"
        }
      ],
      "source": [
        "cm = confusion_matrix(y_test, y_nn.round())\n",
        "mat = ConfusionMatrixDisplay(confusion_matrix=cm)\n",
        "mat.plot()"
      ]
    },
    {
      "attachments": {},
      "cell_type": "markdown",
      "metadata": {
        "id": "vPRM3JjCske9"
      },
      "source": [
        "# Validation"
      ]
    },
    {
      "cell_type": "code",
      "execution_count": 95,
      "metadata": {
        "colab": {
          "base_uri": "https://localhost:8080/"
        },
        "id": "DNHLuBXxMHfn",
        "outputId": "d5861da4-8c21-4f33-fcc0-899a0769a273"
      },
      "outputs": [],
      "source": [
        "y_nn_val = model.predict(X_val)"
      ]
    },
    {
      "cell_type": "code",
      "execution_count": 96,
      "metadata": {
        "colab": {
          "base_uri": "https://localhost:8080/"
        },
        "id": "izHDv5wtMKkM",
        "outputId": "1806fe03-a3e2-4925-fdd4-8c9130e420fe"
      },
      "outputs": [
        {
          "name": "stdout",
          "output_type": "stream",
          "text": [
            "Accuracy: 0.6783216783216783\n",
            "Precision: 0.7304347826086957\n",
            "Recall: 0.5793103448275863\n"
          ]
        }
      ],
      "source": [
        "print(\"Accuracy:\",metrics.accuracy_score(y_val, y_nn_val.round()))\n",
        "print(\"Precision:\",metrics.precision_score(y_val, y_nn_val.round()))\n",
        "print(\"Recall:\",metrics.recall_score(y_val, y_nn_val.round()))"
      ]
    },
    {
      "cell_type": "code",
      "execution_count": 97,
      "metadata": {
        "colab": {
          "base_uri": "https://localhost:8080/",
          "height": 465
        },
        "id": "X1_xH_4CMvkA",
        "outputId": "e11204f8-843d-4e4f-f947-27f0701bec9d"
      },
      "outputs": [
        {
          "data": {
            "image/png": "[encoded data removed]",
            "text/plain": [
              "<Figure size 700x500 with 1 Axes>"
            ]
          },
          "metadata": {},
          "output_type": "display_data"
        }
      ],
      "source": [
        "aucval = metrics.roc_auc_score(y_val, y_nn_val)\n",
        "aucval = \"{:.3f}\".format(aucval)\n",
        "fprNNval, tprNNval, _ = metrics.roc_curve(y_val, y_nn_val)\n",
        "plt.plot(fprNN, tprNN, label=\"AUC Test = \"+ auc)\n",
        "plt.plot(fprNNval, tprNNval, label=\"AUC Vali = \"+ aucval)\n",
        "plt.plot([0,1],[0,1], 'k--')\n",
        "plt.ylabel('True Positive Rate')\n",
        "plt.xlabel('False Positive Rate')\n",
        "plt.legend(loc=4)\n",
        "plt.show()"
      ]
    }
  ],
  "metadata": {
    "colab": {
      "provenance": []
    },
    "kernelspec": {
      "display_name": "Python 3",
      "name": "python3"
    },
    "language_info": {
      "codemirror_mode": {
        "name": "ipython",
        "version": 3
      },
      "file_extension": ".py",
      "mimetype": "text/x-python",
      "name": "python",
      "nbconvert_exporter": "python",
      "pygments_lexer": "ipython3",
      "version": "3.8.13"
    }
  },
  "nbformat": 4,
  "nbformat_minor": 0
}
